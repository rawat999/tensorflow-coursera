{
  "nbformat": 4,
  "nbformat_minor": 0,
  "metadata": {
    "colab": {
      "name": "coursera_1304.ipynb",
      "provenance": [],
      "authorship_tag": "ABX9TyPEyZnX4on6NDaOvxyDXh2V",
      "include_colab_link": true
    },
    "kernelspec": {
      "name": "python3",
      "display_name": "Python 3"
    },
    "accelerator": "GPU"
  },
  "cells": [
    {
      "cell_type": "markdown",
      "metadata": {
        "id": "view-in-github",
        "colab_type": "text"
      },
      "source": [
        "<a href=\"https://colab.research.google.com/github/rawatpremsingh999/tensorflow-coursera/blob/master/coursera_1304.ipynb\" target=\"_parent\"><img src=\"https://colab.research.google.com/assets/colab-badge.svg\" alt=\"Open In Colab\"/></a>"
      ]
    },
    {
      "cell_type": "markdown",
      "metadata": {
        "id": "ZjVRnKcQmnBI"
      },
      "source": [
        "## Improving Computer Vision Accuracy using Convolutions Layers"
      ]
    },
    {
      "cell_type": "code",
      "metadata": {
        "id": "QLoom0VAnTn1"
      },
      "source": [
        "# import necessary libraries\r\n",
        "import tensorflow as tf\r\n",
        "from tensorflow import keras\r\n",
        "\r\n",
        "import numpy as np\r\n",
        "import matplotlib.pyplot as plt"
      ],
      "execution_count": 1,
      "outputs": []
    },
    {
      "cell_type": "markdown",
      "metadata": {
        "id": "cncnGiB0nHBk"
      },
      "source": [
        "### Using DNN (Deep Neural Network)"
      ]
    },
    {
      "cell_type": "code",
      "metadata": {
        "colab": {
          "base_uri": "https://localhost:8080/"
        },
        "id": "ciulPGWMm4kn",
        "outputId": "795fb489-3f4f-4911-9c44-9bd03e5a6205"
      },
      "source": [
        "# load data\r\n",
        "mnist = tf.keras.datasets.fashion_mnist\r\n",
        "(training_images,training_labels),(test_images,test_labels) = mnist.load_data()\r\n",
        "\r\n",
        "# normalising data\r\n",
        "training_images = training_images/255.0\r\n",
        "test_images = test_images/255.0\r\n",
        "\r\n",
        "# Design the model\r\n",
        "dnn_model = tf.keras.Sequential()\r\n",
        "dnn_model.add(keras.layers.Flatten())\r\n",
        "dnn_model.add(keras.layers.Dense(128,activation='relu'))\r\n",
        "dnn_model.add(keras.layers.Dense(10,activation='softmax'))\r\n",
        "\r\n",
        "# model compilation\r\n",
        "dnn_model.compile(optimizer='adam',loss='sparse_categorical_crossentropy',metrics=['accuracy'])\r\n",
        "\r\n",
        "# model training\r\n",
        "dnn_model.fit(training_images,training_labels,epochs=10)"
      ],
      "execution_count": 2,
      "outputs": [
        {
          "output_type": "stream",
          "text": [
            "Epoch 1/10\n",
            "1875/1875 [==============================] - 4s 2ms/step - loss: 0.6281 - accuracy: 0.7807\n",
            "Epoch 2/10\n",
            "1875/1875 [==============================] - 3s 2ms/step - loss: 0.3884 - accuracy: 0.8618\n",
            "Epoch 3/10\n",
            "1875/1875 [==============================] - 3s 2ms/step - loss: 0.3475 - accuracy: 0.8729\n",
            "Epoch 4/10\n",
            "1875/1875 [==============================] - 3s 2ms/step - loss: 0.3098 - accuracy: 0.8849\n",
            "Epoch 5/10\n",
            "1875/1875 [==============================] - 3s 2ms/step - loss: 0.2919 - accuracy: 0.8920\n",
            "Epoch 6/10\n",
            "1875/1875 [==============================] - 3s 2ms/step - loss: 0.2790 - accuracy: 0.8966\n",
            "Epoch 7/10\n",
            "1875/1875 [==============================] - 3s 2ms/step - loss: 0.2644 - accuracy: 0.9013\n",
            "Epoch 8/10\n",
            "1875/1875 [==============================] - 3s 2ms/step - loss: 0.2551 - accuracy: 0.9049\n",
            "Epoch 9/10\n",
            "1875/1875 [==============================] - 3s 2ms/step - loss: 0.2421 - accuracy: 0.9083\n",
            "Epoch 10/10\n",
            "1875/1875 [==============================] - 3s 2ms/step - loss: 0.2371 - accuracy: 0.9107\n"
          ],
          "name": "stdout"
        },
        {
          "output_type": "execute_result",
          "data": {
            "text/plain": [
              "<tensorflow.python.keras.callbacks.History at 0x7f16300ac780>"
            ]
          },
          "metadata": {
            "tags": []
          },
          "execution_count": 2
        }
      ]
    },
    {
      "cell_type": "code",
      "metadata": {
        "colab": {
          "base_uri": "https://localhost:8080/"
        },
        "id": "KhoQRLdPqZZg",
        "outputId": "4249b5d5-d6db-40b4-ee10-20ba3561e484"
      },
      "source": [
        "dnn_model.evaluate(test_images,test_labels)"
      ],
      "execution_count": 3,
      "outputs": [
        {
          "output_type": "stream",
          "text": [
            "313/313 [==============================] - 1s 2ms/step - loss: 0.3269 - accuracy: 0.8859\n"
          ],
          "name": "stdout"
        },
        {
          "output_type": "execute_result",
          "data": {
            "text/plain": [
              "[0.3268657326698303, 0.8859000205993652]"
            ]
          },
          "metadata": {
            "tags": []
          },
          "execution_count": 3
        }
      ]
    },
    {
      "cell_type": "code",
      "metadata": {
        "colab": {
          "base_uri": "https://localhost:8080/"
        },
        "id": "3U2K8JX_qvKl",
        "outputId": "79820299-ef0e-4abc-ccdc-9125ff780159"
      },
      "source": [
        "dnn_model.summary()"
      ],
      "execution_count": 4,
      "outputs": [
        {
          "output_type": "stream",
          "text": [
            "Model: \"sequential\"\n",
            "_________________________________________________________________\n",
            "Layer (type)                 Output Shape              Param #   \n",
            "=================================================================\n",
            "flatten (Flatten)            (None, 784)               0         \n",
            "_________________________________________________________________\n",
            "dense (Dense)                (None, 128)               100480    \n",
            "_________________________________________________________________\n",
            "dense_1 (Dense)              (None, 10)                1290      \n",
            "=================================================================\n",
            "Total params: 101,770\n",
            "Trainable params: 101,770\n",
            "Non-trainable params: 0\n",
            "_________________________________________________________________\n"
          ],
          "name": "stdout"
        }
      ]
    },
    {
      "cell_type": "markdown",
      "metadata": {
        "id": "muC7ZZwBrPh0"
      },
      "source": [
        "## CNN (Convolution Neural Network)"
      ]
    },
    {
      "cell_type": "markdown",
      "metadata": {
        "id": "G3uIKTY2rvLL"
      },
      "source": [
        "**NOTE:**\r\n",
        "\r\n",
        "*   Convolutions narrow down the content of the image to focus on specific, distinct, details.\r\n",
        "*   we take an array (usually 3x3 or 5x5) and pass it over the image. By changing the underlying pixels based on the formula within that matrix, we can do things like edge detection\r\n",
        "*   we will just train on the highlighted features.\r\n",
        "*   **Convolutional Neural Networks:** Add some layers to do convolution before we have the dense layers, and then the information going to the dense layers is more focussed, and possibly more accurate."
      ]
    },
    {
      "cell_type": "code",
      "metadata": {
        "colab": {
          "base_uri": "https://localhost:8080/"
        },
        "id": "Qb_vanaprOMR",
        "outputId": "0d82f1f6-b5cc-4b06-9601-4dbb9f30d5a1"
      },
      "source": [
        "# load data\r\n",
        "mnist = tf.keras.datasets.fashion_mnist\r\n",
        "(training_images,training_labels),(test_images,test_labels) = mnist.load_data()\r\n",
        "\r\n",
        "# Reshape 2-D image in 4-D tensor\r\n",
        "training_images = training_images.reshape(60000,28,28,1)\r\n",
        "test_images     = test_images.reshape(10000,28,28,1)\r\n",
        "\r\n",
        "# normalising data\r\n",
        "training_images = training_images/255.0\r\n",
        "test_images = test_images/255.0\r\n",
        "\r\n",
        "# Design Network\r\n",
        "model = keras.Sequential()\r\n",
        "model.add(keras.layers.Conv2D(64,3,activation='relu',input_shape=(28,28,1)))\r\n",
        "model.add(keras.layers.MaxPooling2D(2,2))\r\n",
        "model.add(keras.layers.Conv2D(64,3,activation='relu'))\r\n",
        "model.add(keras.layers.MaxPooling2D(2,2))\r\n",
        "\r\n",
        "model.add(keras.layers.Flatten())\r\n",
        "model.add(keras.layers.Dense(128,activation='relu'))\r\n",
        "model.add(keras.layers.Dense(10,activation='softmax'))\r\n",
        "\r\n",
        "\r\n",
        "# Define model compilation\r\n",
        "model.compile(optimizer='adam',loss='sparse_categorical_crossentropy',metrics=['accuracy'])\r\n",
        "\r\n",
        "# Train model\r\n",
        "model.fit(training_images,training_labels,epochs=10)"
      ],
      "execution_count": 5,
      "outputs": [
        {
          "output_type": "stream",
          "text": [
            "Epoch 1/10\n",
            "1875/1875 [==============================] - 6s 2ms/step - loss: 0.5921 - accuracy: 0.7854\n",
            "Epoch 2/10\n",
            "1875/1875 [==============================] - 4s 2ms/step - loss: 0.2995 - accuracy: 0.8889\n",
            "Epoch 3/10\n",
            "1875/1875 [==============================] - 4s 2ms/step - loss: 0.2542 - accuracy: 0.9069\n",
            "Epoch 4/10\n",
            "1875/1875 [==============================] - 4s 2ms/step - loss: 0.2130 - accuracy: 0.9212\n",
            "Epoch 5/10\n",
            "1875/1875 [==============================] - 4s 2ms/step - loss: 0.1888 - accuracy: 0.9301\n",
            "Epoch 6/10\n",
            "1875/1875 [==============================] - 4s 2ms/step - loss: 0.1631 - accuracy: 0.9388\n",
            "Epoch 7/10\n",
            "1875/1875 [==============================] - 4s 2ms/step - loss: 0.1432 - accuracy: 0.9460\n",
            "Epoch 8/10\n",
            "1875/1875 [==============================] - 4s 2ms/step - loss: 0.1267 - accuracy: 0.9529\n",
            "Epoch 9/10\n",
            "1875/1875 [==============================] - 4s 2ms/step - loss: 0.1060 - accuracy: 0.9604\n",
            "Epoch 10/10\n",
            "1875/1875 [==============================] - 4s 2ms/step - loss: 0.0937 - accuracy: 0.9649\n"
          ],
          "name": "stdout"
        },
        {
          "output_type": "execute_result",
          "data": {
            "text/plain": [
              "<tensorflow.python.keras.callbacks.History at 0x7f1620457c88>"
            ]
          },
          "metadata": {
            "tags": []
          },
          "execution_count": 5
        }
      ]
    },
    {
      "cell_type": "code",
      "metadata": {
        "colab": {
          "base_uri": "https://localhost:8080/"
        },
        "id": "zF38Xp_Nqzn4",
        "outputId": "0e9d648f-ad52-45a2-8038-8456a2fe6b4c"
      },
      "source": [
        "# Test loss and accuracy\r\n",
        "model.evaluate(test_images,test_labels)"
      ],
      "execution_count": 6,
      "outputs": [
        {
          "output_type": "stream",
          "text": [
            "313/313 [==============================] - 1s 2ms/step - loss: 0.3265 - accuracy: 0.9089\n"
          ],
          "name": "stdout"
        },
        {
          "output_type": "execute_result",
          "data": {
            "text/plain": [
              "[0.32652023434638977, 0.9089000225067139]"
            ]
          },
          "metadata": {
            "tags": []
          },
          "execution_count": 6
        }
      ]
    },
    {
      "cell_type": "code",
      "metadata": {
        "colab": {
          "base_uri": "https://localhost:8080/"
        },
        "id": "pyj4vYJBzRKv",
        "outputId": "92aee837-345f-4dd7-f5f8-ee9f0494df9a"
      },
      "source": [
        "# model architecture\r\n",
        "model.summary()"
      ],
      "execution_count": 7,
      "outputs": [
        {
          "output_type": "stream",
          "text": [
            "Model: \"sequential_1\"\n",
            "_________________________________________________________________\n",
            "Layer (type)                 Output Shape              Param #   \n",
            "=================================================================\n",
            "conv2d (Conv2D)              (None, 26, 26, 64)        640       \n",
            "_________________________________________________________________\n",
            "max_pooling2d (MaxPooling2D) (None, 13, 13, 64)        0         \n",
            "_________________________________________________________________\n",
            "conv2d_1 (Conv2D)            (None, 11, 11, 64)        36928     \n",
            "_________________________________________________________________\n",
            "max_pooling2d_1 (MaxPooling2 (None, 5, 5, 64)          0         \n",
            "_________________________________________________________________\n",
            "flatten_1 (Flatten)          (None, 1600)              0         \n",
            "_________________________________________________________________\n",
            "dense_2 (Dense)              (None, 128)               204928    \n",
            "_________________________________________________________________\n",
            "dense_3 (Dense)              (None, 10)                1290      \n",
            "=================================================================\n",
            "Total params: 243,786\n",
            "Trainable params: 243,786\n",
            "Non-trainable params: 0\n",
            "_________________________________________________________________\n"
          ],
          "name": "stdout"
        }
      ]
    },
    {
      "cell_type": "markdown",
      "metadata": {
        "id": "G5fYKFeN7P8Q"
      },
      "source": [
        "## Visualising the Convolutions and Poolings"
      ]
    },
    {
      "cell_type": "markdown",
      "metadata": {
        "id": "A53XkyoI8BID"
      },
      "source": [
        "\r\n",
        "\r\n",
        "*   print(test_labels[:100]) shows us the first 100 labels in the test set\r\n",
        "*   take index 2,3,5 and 97 (all labels are 1)\r\n",
        "\r\n"
      ]
    },
    {
      "cell_type": "code",
      "metadata": {
        "colab": {
          "base_uri": "https://localhost:8080/"
        },
        "id": "Vfp2mjemzWbT",
        "outputId": "53394470-7562-4069-d543-4537486f78b3"
      },
      "source": [
        "print(test_labels[:100])"
      ],
      "execution_count": 8,
      "outputs": [
        {
          "output_type": "stream",
          "text": [
            "[9 2 1 1 6 1 4 6 5 7 4 5 7 3 4 1 2 4 8 0 2 5 7 9 1 4 6 0 9 3 8 8 3 3 8 0 7\n",
            " 5 7 9 6 1 3 7 6 7 2 1 2 2 4 4 5 8 2 2 8 4 8 0 7 7 8 5 1 1 2 3 9 8 7 0 2 6\n",
            " 2 3 1 2 8 4 1 8 5 9 5 0 3 2 0 6 5 3 6 7 1 8 0 1 4 2]\n"
          ],
          "name": "stdout"
        }
      ]
    },
    {
      "cell_type": "code",
      "metadata": {
        "colab": {
          "base_uri": "https://localhost:8080/",
          "height": 268
        },
        "id": "937qR6U18cNG",
        "outputId": "fdf979f4-a9d1-4681-cb7d-1bbd7289c03b"
      },
      "source": [
        "f, axarr = plt.subplots(4,4)\r\n",
        "\r\n",
        "FIRST_IMAGE=2\r\n",
        "SECOND_IMAGE=3\r\n",
        "THIRD_IMAGE=5\r\n",
        "FOURTH_IMAGE=97\r\n",
        "\r\n",
        "CONVOLUTION_NUMBER = 1\r\n",
        "\r\n",
        "layer_outputs = [layer.output for layer in model.layers]\r\n",
        "activation_model = keras.models.Model(inputs = model.input, outputs = layer_outputs)\r\n",
        "\r\n",
        "for x in range(0,4):\r\n",
        "  f1 = activation_model.predict(test_images[FIRST_IMAGE].reshape(1, 28, 28, 1))[x]\r\n",
        "  axarr[0,x].imshow(f1[0, : , :, CONVOLUTION_NUMBER], cmap='inferno')\r\n",
        "  axarr[0,x].grid(False)\r\n",
        "  f2 = activation_model.predict(test_images[SECOND_IMAGE].reshape(1, 28, 28, 1))[x]\r\n",
        "  axarr[1,x].imshow(f2[0, : , :, CONVOLUTION_NUMBER], cmap='inferno')\r\n",
        "  axarr[1,x].grid(False)\r\n",
        "  f3 = activation_model.predict(test_images[THIRD_IMAGE].reshape(1, 28, 28, 1))[x]\r\n",
        "  axarr[2,x].imshow(f3[0, : , :, CONVOLUTION_NUMBER], cmap='inferno')\r\n",
        "  axarr[2,x].grid(False)\r\n",
        "  f4 = activation_model.predict(test_images[FOURTH_IMAGE].reshape(1, 28, 28, 1))[x]\r\n",
        "  axarr[3,x].imshow(f4[0, : , :, CONVOLUTION_NUMBER], cmap='inferno')\r\n",
        "  axarr[3,x].grid(False)"
      ],
      "execution_count": 9,
      "outputs": [
        {
          "output_type": "display_data",
          "data": {
            "image/png": "[encoded data removed]",
            "text/plain": [
              "<Figure size 432x288 with 16 Axes>"
            ]
          },
          "metadata": {
            "tags": [],
            "needs_background": "light"
          }
        }
      ]
    },
    {
      "cell_type": "markdown",
      "metadata": {
        "id": "zD_j-zqmDHGz"
      },
      "source": [
        "## Play with different number of filters ( 32 or 16)"
      ]
    },
    {
      "cell_type": "code",
      "metadata": {
        "colab": {
          "base_uri": "https://localhost:8080/"
        },
        "id": "8UMwOOZfCJ4Q",
        "outputId": "f8ae87d7-ec3a-4875-cfaf-19b81ccc623f"
      },
      "source": [
        "# load data\r\n",
        "mnist = tf.keras.datasets.fashion_mnist\r\n",
        "(training_images,training_labels),(test_images,test_labels) = mnist.load_data()\r\n",
        "\r\n",
        "# Reshape 2-D image in 4-D tensor\r\n",
        "training_images = training_images.reshape(60000,28,28,1)\r\n",
        "test_images     = test_images.reshape(10000,28,28,1)\r\n",
        "\r\n",
        "# normalising data\r\n",
        "training_images = training_images/255.0\r\n",
        "test_images = test_images/255.0\r\n",
        "\r\n",
        "# Design Network\r\n",
        "model = keras.Sequential([keras.layers.Conv2D(32,3,activation='relu',input_shape=(28,28,1)),\r\n",
        "                          keras.layers.MaxPooling2D(pool_size=(2,2)),\r\n",
        "                          keras.layers.Conv2D(32,3,activation='relu'),\r\n",
        "                          keras.layers.MaxPooling2D(pool_size=(2,2)),\r\n",
        "                          keras.layers.Flatten(),\r\n",
        "                          keras.layers.Dense(64,activation='relu'),\r\n",
        "                          keras.layers.Dense(10,activation='softmax')\r\n",
        "                          ])\r\n",
        "\r\n",
        "# model compilation\r\n",
        "model.compile(optimizer='adam',loss='sparse_categorical_crossentropy',metrics=['accuracy'])\r\n",
        "\r\n",
        "# model summary\r\n",
        "model.summary()"
      ],
      "execution_count": 10,
      "outputs": [
        {
          "output_type": "stream",
          "text": [
            "Model: \"sequential_2\"\n",
            "_________________________________________________________________\n",
            "Layer (type)                 Output Shape              Param #   \n",
            "=================================================================\n",
            "conv2d_2 (Conv2D)            (None, 26, 26, 32)        320       \n",
            "_________________________________________________________________\n",
            "max_pooling2d_2 (MaxPooling2 (None, 13, 13, 32)        0         \n",
            "_________________________________________________________________\n",
            "conv2d_3 (Conv2D)            (None, 11, 11, 32)        9248      \n",
            "_________________________________________________________________\n",
            "max_pooling2d_3 (MaxPooling2 (None, 5, 5, 32)          0         \n",
            "_________________________________________________________________\n",
            "flatten_2 (Flatten)          (None, 800)               0         \n",
            "_________________________________________________________________\n",
            "dense_4 (Dense)              (None, 64)                51264     \n",
            "_________________________________________________________________\n",
            "dense_5 (Dense)              (None, 10)                650       \n",
            "=================================================================\n",
            "Total params: 61,482\n",
            "Trainable params: 61,482\n",
            "Non-trainable params: 0\n",
            "_________________________________________________________________\n"
          ],
          "name": "stdout"
        }
      ]
    },
    {
      "cell_type": "code",
      "metadata": {
        "colab": {
          "base_uri": "https://localhost:8080/"
        },
        "id": "L00r7wudFUlu",
        "outputId": "eb8de5ef-fa18-4540-a167-daeab4b7547f"
      },
      "source": [
        "# train the model\r\n",
        "model.fit(training_images,training_labels,epochs=10)"
      ],
      "execution_count": 11,
      "outputs": [
        {
          "output_type": "stream",
          "text": [
            "Epoch 1/10\n",
            "1875/1875 [==============================] - 4s 2ms/step - loss: 0.6931 - accuracy: 0.7471\n",
            "Epoch 2/10\n",
            "1875/1875 [==============================] - 4s 2ms/step - loss: 0.3474 - accuracy: 0.8754\n",
            "Epoch 3/10\n",
            "1875/1875 [==============================] - 4s 2ms/step - loss: 0.2907 - accuracy: 0.8940\n",
            "Epoch 4/10\n",
            "1875/1875 [==============================] - 4s 2ms/step - loss: 0.2602 - accuracy: 0.9059\n",
            "Epoch 5/10\n",
            "1875/1875 [==============================] - 4s 2ms/step - loss: 0.2359 - accuracy: 0.9110\n",
            "Epoch 6/10\n",
            "1875/1875 [==============================] - 4s 2ms/step - loss: 0.2146 - accuracy: 0.9208\n",
            "Epoch 7/10\n",
            "1875/1875 [==============================] - 4s 2ms/step - loss: 0.1976 - accuracy: 0.9247\n",
            "Epoch 8/10\n",
            "1875/1875 [==============================] - 4s 2ms/step - loss: 0.1802 - accuracy: 0.9333\n",
            "Epoch 9/10\n",
            "1875/1875 [==============================] - 4s 2ms/step - loss: 0.1728 - accuracy: 0.9356\n",
            "Epoch 10/10\n",
            "1875/1875 [==============================] - 4s 2ms/step - loss: 0.1604 - accuracy: 0.9390\n"
          ],
          "name": "stdout"
        },
        {
          "output_type": "execute_result",
          "data": {
            "text/plain": [
              "<tensorflow.python.keras.callbacks.History at 0x7f15d159cc50>"
            ]
          },
          "metadata": {
            "tags": []
          },
          "execution_count": 11
        }
      ]
    },
    {
      "cell_type": "code",
      "metadata": {
        "colab": {
          "base_uri": "https://localhost:8080/"
        },
        "id": "5zb9p3vZFr2k",
        "outputId": "5b78f31e-ca03-42d7-805d-06f46505863a"
      },
      "source": [
        "# model evaluation\r\n",
        "model.evaluate(test_images,test_labels)"
      ],
      "execution_count": 12,
      "outputs": [
        {
          "output_type": "stream",
          "text": [
            "313/313 [==============================] - 1s 2ms/step - loss: 0.2880 - accuracy: 0.9006\n"
          ],
          "name": "stdout"
        },
        {
          "output_type": "execute_result",
          "data": {
            "text/plain": [
              "[0.28795650601387024, 0.900600016117096]"
            ]
          },
          "metadata": {
            "tags": []
          },
          "execution_count": 12
        }
      ]
    },
    {
      "cell_type": "markdown",
      "metadata": {
        "id": "1Dagc3ljGS6r"
      },
      "source": [
        "## Add more convolution"
      ]
    },
    {
      "cell_type": "code",
      "metadata": {
        "colab": {
          "base_uri": "https://localhost:8080/"
        },
        "id": "OEv-2duVGAIG",
        "outputId": "371278e1-6c04-462a-d15e-a560cee40eff"
      },
      "source": [
        "# load data\r\n",
        "mnist = tf.keras.datasets.fashion_mnist\r\n",
        "(training_images,training_labels),(test_images,test_labels) = mnist.load_data()\r\n",
        "\r\n",
        "# Reshape 2-D image in 4-D tensor\r\n",
        "training_images = training_images.reshape(60000,28,28,1)\r\n",
        "test_images     = test_images.reshape(10000,28,28,1)\r\n",
        "\r\n",
        "# normalising data\r\n",
        "training_images = training_images/255.0\r\n",
        "test_images = test_images/255.0\r\n",
        "\r\n",
        "# Design Network\r\n",
        "model = keras.Sequential([keras.layers.Conv2D(64,3,activation='relu',input_shape=(28,28,1)),\r\n",
        "                          keras.layers.MaxPooling2D(pool_size=(2,2)),\r\n",
        "                          keras.layers.Conv2D(64,3,activation='relu'),\r\n",
        "                          keras.layers.MaxPooling2D(pool_size=(2,2)),\r\n",
        "                          keras.layers.Conv2D(64,3,activation='relu'),\r\n",
        "                          keras.layers.AveragePooling2D((2,2)),\r\n",
        "                          keras.layers.Flatten(),\r\n",
        "                          keras.layers.Dense(64,activation='relu'),\r\n",
        "                          keras.layers.Dense(10,activation='softmax')\r\n",
        "                          ])\r\n",
        "\r\n",
        "# model compilation\r\n",
        "model.compile(optimizer='adam',loss='sparse_categorical_crossentropy',metrics=['accuracy'])\r\n",
        "\r\n",
        "# model summary\r\n",
        "model.summary()"
      ],
      "execution_count": 13,
      "outputs": [
        {
          "output_type": "stream",
          "text": [
            "Model: \"sequential_3\"\n",
            "_________________________________________________________________\n",
            "Layer (type)                 Output Shape              Param #   \n",
            "=================================================================\n",
            "conv2d_4 (Conv2D)            (None, 26, 26, 64)        640       \n",
            "_________________________________________________________________\n",
            "max_pooling2d_4 (MaxPooling2 (None, 13, 13, 64)        0         \n",
            "_________________________________________________________________\n",
            "conv2d_5 (Conv2D)            (None, 11, 11, 64)        36928     \n",
            "_________________________________________________________________\n",
            "max_pooling2d_5 (MaxPooling2 (None, 5, 5, 64)          0         \n",
            "_________________________________________________________________\n",
            "conv2d_6 (Conv2D)            (None, 3, 3, 64)          36928     \n",
            "_________________________________________________________________\n",
            "average_pooling2d (AveragePo (None, 1, 1, 64)          0         \n",
            "_________________________________________________________________\n",
            "flatten_3 (Flatten)          (None, 64)                0         \n",
            "_________________________________________________________________\n",
            "dense_6 (Dense)              (None, 64)                4160      \n",
            "_________________________________________________________________\n",
            "dense_7 (Dense)              (None, 10)                650       \n",
            "=================================================================\n",
            "Total params: 79,306\n",
            "Trainable params: 79,306\n",
            "Non-trainable params: 0\n",
            "_________________________________________________________________\n"
          ],
          "name": "stdout"
        }
      ]
    },
    {
      "cell_type": "code",
      "metadata": {
        "colab": {
          "base_uri": "https://localhost:8080/"
        },
        "id": "d2wsNh6XHnNm",
        "outputId": "08ebc4b9-9055-4863-8ff2-924f5096da71"
      },
      "source": [
        "# train the model\r\n",
        "model.fit(training_images,training_labels,epochs=10)"
      ],
      "execution_count": 14,
      "outputs": [
        {
          "output_type": "stream",
          "text": [
            "Epoch 1/10\n",
            "1875/1875 [==============================] - 5s 2ms/step - loss: 0.8683 - accuracy: 0.6727\n",
            "Epoch 2/10\n",
            "1875/1875 [==============================] - 4s 2ms/step - loss: 0.4570 - accuracy: 0.8345\n",
            "Epoch 3/10\n",
            "1875/1875 [==============================] - 4s 2ms/step - loss: 0.3770 - accuracy: 0.8588\n",
            "Epoch 4/10\n",
            "1875/1875 [==============================] - 4s 2ms/step - loss: 0.3351 - accuracy: 0.8766\n",
            "Epoch 5/10\n",
            "1875/1875 [==============================] - 4s 2ms/step - loss: 0.3017 - accuracy: 0.8878\n",
            "Epoch 6/10\n",
            "1875/1875 [==============================] - 4s 2ms/step - loss: 0.2816 - accuracy: 0.8963\n",
            "Epoch 7/10\n",
            "1875/1875 [==============================] - 4s 2ms/step - loss: 0.2553 - accuracy: 0.9059\n",
            "Epoch 8/10\n",
            "1875/1875 [==============================] - 4s 2ms/step - loss: 0.2463 - accuracy: 0.9077\n",
            "Epoch 9/10\n",
            "1875/1875 [==============================] - 4s 2ms/step - loss: 0.2279 - accuracy: 0.9142\n",
            "Epoch 10/10\n",
            "1875/1875 [==============================] - 4s 2ms/step - loss: 0.2125 - accuracy: 0.9193\n"
          ],
          "name": "stdout"
        },
        {
          "output_type": "execute_result",
          "data": {
            "text/plain": [
              "<tensorflow.python.keras.callbacks.History at 0x7f15d0776208>"
            ]
          },
          "metadata": {
            "tags": []
          },
          "execution_count": 14
        }
      ]
    },
    {
      "cell_type": "code",
      "metadata": {
        "colab": {
          "base_uri": "https://localhost:8080/"
        },
        "id": "w5NFy_51HO3X",
        "outputId": "2ff002c3-f67c-42a5-8c0a-df004d62b07d"
      },
      "source": [
        "# model evaluation\r\n",
        "model.evaluate(test_images,test_labels)"
      ],
      "execution_count": 15,
      "outputs": [
        {
          "output_type": "stream",
          "text": [
            "313/313 [==============================] - 1s 2ms/step - loss: 0.3024 - accuracy: 0.8920\n"
          ],
          "name": "stdout"
        },
        {
          "output_type": "execute_result",
          "data": {
            "text/plain": [
              "[0.3024091422557831, 0.8920000195503235]"
            ]
          },
          "metadata": {
            "tags": []
          },
          "execution_count": 15
        }
      ]
    },
    {
      "cell_type": "markdown",
      "metadata": {
        "id": "ZBy3RTY6H_kd"
      },
      "source": [
        "## Experiment with single convolution layer"
      ]
    },
    {
      "cell_type": "code",
      "metadata": {
        "colab": {
          "base_uri": "https://localhost:8080/"
        },
        "id": "BmXgAE8fHmNC",
        "outputId": "62996f86-ada9-4b5f-87ce-bd782e246dbc"
      },
      "source": [
        "# load data\r\n",
        "mnist = tf.keras.datasets.fashion_mnist\r\n",
        "(training_images,training_labels),(test_images,test_labels) = mnist.load_data()\r\n",
        "\r\n",
        "# Reshape 2-D image in 4-D tensor\r\n",
        "training_images = training_images.reshape(60000,28,28,1)\r\n",
        "test_images     = test_images.reshape(10000,28,28,1)\r\n",
        "\r\n",
        "# normalising data\r\n",
        "training_images = training_images/255.0\r\n",
        "test_images = test_images/255.0\r\n",
        "\r\n",
        "# Design Network\r\n",
        "model = keras.Sequential([keras.layers.Conv2D(64,3,activation='relu',input_shape=(28,28,1)),\r\n",
        "                          keras.layers.MaxPooling2D(pool_size=(2,2)),\r\n",
        "                          keras.layers.Flatten(),\r\n",
        "                          keras.layers.Dense(128,activation='relu'),\r\n",
        "                          keras.layers.Dense(10,activation='softmax')\r\n",
        "                          ])\r\n",
        "\r\n",
        "# model compilation\r\n",
        "model.compile(optimizer='adam',loss='sparse_categorical_crossentropy',metrics=['accuracy'])\r\n",
        "\r\n",
        "# model summary\r\n",
        "model.summary()"
      ],
      "execution_count": 16,
      "outputs": [
        {
          "output_type": "stream",
          "text": [
            "Model: \"sequential_4\"\n",
            "_________________________________________________________________\n",
            "Layer (type)                 Output Shape              Param #   \n",
            "=================================================================\n",
            "conv2d_7 (Conv2D)            (None, 26, 26, 64)        640       \n",
            "_________________________________________________________________\n",
            "max_pooling2d_6 (MaxPooling2 (None, 13, 13, 64)        0         \n",
            "_________________________________________________________________\n",
            "flatten_4 (Flatten)          (None, 10816)             0         \n",
            "_________________________________________________________________\n",
            "dense_8 (Dense)              (None, 128)               1384576   \n",
            "_________________________________________________________________\n",
            "dense_9 (Dense)              (None, 10)                1290      \n",
            "=================================================================\n",
            "Total params: 1,386,506\n",
            "Trainable params: 1,386,506\n",
            "Non-trainable params: 0\n",
            "_________________________________________________________________\n"
          ],
          "name": "stdout"
        }
      ]
    },
    {
      "cell_type": "code",
      "metadata": {
        "colab": {
          "base_uri": "https://localhost:8080/"
        },
        "id": "A_OsdK4JHZQw",
        "outputId": "fe9e0852-5eab-40ac-b490-f1cf093ad9c7"
      },
      "source": [
        "# train the model\r\n",
        "model.fit(training_images,training_labels,epochs=10)"
      ],
      "execution_count": 17,
      "outputs": [
        {
          "output_type": "stream",
          "text": [
            "Epoch 1/10\n",
            "1875/1875 [==============================] - 4s 2ms/step - loss: 0.5120 - accuracy: 0.8167\n",
            "Epoch 2/10\n",
            "1875/1875 [==============================] - 4s 2ms/step - loss: 0.2655 - accuracy: 0.9031\n",
            "Epoch 3/10\n",
            "1875/1875 [==============================] - 4s 2ms/step - loss: 0.2143 - accuracy: 0.9212\n",
            "Epoch 4/10\n",
            "1875/1875 [==============================] - 4s 2ms/step - loss: 0.1765 - accuracy: 0.9351\n",
            "Epoch 5/10\n",
            "1875/1875 [==============================] - 4s 2ms/step - loss: 0.1509 - accuracy: 0.9441\n",
            "Epoch 6/10\n",
            "1875/1875 [==============================] - 4s 2ms/step - loss: 0.1229 - accuracy: 0.9551\n",
            "Epoch 7/10\n",
            "1875/1875 [==============================] - 4s 2ms/step - loss: 0.0971 - accuracy: 0.9641\n",
            "Epoch 8/10\n",
            "1875/1875 [==============================] - 4s 2ms/step - loss: 0.0832 - accuracy: 0.9698\n",
            "Epoch 9/10\n",
            "1875/1875 [==============================] - 4s 2ms/step - loss: 0.0667 - accuracy: 0.9754\n",
            "Epoch 10/10\n",
            "1875/1875 [==============================] - 4s 2ms/step - loss: 0.0554 - accuracy: 0.9802\n"
          ],
          "name": "stdout"
        },
        {
          "output_type": "execute_result",
          "data": {
            "text/plain": [
              "<tensorflow.python.keras.callbacks.History at 0x7f15d065c6a0>"
            ]
          },
          "metadata": {
            "tags": []
          },
          "execution_count": 17
        }
      ]
    },
    {
      "cell_type": "code",
      "metadata": {
        "colab": {
          "base_uri": "https://localhost:8080/"
        },
        "id": "DNe8N6pyIlXI",
        "outputId": "7a933925-e6db-4042-f798-ee5c07c891bd"
      },
      "source": [
        "# model evaluation\r\n",
        "model.evaluate(test_images,test_labels)"
      ],
      "execution_count": 18,
      "outputs": [
        {
          "output_type": "stream",
          "text": [
            "313/313 [==============================] - 1s 2ms/step - loss: 0.3373 - accuracy: 0.9142\n"
          ],
          "name": "stdout"
        },
        {
          "output_type": "execute_result",
          "data": {
            "text/plain": [
              "[0.337332546710968, 0.9142000079154968]"
            ]
          },
          "metadata": {
            "tags": []
          },
          "execution_count": 18
        }
      ]
    },
    {
      "cell_type": "markdown",
      "metadata": {
        "id": "YvyeevjOJCwP"
      },
      "source": [
        "## **Stop Training** at certain level of accuracy"
      ]
    },
    {
      "cell_type": "code",
      "metadata": {
        "colab": {
          "base_uri": "https://localhost:8080/"
        },
        "id": "ORNKoQL_Izlq",
        "outputId": "993a7db4-cc37-47a6-b517-b47ffa86bfcd"
      },
      "source": [
        "# load data\r\n",
        "mnist = tf.keras.datasets.fashion_mnist\r\n",
        "(training_images,training_labels),(test_images,test_labels) = mnist.load_data()\r\n",
        "\r\n",
        "# Reshape 2-D image in 4-D tensor\r\n",
        "training_images = training_images.reshape(60000,28,28,1)\r\n",
        "test_images     = test_images.reshape(10000,28,28,1)\r\n",
        "\r\n",
        "# normalising data\r\n",
        "training_images = training_images/255.0\r\n",
        "test_images = test_images/255.0\r\n",
        "\r\n",
        "# Design stopping criterion - callback\r\n",
        "class mycallback(keras.callbacks.Callback):\r\n",
        "  def on_epoch_end(self,epoch,logs={}):\r\n",
        "    if(logs.get('accuracy')>0.98):\r\n",
        "      print(\"\\nReached at 98% accuracy so cancelling training!\")\r\n",
        "      self.model.stop_training = True\r\n",
        "\r\n",
        "callback = mycallback()\r\n",
        "\r\n",
        "\r\n",
        "# Design Network\r\n",
        "model = keras.Sequential([keras.layers.Conv2D(128,3,activation='relu',input_shape=(28,28,1)),\r\n",
        "                          keras.layers.MaxPooling2D(pool_size=(2,2)),\r\n",
        "                          keras.layers.Flatten(),\r\n",
        "                          keras.layers.Dense(128,activation='relu'),\r\n",
        "                          keras.layers.Dense(10,activation='softmax')\r\n",
        "                          ])\r\n",
        "\r\n",
        "# model compilation\r\n",
        "model.compile(optimizer='adam',loss='sparse_categorical_crossentropy',metrics=['accuracy'])\r\n",
        "\r\n",
        "# train the model\r\n",
        "model.fit(training_images,training_labels,epochs=50,callbacks=[callback])"
      ],
      "execution_count": 19,
      "outputs": [
        {
          "output_type": "stream",
          "text": [
            "Epoch 1/50\n",
            "1875/1875 [==============================] - 6s 3ms/step - loss: 0.4777 - accuracy: 0.8298\n",
            "Epoch 2/50\n",
            "1875/1875 [==============================] - 5s 3ms/step - loss: 0.2494 - accuracy: 0.9080\n",
            "Epoch 3/50\n",
            "1875/1875 [==============================] - 5s 3ms/step - loss: 0.1939 - accuracy: 0.9290\n",
            "Epoch 4/50\n",
            "1875/1875 [==============================] - 5s 3ms/step - loss: 0.1580 - accuracy: 0.9416\n",
            "Epoch 5/50\n",
            "1875/1875 [==============================] - 5s 3ms/step - loss: 0.1270 - accuracy: 0.9526\n",
            "Epoch 6/50\n",
            "1875/1875 [==============================] - 5s 3ms/step - loss: 0.1032 - accuracy: 0.9625\n",
            "Epoch 7/50\n",
            "1875/1875 [==============================] - 5s 3ms/step - loss: 0.0825 - accuracy: 0.9693\n",
            "Epoch 8/50\n",
            "1875/1875 [==============================] - 5s 3ms/step - loss: 0.0663 - accuracy: 0.9756\n",
            "Epoch 9/50\n",
            "1875/1875 [==============================] - 5s 3ms/step - loss: 0.0538 - accuracy: 0.9804\n",
            "Epoch 10/50\n",
            "1875/1875 [==============================] - 5s 3ms/step - loss: 0.0494 - accuracy: 0.9826\n",
            "\n",
            "Reached at 98% accuracy so cancelling training!\n"
          ],
          "name": "stdout"
        },
        {
          "output_type": "execute_result",
          "data": {
            "text/plain": [
              "<tensorflow.python.keras.callbacks.History at 0x7f15d05c7240>"
            ]
          },
          "metadata": {
            "tags": []
          },
          "execution_count": 19
        }
      ]
    },
    {
      "cell_type": "code",
      "metadata": {
        "colab": {
          "base_uri": "https://localhost:8080/"
        },
        "id": "FIogok1eK5dr",
        "outputId": "286f9c87-2183-462b-9286-4d9127839faa"
      },
      "source": [
        "# model evaluation\r\n",
        "model.evaluate(test_images,test_labels)"
      ],
      "execution_count": 20,
      "outputs": [
        {
          "output_type": "stream",
          "text": [
            "313/313 [==============================] - 1s 2ms/step - loss: 0.3809 - accuracy: 0.9120\n"
          ],
          "name": "stdout"
        },
        {
          "output_type": "execute_result",
          "data": {
            "text/plain": [
              "[0.38087189197540283, 0.9120000004768372]"
            ]
          },
          "metadata": {
            "tags": []
          },
          "execution_count": 20
        }
      ]
    },
    {
      "cell_type": "code",
      "metadata": {
        "colab": {
          "base_uri": "https://localhost:8080/"
        },
        "id": "M_-M3yGFMQJm",
        "outputId": "d8b54d87-73bf-441d-8516-b7be1aace6fc"
      },
      "source": [
        "# model summary\r\n",
        "model.summary()"
      ],
      "execution_count": 21,
      "outputs": [
        {
          "output_type": "stream",
          "text": [
            "Model: \"sequential_5\"\n",
            "_________________________________________________________________\n",
            "Layer (type)                 Output Shape              Param #   \n",
            "=================================================================\n",
            "conv2d_8 (Conv2D)            (None, 26, 26, 128)       1280      \n",
            "_________________________________________________________________\n",
            "max_pooling2d_7 (MaxPooling2 (None, 13, 13, 128)       0         \n",
            "_________________________________________________________________\n",
            "flatten_5 (Flatten)          (None, 21632)             0         \n",
            "_________________________________________________________________\n",
            "dense_10 (Dense)             (None, 128)               2769024   \n",
            "_________________________________________________________________\n",
            "dense_11 (Dense)             (None, 10)                1290      \n",
            "=================================================================\n",
            "Total params: 2,771,594\n",
            "Trainable params: 2,771,594\n",
            "Non-trainable params: 0\n",
            "_________________________________________________________________\n"
          ],
          "name": "stdout"
        }
      ]
    }
  ]
}
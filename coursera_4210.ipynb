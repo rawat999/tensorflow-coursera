{
  "nbformat": 4,
  "nbformat_minor": 0,
  "metadata": {
    "colab": {
      "name": "coursera_4210.ipynb",
      "provenance": [],
      "authorship_tag": "ABX9TyMbaXy/54LsnN0jUL05r2Vr",
      "include_colab_link": true
    },
    "kernelspec": {
      "name": "python3",
      "display_name": "Python 3"
    },
    "language_info": {
      "name": "python"
    }
  },
  "cells": [
    {
      "cell_type": "markdown",
      "metadata": {
        "id": "view-in-github",
        "colab_type": "text"
      },
      "source": [
        "<a href=\"https://colab.research.google.com/github/rawatpremsingh999/tensorflow-coursera/blob/master/coursera_4210.ipynb\" target=\"_parent\"><img src=\"https://colab.research.google.com/assets/colab-badge.svg\" alt=\"Open In Colab\"/></a>"
      ]
    },
    {
      "cell_type": "code",
      "metadata": {
        "colab": {
          "base_uri": "https://localhost:8080/"
        },
        "id": "c25eE79bAHoQ",
        "outputId": "28e13b2c-e6b9-4e32-b409-fa73c0115d26"
      },
      "source": [
        "import tensorflow as tf\n",
        "print(tf.__version__)"
      ],
      "execution_count": 1,
      "outputs": [
        {
          "output_type": "stream",
          "text": [
            "2.4.1\n"
          ],
          "name": "stdout"
        }
      ]
    },
    {
      "cell_type": "code",
      "metadata": {
        "id": "XW1q5HO_ATnH"
      },
      "source": [
        "import numpy as np\n",
        "import matplotlib.pyplot as plt"
      ],
      "execution_count": 2,
      "outputs": []
    },
    {
      "cell_type": "code",
      "metadata": {
        "id": "WKjW0NTxAgd7"
      },
      "source": [
        "def plot_series(time, series, format = '-', start = 0, end = None):\n",
        "  plt.plot(time[start:end], series[start:end], format)\n",
        "  plt.xlabel('Time')\n",
        "  plt.ylabel('Value')\n",
        "  plt.grid(True)\n",
        "\n",
        "def trend(time, slope = 0):\n",
        "  return slope * time\n",
        "\n",
        "\n",
        "def seasonal_pattern(season_time):\n",
        "  \"\"\"Just an arbitrary pattern, you can change it if you wish\"\"\"\n",
        "  return np.where(season_time < 0.4, np.cos(season_time * 2 * np.pi),\n",
        "                  1/np.exp(3 * season_time))\n",
        "  \n",
        "\n",
        "def seasonality(time, period, amplitude = 1, phase=0):\n",
        "  \"\"\"Repeats the same pattern at each period\"\"\"\n",
        "  season_time = ((time + phase) % period) / period\n",
        "  return amplitude * seasonal_pattern(season_time)\n",
        "\n",
        "def noise(time, noise_level = 1, seed = None):\n",
        "  rnd = np.random.RandomState(seed)\n",
        "  return rnd.randn(len(time)) * noise_level\n",
        "\n",
        "\n",
        "time = np.arange(4 * 365 + 1, dtype=\"float32\")\n",
        "baseline = 10\n",
        "series = trend(time, 0.1)\n",
        "baseline = 10\n",
        "amplitude = 40\n",
        "slope = 0.05\n",
        "noise_level = 5\n",
        "\n",
        "# create the series\n",
        "series = baseline + trend(time, slope) + seasonality(time, period=365, amplitude=amplitude)\n",
        "\n",
        "# Update with noise\n",
        "series += noise(time, noise_level, seed = 42)\n",
        "\n",
        "\n",
        "# split the dataset into training and validation\n",
        "split_time = 1000\n",
        "\n",
        "time_train = time[:split_time]\n",
        "x_train = series[:split_time]\n",
        "\n",
        "time_valid = time[split_time:]\n",
        "x_valid = series[split_time:]\n",
        "\n",
        "\n",
        "window_size = 20\n",
        "batch_size = 32\n",
        "shuffle_buffer_size = 1000"
      ],
      "execution_count": 3,
      "outputs": []
    },
    {
      "cell_type": "code",
      "metadata": {
        "id": "4NZOXL3BBuGa"
      },
      "source": [
        "def windowed_dataset(series, window_size, batch_size, shuffle_buffer):\n",
        "  dataset = tf.data.Dataset.from_tensor_slices(series)\n",
        "  dataset = dataset.window(window_size + 1, shift = 1, drop_remainder=True)\n",
        "  dataset = dataset.flat_map(lambda window: window.batch(window_size + 1))\n",
        "  dataset = dataset.shuffle(shuffle_buffer).map(lambda window: (window[:-1], window[-1]))\n",
        "  dataset = dataset.batch(batch_size).prefetch(1)\n",
        "  return dataset"
      ],
      "execution_count": 4,
      "outputs": []
    },
    {
      "cell_type": "markdown",
      "metadata": {
        "id": "N1M0CbGCIE5b"
      },
      "source": [
        "Simple Linear regression"
      ]
    },
    {
      "cell_type": "code",
      "metadata": {
        "colab": {
          "base_uri": "https://localhost:8080/"
        },
        "id": "hIHNOAB2C_KX",
        "outputId": "20f86b11-8a25-4a87-cb39-728c3bbc3586"
      },
      "source": [
        "dataset = windowed_dataset(x_train, window_size, batch_size, shuffle_buffer_size)\n",
        "\n",
        "l0 = tf.keras.layers.Dense(1, input_shape=[window_size])\n",
        "model = tf.keras.models.Sequential([l0])\n",
        "\n",
        "model.compile(loss=\"mse\", optimizer= tf.keras.optimizers.SGD(learning_rate=1e-6, momentum=0.9))\n",
        "model.fit(dataset, epochs=100, verbose=2)"
      ],
      "execution_count": 8,
      "outputs": [
        {
          "output_type": "stream",
          "text": [
            "Epoch 1/100\n",
            "31/31 - 0s - loss: 566.9910\n",
            "Epoch 2/100\n",
            "31/31 - 0s - loss: 121.7716\n",
            "Epoch 3/100\n",
            "31/31 - 0s - loss: 97.4111\n",
            "Epoch 4/100\n",
            "31/31 - 0s - loss: 87.5981\n",
            "Epoch 5/100\n",
            "31/31 - 0s - loss: 84.5246\n",
            "Epoch 6/100\n",
            "31/31 - 0s - loss: 79.6898\n",
            "Epoch 7/100\n",
            "31/31 - 0s - loss: 77.3923\n",
            "Epoch 8/100\n",
            "31/31 - 0s - loss: 74.4507\n",
            "Epoch 9/100\n",
            "31/31 - 0s - loss: 73.8773\n",
            "Epoch 10/100\n",
            "31/31 - 0s - loss: 73.2078\n",
            "Epoch 11/100\n",
            "31/31 - 0s - loss: 70.3234\n",
            "Epoch 12/100\n",
            "31/31 - 0s - loss: 69.1196\n",
            "Epoch 13/100\n",
            "31/31 - 0s - loss: 68.6088\n",
            "Epoch 14/100\n",
            "31/31 - 0s - loss: 67.3557\n",
            "Epoch 15/100\n",
            "31/31 - 0s - loss: 65.5311\n",
            "Epoch 16/100\n",
            "31/31 - 0s - loss: 64.8698\n",
            "Epoch 17/100\n",
            "31/31 - 0s - loss: 64.9632\n",
            "Epoch 18/100\n",
            "31/31 - 0s - loss: 63.8818\n",
            "Epoch 19/100\n",
            "31/31 - 0s - loss: 62.6809\n",
            "Epoch 20/100\n",
            "31/31 - 0s - loss: 61.5773\n",
            "Epoch 21/100\n",
            "31/31 - 0s - loss: 61.2850\n",
            "Epoch 22/100\n",
            "31/31 - 0s - loss: 60.1259\n",
            "Epoch 23/100\n",
            "31/31 - 0s - loss: 59.2753\n",
            "Epoch 24/100\n",
            "31/31 - 0s - loss: 58.5961\n",
            "Epoch 25/100\n",
            "31/31 - 0s - loss: 58.7122\n",
            "Epoch 26/100\n",
            "31/31 - 0s - loss: 57.1237\n",
            "Epoch 27/100\n",
            "31/31 - 0s - loss: 57.0271\n",
            "Epoch 28/100\n",
            "31/31 - 0s - loss: 56.2659\n",
            "Epoch 29/100\n",
            "31/31 - 0s - loss: 56.5781\n",
            "Epoch 30/100\n",
            "31/31 - 0s - loss: 55.4385\n",
            "Epoch 31/100\n",
            "31/31 - 0s - loss: 55.0632\n",
            "Epoch 32/100\n",
            "31/31 - 0s - loss: 54.6457\n",
            "Epoch 33/100\n",
            "31/31 - 0s - loss: 54.8277\n",
            "Epoch 34/100\n",
            "31/31 - 0s - loss: 53.4320\n",
            "Epoch 35/100\n",
            "31/31 - 0s - loss: 53.1532\n",
            "Epoch 36/100\n",
            "31/31 - 0s - loss: 53.0428\n",
            "Epoch 37/100\n",
            "31/31 - 0s - loss: 53.0755\n",
            "Epoch 38/100\n",
            "31/31 - 0s - loss: 52.5681\n",
            "Epoch 39/100\n",
            "31/31 - 0s - loss: 52.8757\n",
            "Epoch 40/100\n",
            "31/31 - 0s - loss: 51.5247\n",
            "Epoch 41/100\n",
            "31/31 - 0s - loss: 51.5865\n",
            "Epoch 42/100\n",
            "31/31 - 0s - loss: 50.5519\n",
            "Epoch 43/100\n",
            "31/31 - 0s - loss: 50.3910\n",
            "Epoch 44/100\n",
            "31/31 - 0s - loss: 49.8067\n",
            "Epoch 45/100\n",
            "31/31 - 0s - loss: 49.9637\n",
            "Epoch 46/100\n",
            "31/31 - 0s - loss: 49.7812\n",
            "Epoch 47/100\n",
            "31/31 - 0s - loss: 49.2352\n",
            "Epoch 48/100\n",
            "31/31 - 0s - loss: 49.0515\n",
            "Epoch 49/100\n",
            "31/31 - 0s - loss: 48.8450\n",
            "Epoch 50/100\n",
            "31/31 - 0s - loss: 48.7250\n",
            "Epoch 51/100\n",
            "31/31 - 0s - loss: 48.6618\n",
            "Epoch 52/100\n",
            "31/31 - 0s - loss: 48.2419\n",
            "Epoch 53/100\n",
            "31/31 - 0s - loss: 48.2090\n",
            "Epoch 54/100\n",
            "31/31 - 0s - loss: 48.8650\n",
            "Epoch 55/100\n",
            "31/31 - 0s - loss: 48.2084\n",
            "Epoch 56/100\n",
            "31/31 - 0s - loss: 47.9391\n",
            "Epoch 57/100\n",
            "31/31 - 0s - loss: 48.0011\n",
            "Epoch 58/100\n",
            "31/31 - 0s - loss: 49.2629\n",
            "Epoch 59/100\n",
            "31/31 - 0s - loss: 47.5232\n",
            "Epoch 60/100\n",
            "31/31 - 0s - loss: 47.1013\n",
            "Epoch 61/100\n",
            "31/31 - 0s - loss: 46.6527\n",
            "Epoch 62/100\n",
            "31/31 - 0s - loss: 46.8653\n",
            "Epoch 63/100\n",
            "31/31 - 0s - loss: 46.6944\n",
            "Epoch 64/100\n",
            "31/31 - 0s - loss: 46.6661\n",
            "Epoch 65/100\n",
            "31/31 - 0s - loss: 46.0781\n",
            "Epoch 66/100\n",
            "31/31 - 0s - loss: 46.0232\n",
            "Epoch 67/100\n",
            "31/31 - 0s - loss: 46.4572\n",
            "Epoch 68/100\n",
            "31/31 - 0s - loss: 46.4914\n",
            "Epoch 69/100\n",
            "31/31 - 0s - loss: 46.9133\n",
            "Epoch 70/100\n",
            "31/31 - 0s - loss: 46.2223\n",
            "Epoch 71/100\n",
            "31/31 - 0s - loss: 45.7846\n",
            "Epoch 72/100\n",
            "31/31 - 0s - loss: 46.6471\n",
            "Epoch 73/100\n",
            "31/31 - 0s - loss: 45.5895\n",
            "Epoch 74/100\n",
            "31/31 - 0s - loss: 45.2444\n",
            "Epoch 75/100\n",
            "31/31 - 0s - loss: 44.9598\n",
            "Epoch 76/100\n",
            "31/31 - 0s - loss: 45.1371\n",
            "Epoch 77/100\n",
            "31/31 - 0s - loss: 45.7412\n",
            "Epoch 78/100\n",
            "31/31 - 0s - loss: 45.0368\n",
            "Epoch 79/100\n",
            "31/31 - 0s - loss: 44.8244\n",
            "Epoch 80/100\n",
            "31/31 - 0s - loss: 45.5564\n",
            "Epoch 81/100\n",
            "31/31 - 0s - loss: 45.4747\n",
            "Epoch 82/100\n",
            "31/31 - 0s - loss: 46.4661\n",
            "Epoch 83/100\n",
            "31/31 - 0s - loss: 46.0665\n",
            "Epoch 84/100\n",
            "31/31 - 0s - loss: 44.5353\n",
            "Epoch 85/100\n",
            "31/31 - 0s - loss: 44.5847\n",
            "Epoch 86/100\n",
            "31/31 - 0s - loss: 44.6314\n",
            "Epoch 87/100\n",
            "31/31 - 0s - loss: 44.4568\n",
            "Epoch 88/100\n",
            "31/31 - 0s - loss: 44.6945\n",
            "Epoch 89/100\n",
            "31/31 - 0s - loss: 44.7996\n",
            "Epoch 90/100\n",
            "31/31 - 0s - loss: 44.3914\n",
            "Epoch 91/100\n",
            "31/31 - 0s - loss: 44.3954\n",
            "Epoch 92/100\n",
            "31/31 - 0s - loss: 44.3092\n",
            "Epoch 93/100\n",
            "31/31 - 0s - loss: 44.4664\n",
            "Epoch 94/100\n",
            "31/31 - 0s - loss: 44.5457\n",
            "Epoch 95/100\n",
            "31/31 - 0s - loss: 44.4725\n",
            "Epoch 96/100\n",
            "31/31 - 0s - loss: 44.4674\n",
            "Epoch 97/100\n",
            "31/31 - 0s - loss: 44.0029\n",
            "Epoch 98/100\n",
            "31/31 - 0s - loss: 45.0039\n",
            "Epoch 99/100\n",
            "31/31 - 0s - loss: 44.0872\n",
            "Epoch 100/100\n",
            "31/31 - 0s - loss: 43.8231\n"
          ],
          "name": "stdout"
        },
        {
          "output_type": "execute_result",
          "data": {
            "text/plain": [
              "<tensorflow.python.keras.callbacks.History at 0x7f3c8ea63a90>"
            ]
          },
          "metadata": {
            "tags": []
          },
          "execution_count": 8
        }
      ]
    },
    {
      "cell_type": "code",
      "metadata": {
        "colab": {
          "base_uri": "https://localhost:8080/"
        },
        "id": "N4aU3l-QD4OR",
        "outputId": "2eda6f5d-034f-4c43-885d-3a6c83333d48"
      },
      "source": [
        "print(\"Layer weights {}\".format(l0.get_weights()))"
      ],
      "execution_count": 9,
      "outputs": [
        {
          "output_type": "stream",
          "text": [
            "Layer weights [array([[-0.0164391 ],\n",
            "       [-0.05288021],\n",
            "       [ 0.08140948],\n",
            "       [-0.0119872 ],\n",
            "       [ 0.01423705],\n",
            "       [-0.06333231],\n",
            "       [ 0.02360073],\n",
            "       [ 0.0252896 ],\n",
            "       [ 0.01821168],\n",
            "       [ 0.01082278],\n",
            "       [-0.08370972],\n",
            "       [ 0.06955137],\n",
            "       [-0.07305589],\n",
            "       [ 0.06847141],\n",
            "       [-0.02313358],\n",
            "       [ 0.11749376],\n",
            "       [-0.05477423],\n",
            "       [ 0.24449213],\n",
            "       [ 0.24208556],\n",
            "       [ 0.4424329 ]], dtype=float32), array([0.01255375], dtype=float32)]\n"
          ],
          "name": "stdout"
        }
      ]
    },
    {
      "cell_type": "code",
      "metadata": {
        "colab": {
          "base_uri": "https://localhost:8080/",
          "height": 388
        },
        "id": "iyew2SmKEjjz",
        "outputId": "a4f8bd13-3c72-45a9-e574-1269e006fcdc"
      },
      "source": [
        "forecast = []\n",
        "\n",
        "for time in range(len(series) - window_size):\n",
        "  forecast.append(model.predict(series[time:time+window_size][np.newaxis]))\n",
        "\n",
        "forecast = forecast[split_time - window_size:]\n",
        "results = np.array(forecast)[:, 0, 0]\n",
        "\n",
        "plt.figure(figsize=(10,6))\n",
        "plot_series(time_valid, x_valid)\n",
        "plot_series(time_valid, results)"
      ],
      "execution_count": 14,
      "outputs": [
        {
          "output_type": "display_data",
          "data": {
            "image/png": "[encoded data removed]",
            "text/plain": [
              "<Figure size 720x432 with 1 Axes>"
            ]
          },
          "metadata": {
            "tags": [],
            "needs_background": "light"
          }
        }
      ]
    },
    {
      "cell_type": "code",
      "metadata": {
        "colab": {
          "base_uri": "https://localhost:8080/"
        },
        "id": "MkXH8NVKHVYv",
        "outputId": "a520c560-5545-40f9-8d5d-6b6a373480c9"
      },
      "source": [
        "print(\"MSE: \",tf.keras.metrics.mean_squared_error(x_valid, results).numpy())\n",
        "print(\"MAE: \",tf.keras.metrics.mean_absolute_error(x_valid, results).numpy())"
      ],
      "execution_count": 15,
      "outputs": [
        {
          "output_type": "stream",
          "text": [
            "MSE:  47.590797\n",
            "MAE:  5.095446\n"
          ],
          "name": "stdout"
        }
      ]
    },
    {
      "cell_type": "code",
      "metadata": {
        "colab": {
          "base_uri": "https://localhost:8080/"
        },
        "id": "5B3kXwA4H9bb",
        "outputId": "27ac20d4-591d-4e87-fc70-f4470858159d"
      },
      "source": [
        "np.array(forecast)[:,0,0]"
      ],
      "execution_count": 33,
      "outputs": [
        {
          "output_type": "execute_result",
          "data": {
            "text/plain": [
              "array([ 62.915127,  67.39429 ,  67.77273 ,  65.46816 ,  63.249645,\n",
              "        64.30661 ,  64.2132  ,  66.07191 ,  66.18308 ,  67.21106 ,\n",
              "        64.13217 ,  66.65764 ,  64.05828 ,  71.63223 ,  64.23359 ,\n",
              "        69.33784 ,  62.825283,  66.68089 ,  60.347572,  63.51341 ,\n",
              "        61.75161 ,  65.3813  ,  61.89493 ,  63.51268 ,  67.67843 ,\n",
              "        69.73738 ,  69.63788 ,  64.58777 ,  66.069786,  64.807915,\n",
              "        63.133396,  61.678047,  59.30149 ,  62.139103,  61.82528 ,\n",
              "        64.287224,  66.3991  ,  63.695778,  59.999043,  60.515434,\n",
              "        65.410225,  69.76795 ,  65.96787 ,  65.33201 ,  65.244675,\n",
              "        65.10889 ,  66.03715 ,  67.044235,  61.68147 ,  65.99483 ,\n",
              "        65.76408 ,  68.17985 ,  64.48193 ,  66.34077 ,  65.26968 ,\n",
              "        63.29174 ,  62.501938,  63.33132 ,  66.95787 ,  65.2408  ,\n",
              "        65.70006 ,  65.33543 ,  59.51453 ,  64.50169 ,  58.154785,\n",
              "        63.59073 ,  58.081562,  61.445072,  60.51084 ,  65.847374,\n",
              "        64.0161  ,  65.58469 ,  64.87661 ,  64.96804 ,  63.404083,\n",
              "        64.50102 ,  65.442345,  60.01309 ,  61.70104 ,  64.605515,\n",
              "        69.27774 ,  66.504845,  63.051865,  64.73896 ,  68.53846 ,\n",
              "        69.029526,  68.45579 ,  67.86895 ,  68.383125,  65.02088 ,\n",
              "        65.598015,  64.346794,  66.75533 ,  65.259315,  65.10143 ,\n",
              "        68.331535,  83.535065,  93.08343 ,  95.12574 ,  99.22725 ,\n",
              "       102.04708 , 107.7188  ,  97.602875, 105.304825, 102.49353 ,\n",
              "       108.684654,  97.27753 , 106.70807 ,  98.28983 , 104.78925 ,\n",
              "       100.94392 , 106.07595 , 102.85025 , 106.040634, 104.5795  ,\n",
              "       102.76374 , 105.28372 , 106.155685, 106.07146 , 101.28583 ,\n",
              "       104.59457 , 105.082726, 105.84611 , 104.15046 ,  98.78841 ,\n",
              "       103.32202 ,  96.82196 , 101.80777 ,  94.602264,  98.99519 ,\n",
              "        96.60121 ,  99.277016,  97.27097 , 103.23829 ,  99.590096,\n",
              "        98.35079 ,  97.36325 , 100.25929 ,  95.880775,  95.243095,\n",
              "        95.31505 ,  94.8504  ,  97.256905,  93.47922 ,  94.9192  ,\n",
              "        91.729256,  92.001305,  88.63779 ,  87.16749 ,  89.9742  ,\n",
              "        89.434685,  86.52749 ,  81.16708 ,  84.21761 ,  81.38198 ,\n",
              "        88.74829 ,  87.49528 ,  89.69568 ,  87.97381 ,  91.17232 ,\n",
              "        87.30345 ,  80.23006 ,  86.06497 ,  79.6245  ,  80.503426,\n",
              "        76.733696,  90.283615,  85.58341 ,  86.702415,  80.48674 ,\n",
              "        85.52101 ,  81.91196 ,  81.047966,  79.09573 ,  76.358864,\n",
              "        75.790184,  72.30376 ,  70.09784 ,  71.39033 ,  70.41532 ,\n",
              "        67.99949 ,  68.30916 ,  75.11488 ,  74.83109 ,  69.659386,\n",
              "        65.331375,  69.12847 ,  67.114914,  66.80579 ,  66.45166 ,\n",
              "        64.95126 ,  65.36123 ,  60.4396  ,  62.7734  ,  62.791676,\n",
              "        60.172245,  60.79013 ,  60.564533,  63.871895,  62.585293,\n",
              "        64.254364,  60.917355,  61.225307,  57.75861 ,  60.207687,\n",
              "        57.725964,  58.632046,  53.60491 ,  53.952194,  50.1163  ,\n",
              "        55.991   ,  52.12692 ,  51.953724,  47.823895,  53.589893,\n",
              "        50.22274 ,  55.811314,  48.767677,  52.89449 ,  44.85055 ,\n",
              "        54.742443,  46.659645,  51.33231 ,  45.80216 ,  50.378212,\n",
              "        45.503574,  47.230595,  45.306477,  45.31122 ,  45.312576,\n",
              "        49.870724,  47.14032 ,  41.24396 ,  40.960457,  46.135807,\n",
              "        44.23379 ,  46.286312,  45.513508,  44.15391 ,  41.354206,\n",
              "        45.216087,  41.833164,  61.06549 ,  65.59185 ,  77.272285,\n",
              "        74.337296,  78.50581 ,  80.142296,  80.09953 ,  80.33684 ,\n",
              "        79.49055 ,  81.1323  ,  80.02421 ,  80.58989 ,  80.58618 ,\n",
              "        84.873055,  80.324265,  85.583244,  81.62699 ,  86.334915,\n",
              "        81.66442 ,  81.646324,  82.94485 ,  83.76637 ,  79.60919 ,\n",
              "        81.86671 ,  76.88976 ,  80.20235 ,  77.32201 ,  79.639275,\n",
              "        80.0667  ,  85.07993 ,  84.59814 ,  80.52828 ,  80.505585,\n",
              "        82.77908 ,  82.85407 ,  87.02278 ,  85.499886,  84.20828 ,\n",
              "        80.9634  ,  81.68104 ,  81.13821 ,  83.879616,  82.34451 ,\n",
              "        81.579704,  76.588455,  75.84515 ,  79.11616 ,  76.92919 ,\n",
              "        74.827644,  75.72242 ,  85.53212 ,  82.93744 ,  86.15064 ,\n",
              "        80.68031 ,  83.611   ,  81.895   ,  81.44729 ,  81.97902 ,\n",
              "        82.31311 ,  79.72986 ,  81.26409 ,  80.9018  ,  80.47357 ,\n",
              "        81.531006,  77.65592 ,  79.800606,  80.02087 ,  84.11763 ,\n",
              "        82.202225,  82.38427 ,  81.997375,  85.71878 ,  84.43004 ,\n",
              "        83.36674 ,  77.83585 ,  77.558846,  76.90521 ,  78.11341 ,\n",
              "        78.753136,  78.99604 ,  81.56287 ,  80.13664 ,  82.35448 ,\n",
              "        81.55623 ,  77.99883 ,  75.3503  ,  76.68385 ,  76.86583 ,\n",
              "        80.19308 ,  82.41793 ,  85.48037 ,  82.48319 ,  84.79157 ,\n",
              "        83.45153 ,  83.14038 ,  78.26863 ,  79.79011 ,  78.18902 ,\n",
              "        80.67715 ,  79.66428 ,  81.59216 ,  80.811806,  84.09071 ,\n",
              "        84.92407 ,  79.63698 ,  75.038345,  78.26826 ,  76.54981 ,\n",
              "        78.91144 ,  75.26319 ,  75.347755,  76.83344 ,  81.408005,\n",
              "        80.04197 ,  76.14801 ,  74.85552 ,  78.07832 ,  77.32202 ,\n",
              "        78.793686,  80.36965 ,  81.59368 ,  80.42032 ,  78.394165,\n",
              "        84.01237 ,  81.90634 ,  81.3048  ,  77.7341  ,  78.73088 ,\n",
              "        78.26325 ,  79.95753 ,  81.5172  ,  80.380226,  76.89418 ,\n",
              "        81.0668  ,  80.42551 ,  81.47626 ,  82.01796 ,  80.1115  ,\n",
              "        86.03112 ,  82.49344 ,  84.283615,  85.91855 ,  82.90297 ,\n",
              "        83.911026,  81.85196 ,  86.093925,  86.9288  ,  85.86812 ,\n",
              "        79.18691 ,  83.074356,  79.87565 ,  86.74154 ,  81.68746 ,\n",
              "        84.25585 ,  80.12623 ,  79.39051 ,  77.68559 ,  81.81614 ,\n",
              "        80.9399  ,  79.03946 ,  79.064644,  83.82626 ,  86.07358 ,\n",
              "        85.87045 ,  81.70565 ,  78.68403 ,  82.50367 ,  81.368004,\n",
              "        83.51732 ,  83.0329  ,  84.38895 ,  84.31518 ,  87.57547 ,\n",
              "        83.890045,  87.89934 ,  81.039925,  84.29445 ,  85.40487 ,\n",
              "        86.74512 ,  84.878525,  86.16707 ,  82.33845 ,  81.60249 ,\n",
              "        79.25077 ,  75.66873 ,  83.28042 ,  79.36593 ,  82.81714 ,\n",
              "        78.06104 ,  84.541534,  82.20839 ,  87.16923 ,  81.375755,\n",
              "        83.93956 ,  80.92197 ,  82.8182  ,  85.7142  ,  85.786224,\n",
              "        86.78563 ,  83.768074,  87.75712 ,  84.676186,  84.190895,\n",
              "        80.76982 ,  81.29407 ,  80.76726 ,  82.431404,  86.12064 ,\n",
              "        84.72177 ,  84.7935  ,  85.96691 ,  87.74714 ,  90.57667 ,\n",
              "        88.26006 ,  83.145386,  82.61888 ,  84.320335,  87.40574 ,\n",
              "        86.76398 ], dtype=float32)"
            ]
          },
          "metadata": {
            "tags": []
          },
          "execution_count": 33
        }
      ]
    },
    {
      "cell_type": "code",
      "metadata": {
        "id": "g7lZLglOIbzf"
      },
      "source": [
        ""
      ],
      "execution_count": null,
      "outputs": []
    }
  ]
}
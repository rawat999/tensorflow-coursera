{
  "nbformat": 4,
  "nbformat_minor": 0,
  "metadata": {
    "colab": {
      "name": "TweetSentimentPrediction.ipynb",
      "provenance": [],
      "authorship_tag": "ABX9TyNeg/AYfURo1H2ClQp/97cB",
      "include_colab_link": true
    },
    "kernelspec": {
      "name": "python3",
      "display_name": "Python 3"
    },
    "language_info": {
      "name": "python"
    },
    "accelerator": "GPU"
  },
  "cells": [
    {
      "cell_type": "markdown",
      "metadata": {
        "id": "view-in-github",
        "colab_type": "text"
      },
      "source": [
        "<a href=\"https://colab.research.google.com/github/rawat999/tensorflow-coursera/blob/master/TweetSentimentPrediction.ipynb\" target=\"_parent\"><img src=\"https://colab.research.google.com/assets/colab-badge.svg\" alt=\"Open In Colab\"/></a>"
      ]
    },
    {
      "cell_type": "code",
      "metadata": {
        "id": "Gf9_lhC_LigD"
      },
      "source": [
        "import json\n",
        "import tensorflow as tf\n",
        "import csv\n",
        "import random\n",
        "import numpy as np\n",
        "\n",
        "from tensorflow.keras.preprocessing.text import Tokenizer\n",
        "from tensorflow.keras.preprocessing.sequence import pad_sequences\n",
        "from tensorflow.keras.utils import to_categorical\n",
        "from tensorflow.keras import regularizers\n",
        "\n",
        "\n",
        "embedding_dim = 100\n",
        "max_length = 24\n",
        "trunc_type='post'\n",
        "padding_type='post'\n",
        "oov_tok = \"<OOV>\"\n",
        "training_size= 160000\n",
        "test_portion=.1\n",
        "\n",
        "corpus = []"
      ],
      "execution_count": 1,
      "outputs": []
    },
    {
      "cell_type": "code",
      "metadata": {
        "colab": {
          "base_uri": "https://localhost:8080/"
        },
        "id": "z6DO1bxkM0nw",
        "outputId": "9aeb3935-ac18-4434-dab3-428de11648b0"
      },
      "source": [
        "# Note that I cleaned the Stanford dataset to remove LATIN1 encoding to make it easier for Python CSV reader\n",
        "# You can do that yourself with:\n",
        "# iconv -f LATIN1 -t UTF8 training.1600000.processed.noemoticon.csv -o training_cleaned.csv\n",
        "# I then hosted it on my site to make it easier to use in this notebook\n",
        "\n",
        "!wget --no-check-certificate \\\n",
        "    https://storage.googleapis.com/laurencemoroney-blog.appspot.com/training_cleaned.csv \\\n",
        "    -O /tmp/training_cleaned.csv\n",
        "\n",
        "num_sentences = 0\n",
        "\n",
        "with open(\"/tmp/training_cleaned.csv\") as csvfile:\n",
        "    reader = csv.reader(csvfile, delimiter=',')\n",
        "    for row in reader:\n",
        "      list_item=[]\n",
        "      list_item.append(row[5])\n",
        "      label = row[0]\n",
        "      if label == '0':\n",
        "        list_item.append(0)\n",
        "      else:\n",
        "        list_item.append(1)\n",
        "      num_sentences = num_sentences + 1\n",
        "      corpus.append(list_item)"
      ],
      "execution_count": 2,
      "outputs": [
        {
          "output_type": "stream",
          "text": [
            "--2021-07-24 11:44:06--  https://storage.googleapis.com/laurencemoroney-blog.appspot.com/training_cleaned.csv\n",
            "Resolving storage.googleapis.com (storage.googleapis.com)... 172.217.15.112, 172.217.164.144, 142.250.73.208, ...\n",
            "Connecting to storage.googleapis.com (storage.googleapis.com)|172.217.15.112|:443... connected.\n",
            "HTTP request sent, awaiting response... 200 OK\n",
            "Length: 238942690 (228M) [application/octet-stream]\n",
            "Saving to: ‘/tmp/training_cleaned.csv’\n",
            "\n",
            "/tmp/training_clean 100%[===================>] 227.87M   258MB/s    in 0.9s    \n",
            "\n",
            "2021-07-24 11:44:07 (258 MB/s) - ‘/tmp/training_cleaned.csv’ saved [238942690/238942690]\n",
            "\n"
          ],
          "name": "stdout"
        }
      ]
    },
    {
      "cell_type": "code",
      "metadata": {
        "colab": {
          "base_uri": "https://localhost:8080/"
        },
        "id": "06W54gB8Prte",
        "outputId": "a9597ca8-cd63-44fb-bd7a-d0be2fe42006"
      },
      "source": [
        "print(num_sentences)\n",
        "print(len(corpus))\n",
        "print(corpus[1])"
      ],
      "execution_count": 3,
      "outputs": [
        {
          "output_type": "stream",
          "text": [
            "1600000\n",
            "1600000\n",
            "[\"is upset that he can't update his Facebook by texting it... and might cry as a result  School today also. Blah!\", 0]\n"
          ],
          "name": "stdout"
        }
      ]
    },
    {
      "cell_type": "code",
      "metadata": {
        "id": "Pjtxz8OGPrwZ"
      },
      "source": [
        "sentences=[]\n",
        "labels=[]\n",
        "random.shuffle(corpus)\n",
        "for x in range(training_size):\n",
        "    sentences.append(corpus[x][0])\n",
        "    labels.append(corpus[x][1])\n",
        "\n",
        "\n",
        "tokenizer = Tokenizer()\n",
        "tokenizer.fit_on_texts(sentences)\n",
        "\n",
        "word_index = tokenizer.word_index\n",
        "vocab_size=len(word_index)\n",
        "\n",
        "sequences = tokenizer.texts_to_sequences(sentences)\n",
        "padded = pad_sequences(sequences, maxlen=max_length, padding=padding_type, truncating=trunc_type)\n",
        "\n",
        "split = int(test_portion * training_size)\n",
        "\n",
        "test_sequences = padded[0:split]\n",
        "training_sequences = padded[split:training_size]\n",
        "test_labels = labels[0:split]\n",
        "training_labels = labels[split:training_size]"
      ],
      "execution_count": 4,
      "outputs": []
    },
    {
      "cell_type": "code",
      "metadata": {
        "colab": {
          "base_uri": "https://localhost:8080/"
        },
        "id": "Q4q-3jXVPrys",
        "outputId": "1b811fdb-086f-4eb0-dee9-b2c2c9dfaae8"
      },
      "source": [
        "print(vocab_size)\n",
        "print(word_index['i'])"
      ],
      "execution_count": 5,
      "outputs": [
        {
          "output_type": "stream",
          "text": [
            "138306\n",
            "1\n"
          ],
          "name": "stdout"
        }
      ]
    },
    {
      "cell_type": "code",
      "metadata": {
        "id": "wck8D75QSBpb"
      },
      "source": [
        "#!wget https://nlp.stanford.edu/data/glove.6B.zip\n",
        "\n",
        "#import zipfile\n",
        "#zip_ref = zipfile.ZipFile('/content/glove.6B.zip','r')\n",
        "#zip_ref.extractall('/content/')\n",
        "#zip_ref.close()"
      ],
      "execution_count": null,
      "outputs": []
    },
    {
      "cell_type": "code",
      "metadata": {
        "id": "HSC-gmKwPr16"
      },
      "source": [
        "embeddings_index = {}\n",
        "\n",
        "with open('/content/glove.6B.100d.txt') as f:\n",
        "    for line in f:\n",
        "        values = line.split()\n",
        "        word = values[0]\n",
        "        coefs = np.asarray(values[1:], dtype='float32')\n",
        "        embeddings_index[word] = coefs\n",
        "\n",
        "embeddings_matrix = np.zeros((vocab_size+1, embedding_dim))\n",
        "\n",
        "for word, i in word_index.items():\n",
        "    embedding_vector = embeddings_index.get(word)\n",
        "    if embedding_vector is not None:\n",
        "        embeddings_matrix[i] = embedding_vector"
      ],
      "execution_count": 8,
      "outputs": []
    },
    {
      "cell_type": "code",
      "metadata": {
        "colab": {
          "base_uri": "https://localhost:8080/"
        },
        "id": "TNl_LcbFQnN6",
        "outputId": "b83eb67d-5d36-48d6-a113-62556ac279d3"
      },
      "source": [
        "print(len(embeddings_matrix))"
      ],
      "execution_count": 9,
      "outputs": [
        {
          "output_type": "stream",
          "text": [
            "138307\n"
          ],
          "name": "stdout"
        }
      ]
    },
    {
      "cell_type": "code",
      "metadata": {
        "colab": {
          "base_uri": "https://localhost:8080/"
        },
        "id": "loq-uSnlQ9nO",
        "outputId": "f17e6e24-a45f-4281-eb44-17ea70e3c86d"
      },
      "source": [
        "model = tf.keras.Sequential([\n",
        "    tf.keras.layers.Embedding(vocab_size+1, embedding_dim, input_length=max_length, weights=[embeddings_matrix], trainable=False),\n",
        "    tf.keras.layers.Dropout(0.2),\n",
        "    tf.keras.layers.Conv1D(64, 5, activation='relu'),\n",
        "    tf.keras.layers.MaxPooling1D(pool_size=4),\n",
        "    tf.keras.layers.LSTM(64),\n",
        "    tf.keras.layers.Dense(1, activation='sigmoid')\n",
        "])\n",
        "\n",
        "model.compile(loss='binary_crossentropy',\n",
        "              optimizer=tf.keras.optimizers.Adam(learning_rate=1e-05),\n",
        "              metrics=['accuracy'])\n",
        "\n",
        "model.summary()\n",
        "\n",
        "num_epochs = 100\n",
        "\n",
        "training_padded = np.array(training_sequences)\n",
        "training_labels = np.array(training_labels)\n",
        "testing_padded = np.array(test_sequences)\n",
        "testing_labels = np.array(test_labels)\n",
        "\n",
        "history = model.fit(training_padded, \n",
        "                    training_labels, \n",
        "                    epochs=num_epochs, \n",
        "                    validation_data=(testing_padded, testing_labels))\n",
        "\n",
        "print(\"Training Completed!\")"
      ],
      "execution_count": 10,
      "outputs": [
        {
          "output_type": "stream",
          "text": [
            "Model: \"sequential\"\n",
            "_________________________________________________________________\n",
            "Layer (type)                 Output Shape              Param #   \n",
            "=================================================================\n",
            "embedding (Embedding)        (None, 24, 100)           13830700  \n",
            "_________________________________________________________________\n",
            "dropout (Dropout)            (None, 24, 100)           0         \n",
            "_________________________________________________________________\n",
            "conv1d (Conv1D)              (None, 20, 64)            32064     \n",
            "_________________________________________________________________\n",
            "max_pooling1d (MaxPooling1D) (None, 5, 64)             0         \n",
            "_________________________________________________________________\n",
            "lstm (LSTM)                  (None, 64)                33024     \n",
            "_________________________________________________________________\n",
            "dense (Dense)                (None, 1)                 65        \n",
            "=================================================================\n",
            "Total params: 13,895,853\n",
            "Trainable params: 65,153\n",
            "Non-trainable params: 13,830,700\n",
            "_________________________________________________________________\n",
            "Epoch 1/100\n",
            "4500/4500 [==============================] - 51s 4ms/step - loss: 0.6773 - accuracy: 0.5947 - val_loss: 0.6542 - val_accuracy: 0.6396\n",
            "Epoch 2/100\n",
            "4500/4500 [==============================] - 19s 4ms/step - loss: 0.6345 - accuracy: 0.6567 - val_loss: 0.6175 - val_accuracy: 0.6741\n",
            "Epoch 3/100\n",
            "4500/4500 [==============================] - 18s 4ms/step - loss: 0.6113 - accuracy: 0.6738 - val_loss: 0.5986 - val_accuracy: 0.6811\n",
            "Epoch 4/100\n",
            "4500/4500 [==============================] - 18s 4ms/step - loss: 0.5989 - accuracy: 0.6810 - val_loss: 0.5878 - val_accuracy: 0.6889\n",
            "Epoch 5/100\n",
            "4500/4500 [==============================] - 17s 4ms/step - loss: 0.5897 - accuracy: 0.6872 - val_loss: 0.5778 - val_accuracy: 0.6927\n",
            "Epoch 6/100\n",
            "4500/4500 [==============================] - 17s 4ms/step - loss: 0.5836 - accuracy: 0.6909 - val_loss: 0.5708 - val_accuracy: 0.6985\n",
            "Epoch 7/100\n",
            "4500/4500 [==============================] - 18s 4ms/step - loss: 0.5779 - accuracy: 0.6958 - val_loss: 0.5662 - val_accuracy: 0.7040\n",
            "Epoch 8/100\n",
            "4500/4500 [==============================] - 18s 4ms/step - loss: 0.5731 - accuracy: 0.7000 - val_loss: 0.5608 - val_accuracy: 0.7083\n",
            "Epoch 9/100\n",
            "4500/4500 [==============================] - 18s 4ms/step - loss: 0.5686 - accuracy: 0.7030 - val_loss: 0.5563 - val_accuracy: 0.7126\n",
            "Epoch 10/100\n",
            "4500/4500 [==============================] - 18s 4ms/step - loss: 0.5652 - accuracy: 0.7058 - val_loss: 0.5562 - val_accuracy: 0.7117\n",
            "Epoch 11/100\n",
            "4500/4500 [==============================] - 19s 4ms/step - loss: 0.5622 - accuracy: 0.7088 - val_loss: 0.5495 - val_accuracy: 0.7197\n",
            "Epoch 12/100\n",
            "4500/4500 [==============================] - 17s 4ms/step - loss: 0.5582 - accuracy: 0.7109 - val_loss: 0.5468 - val_accuracy: 0.7212\n",
            "Epoch 13/100\n",
            "4500/4500 [==============================] - 17s 4ms/step - loss: 0.5550 - accuracy: 0.7138 - val_loss: 0.5467 - val_accuracy: 0.7211\n",
            "Epoch 14/100\n",
            "4500/4500 [==============================] - 18s 4ms/step - loss: 0.5530 - accuracy: 0.7143 - val_loss: 0.5455 - val_accuracy: 0.7222\n",
            "Epoch 15/100\n",
            "4500/4500 [==============================] - 19s 4ms/step - loss: 0.5496 - accuracy: 0.7178 - val_loss: 0.5412 - val_accuracy: 0.7261\n",
            "Epoch 16/100\n",
            "4500/4500 [==============================] - 18s 4ms/step - loss: 0.5478 - accuracy: 0.7180 - val_loss: 0.5375 - val_accuracy: 0.7281\n",
            "Epoch 17/100\n",
            "4500/4500 [==============================] - 17s 4ms/step - loss: 0.5450 - accuracy: 0.7217 - val_loss: 0.5356 - val_accuracy: 0.7297\n",
            "Epoch 18/100\n",
            "4500/4500 [==============================] - 18s 4ms/step - loss: 0.5434 - accuracy: 0.7226 - val_loss: 0.5354 - val_accuracy: 0.7312\n",
            "Epoch 19/100\n",
            "4500/4500 [==============================] - 18s 4ms/step - loss: 0.5410 - accuracy: 0.7229 - val_loss: 0.5317 - val_accuracy: 0.7332\n",
            "Epoch 20/100\n",
            "4500/4500 [==============================] - 19s 4ms/step - loss: 0.5389 - accuracy: 0.7258 - val_loss: 0.5310 - val_accuracy: 0.7334\n",
            "Epoch 21/100\n",
            "4500/4500 [==============================] - 18s 4ms/step - loss: 0.5373 - accuracy: 0.7269 - val_loss: 0.5309 - val_accuracy: 0.7333\n",
            "Epoch 22/100\n",
            "4500/4500 [==============================] - 17s 4ms/step - loss: 0.5345 - accuracy: 0.7282 - val_loss: 0.5292 - val_accuracy: 0.7348\n",
            "Epoch 23/100\n",
            "4500/4500 [==============================] - 17s 4ms/step - loss: 0.5338 - accuracy: 0.7287 - val_loss: 0.5270 - val_accuracy: 0.7357\n",
            "Epoch 24/100\n",
            "4500/4500 [==============================] - 19s 4ms/step - loss: 0.5320 - accuracy: 0.7297 - val_loss: 0.5251 - val_accuracy: 0.7387\n",
            "Epoch 25/100\n",
            "4500/4500 [==============================] - 18s 4ms/step - loss: 0.5310 - accuracy: 0.7321 - val_loss: 0.5253 - val_accuracy: 0.7386\n",
            "Epoch 26/100\n",
            "4500/4500 [==============================] - 17s 4ms/step - loss: 0.5293 - accuracy: 0.7308 - val_loss: 0.5226 - val_accuracy: 0.7397\n",
            "Epoch 27/100\n",
            "4500/4500 [==============================] - 18s 4ms/step - loss: 0.5274 - accuracy: 0.7338 - val_loss: 0.5227 - val_accuracy: 0.7409\n",
            "Epoch 28/100\n",
            "4500/4500 [==============================] - 19s 4ms/step - loss: 0.5262 - accuracy: 0.7346 - val_loss: 0.5210 - val_accuracy: 0.7417\n",
            "Epoch 29/100\n",
            "4500/4500 [==============================] - 18s 4ms/step - loss: 0.5249 - accuracy: 0.7360 - val_loss: 0.5245 - val_accuracy: 0.7379\n",
            "Epoch 30/100\n",
            "4500/4500 [==============================] - 17s 4ms/step - loss: 0.5240 - accuracy: 0.7354 - val_loss: 0.5183 - val_accuracy: 0.7430\n",
            "Epoch 31/100\n",
            "4500/4500 [==============================] - 18s 4ms/step - loss: 0.5220 - accuracy: 0.7371 - val_loss: 0.5188 - val_accuracy: 0.7428\n",
            "Epoch 32/100\n",
            "4500/4500 [==============================] - 18s 4ms/step - loss: 0.5218 - accuracy: 0.7380 - val_loss: 0.5166 - val_accuracy: 0.7442\n",
            "Epoch 33/100\n",
            "4500/4500 [==============================] - 17s 4ms/step - loss: 0.5195 - accuracy: 0.7387 - val_loss: 0.5176 - val_accuracy: 0.7437\n",
            "Epoch 34/100\n",
            "4500/4500 [==============================] - 17s 4ms/step - loss: 0.5192 - accuracy: 0.7397 - val_loss: 0.5159 - val_accuracy: 0.7442\n",
            "Epoch 35/100\n",
            "4500/4500 [==============================] - 19s 4ms/step - loss: 0.5178 - accuracy: 0.7412 - val_loss: 0.5148 - val_accuracy: 0.7451\n",
            "Epoch 36/100\n",
            "4500/4500 [==============================] - 18s 4ms/step - loss: 0.5154 - accuracy: 0.7418 - val_loss: 0.5139 - val_accuracy: 0.7459\n",
            "Epoch 37/100\n",
            "4500/4500 [==============================] - 17s 4ms/step - loss: 0.5145 - accuracy: 0.7430 - val_loss: 0.5135 - val_accuracy: 0.7465\n",
            "Epoch 38/100\n",
            "4500/4500 [==============================] - 18s 4ms/step - loss: 0.5150 - accuracy: 0.7430 - val_loss: 0.5122 - val_accuracy: 0.7471\n",
            "Epoch 39/100\n",
            "4500/4500 [==============================] - 19s 4ms/step - loss: 0.5138 - accuracy: 0.7436 - val_loss: 0.5134 - val_accuracy: 0.7454\n",
            "Epoch 40/100\n",
            "4500/4500 [==============================] - 18s 4ms/step - loss: 0.5119 - accuracy: 0.7441 - val_loss: 0.5137 - val_accuracy: 0.7441\n",
            "Epoch 41/100\n",
            "4500/4500 [==============================] - 19s 4ms/step - loss: 0.5115 - accuracy: 0.7462 - val_loss: 0.5111 - val_accuracy: 0.7462\n",
            "Epoch 42/100\n",
            "4500/4500 [==============================] - 17s 4ms/step - loss: 0.5099 - accuracy: 0.7470 - val_loss: 0.5112 - val_accuracy: 0.7466\n",
            "Epoch 43/100\n",
            "4500/4500 [==============================] - 17s 4ms/step - loss: 0.5095 - accuracy: 0.7472 - val_loss: 0.5096 - val_accuracy: 0.7460\n",
            "Epoch 44/100\n",
            "4500/4500 [==============================] - 18s 4ms/step - loss: 0.5090 - accuracy: 0.7469 - val_loss: 0.5085 - val_accuracy: 0.7469\n",
            "Epoch 45/100\n",
            "4500/4500 [==============================] - 18s 4ms/step - loss: 0.5077 - accuracy: 0.7477 - val_loss: 0.5082 - val_accuracy: 0.7473\n",
            "Epoch 46/100\n",
            "4500/4500 [==============================] - 17s 4ms/step - loss: 0.5075 - accuracy: 0.7487 - val_loss: 0.5074 - val_accuracy: 0.7467\n",
            "Epoch 47/100\n",
            "4500/4500 [==============================] - 17s 4ms/step - loss: 0.5070 - accuracy: 0.7480 - val_loss: 0.5079 - val_accuracy: 0.7469\n",
            "Epoch 48/100\n",
            "4500/4500 [==============================] - 19s 4ms/step - loss: 0.5053 - accuracy: 0.7506 - val_loss: 0.5063 - val_accuracy: 0.7496\n",
            "Epoch 49/100\n",
            "4500/4500 [==============================] - 18s 4ms/step - loss: 0.5034 - accuracy: 0.7507 - val_loss: 0.5076 - val_accuracy: 0.7497\n",
            "Epoch 50/100\n",
            "4500/4500 [==============================] - 18s 4ms/step - loss: 0.5041 - accuracy: 0.7507 - val_loss: 0.5081 - val_accuracy: 0.7479\n",
            "Epoch 51/100\n",
            "4500/4500 [==============================] - 19s 4ms/step - loss: 0.5024 - accuracy: 0.7527 - val_loss: 0.5052 - val_accuracy: 0.7494\n",
            "Epoch 52/100\n",
            "4500/4500 [==============================] - 19s 4ms/step - loss: 0.5023 - accuracy: 0.7518 - val_loss: 0.5042 - val_accuracy: 0.7499\n",
            "Epoch 53/100\n",
            "4500/4500 [==============================] - 18s 4ms/step - loss: 0.5008 - accuracy: 0.7532 - val_loss: 0.5050 - val_accuracy: 0.7498\n",
            "Epoch 54/100\n",
            "4500/4500 [==============================] - 18s 4ms/step - loss: 0.5006 - accuracy: 0.7535 - val_loss: 0.5060 - val_accuracy: 0.7492\n",
            "Epoch 55/100\n",
            "4500/4500 [==============================] - 19s 4ms/step - loss: 0.4998 - accuracy: 0.7524 - val_loss: 0.5080 - val_accuracy: 0.7477\n",
            "Epoch 56/100\n",
            "4500/4500 [==============================] - 18s 4ms/step - loss: 0.4994 - accuracy: 0.7542 - val_loss: 0.5031 - val_accuracy: 0.7521\n",
            "Epoch 57/100\n",
            "4500/4500 [==============================] - 19s 4ms/step - loss: 0.4998 - accuracy: 0.7533 - val_loss: 0.5030 - val_accuracy: 0.7507\n",
            "Epoch 58/100\n",
            "4500/4500 [==============================] - 18s 4ms/step - loss: 0.4976 - accuracy: 0.7549 - val_loss: 0.5025 - val_accuracy: 0.7511\n",
            "Epoch 59/100\n",
            "4500/4500 [==============================] - 18s 4ms/step - loss: 0.4980 - accuracy: 0.7550 - val_loss: 0.5016 - val_accuracy: 0.7513\n",
            "Epoch 60/100\n",
            "4500/4500 [==============================] - 18s 4ms/step - loss: 0.4966 - accuracy: 0.7558 - val_loss: 0.5019 - val_accuracy: 0.7522\n",
            "Epoch 61/100\n",
            "4500/4500 [==============================] - 19s 4ms/step - loss: 0.4962 - accuracy: 0.7554 - val_loss: 0.5053 - val_accuracy: 0.7499\n",
            "Epoch 62/100\n",
            "4500/4500 [==============================] - 18s 4ms/step - loss: 0.4950 - accuracy: 0.7566 - val_loss: 0.5022 - val_accuracy: 0.7522\n",
            "Epoch 63/100\n",
            "4500/4500 [==============================] - 17s 4ms/step - loss: 0.4958 - accuracy: 0.7556 - val_loss: 0.5041 - val_accuracy: 0.7507\n",
            "Epoch 64/100\n",
            "4500/4500 [==============================] - 19s 4ms/step - loss: 0.4937 - accuracy: 0.7583 - val_loss: 0.5004 - val_accuracy: 0.7531\n",
            "Epoch 65/100\n",
            "4500/4500 [==============================] - 18s 4ms/step - loss: 0.4919 - accuracy: 0.7593 - val_loss: 0.5003 - val_accuracy: 0.7524\n",
            "Epoch 66/100\n",
            "4500/4500 [==============================] - 18s 4ms/step - loss: 0.4923 - accuracy: 0.7578 - val_loss: 0.5020 - val_accuracy: 0.7524\n",
            "Epoch 67/100\n",
            "4500/4500 [==============================] - 18s 4ms/step - loss: 0.4912 - accuracy: 0.7596 - val_loss: 0.5000 - val_accuracy: 0.7521\n",
            "Epoch 68/100\n",
            "4500/4500 [==============================] - 19s 4ms/step - loss: 0.4917 - accuracy: 0.7584 - val_loss: 0.4997 - val_accuracy: 0.7537\n",
            "Epoch 69/100\n",
            "4500/4500 [==============================] - 18s 4ms/step - loss: 0.4912 - accuracy: 0.7583 - val_loss: 0.4981 - val_accuracy: 0.7544\n",
            "Epoch 70/100\n",
            "4500/4500 [==============================] - 18s 4ms/step - loss: 0.4916 - accuracy: 0.7589 - val_loss: 0.4984 - val_accuracy: 0.7535\n",
            "Epoch 71/100\n",
            "4500/4500 [==============================] - 18s 4ms/step - loss: 0.4895 - accuracy: 0.7620 - val_loss: 0.4978 - val_accuracy: 0.7531\n",
            "Epoch 72/100\n",
            "4500/4500 [==============================] - 19s 4ms/step - loss: 0.4896 - accuracy: 0.7608 - val_loss: 0.4975 - val_accuracy: 0.7544\n",
            "Epoch 73/100\n",
            "4500/4500 [==============================] - 18s 4ms/step - loss: 0.4883 - accuracy: 0.7620 - val_loss: 0.4975 - val_accuracy: 0.7544\n",
            "Epoch 74/100\n",
            "4500/4500 [==============================] - 18s 4ms/step - loss: 0.4881 - accuracy: 0.7605 - val_loss: 0.4975 - val_accuracy: 0.7544\n",
            "Epoch 75/100\n",
            "4500/4500 [==============================] - 19s 4ms/step - loss: 0.4862 - accuracy: 0.7620 - val_loss: 0.4967 - val_accuracy: 0.7553\n",
            "Epoch 76/100\n",
            "4500/4500 [==============================] - 19s 4ms/step - loss: 0.4871 - accuracy: 0.7621 - val_loss: 0.4959 - val_accuracy: 0.7553\n",
            "Epoch 77/100\n",
            "4500/4500 [==============================] - 19s 4ms/step - loss: 0.4872 - accuracy: 0.7630 - val_loss: 0.4973 - val_accuracy: 0.7549\n",
            "Epoch 78/100\n",
            "4500/4500 [==============================] - 18s 4ms/step - loss: 0.4857 - accuracy: 0.7627 - val_loss: 0.4958 - val_accuracy: 0.7564\n",
            "Epoch 79/100\n",
            "4500/4500 [==============================] - 17s 4ms/step - loss: 0.4848 - accuracy: 0.7638 - val_loss: 0.4961 - val_accuracy: 0.7549\n",
            "Epoch 80/100\n",
            "4500/4500 [==============================] - 18s 4ms/step - loss: 0.4853 - accuracy: 0.7634 - val_loss: 0.4950 - val_accuracy: 0.7565\n",
            "Epoch 81/100\n",
            "4500/4500 [==============================] - 19s 4ms/step - loss: 0.4855 - accuracy: 0.7623 - val_loss: 0.4976 - val_accuracy: 0.7550\n",
            "Epoch 82/100\n",
            "4500/4500 [==============================] - 18s 4ms/step - loss: 0.4846 - accuracy: 0.7649 - val_loss: 0.4953 - val_accuracy: 0.7551\n",
            "Epoch 83/100\n",
            "4500/4500 [==============================] - 18s 4ms/step - loss: 0.4828 - accuracy: 0.7658 - val_loss: 0.4946 - val_accuracy: 0.7559\n",
            "Epoch 84/100\n",
            "4500/4500 [==============================] - 19s 4ms/step - loss: 0.4827 - accuracy: 0.7646 - val_loss: 0.4947 - val_accuracy: 0.7568\n",
            "Epoch 85/100\n",
            "4500/4500 [==============================] - 18s 4ms/step - loss: 0.4826 - accuracy: 0.7648 - val_loss: 0.4946 - val_accuracy: 0.7562\n",
            "Epoch 86/100\n",
            "4500/4500 [==============================] - 18s 4ms/step - loss: 0.4819 - accuracy: 0.7655 - val_loss: 0.4948 - val_accuracy: 0.7556\n",
            "Epoch 87/100\n",
            "4500/4500 [==============================] - 18s 4ms/step - loss: 0.4816 - accuracy: 0.7664 - val_loss: 0.4975 - val_accuracy: 0.7551\n",
            "Epoch 88/100\n",
            "4500/4500 [==============================] - 19s 4ms/step - loss: 0.4804 - accuracy: 0.7658 - val_loss: 0.4947 - val_accuracy: 0.7559\n",
            "Epoch 89/100\n",
            "4500/4500 [==============================] - 18s 4ms/step - loss: 0.4794 - accuracy: 0.7665 - val_loss: 0.4935 - val_accuracy: 0.7567\n",
            "Epoch 90/100\n",
            "4500/4500 [==============================] - 18s 4ms/step - loss: 0.4793 - accuracy: 0.7679 - val_loss: 0.4937 - val_accuracy: 0.7573\n",
            "Epoch 91/100\n",
            "4500/4500 [==============================] - 18s 4ms/step - loss: 0.4796 - accuracy: 0.7664 - val_loss: 0.4940 - val_accuracy: 0.7574\n",
            "Epoch 92/100\n",
            "4500/4500 [==============================] - 19s 4ms/step - loss: 0.4792 - accuracy: 0.7676 - val_loss: 0.4933 - val_accuracy: 0.7576\n",
            "Epoch 93/100\n",
            "4500/4500 [==============================] - 19s 4ms/step - loss: 0.4786 - accuracy: 0.7682 - val_loss: 0.4928 - val_accuracy: 0.7588\n",
            "Epoch 94/100\n",
            "4500/4500 [==============================] - 18s 4ms/step - loss: 0.4788 - accuracy: 0.7682 - val_loss: 0.4938 - val_accuracy: 0.7584\n",
            "Epoch 95/100\n",
            "4500/4500 [==============================] - 18s 4ms/step - loss: 0.4775 - accuracy: 0.7690 - val_loss: 0.4923 - val_accuracy: 0.7597\n",
            "Epoch 96/100\n",
            "4500/4500 [==============================] - 18s 4ms/step - loss: 0.4775 - accuracy: 0.7677 - val_loss: 0.4934 - val_accuracy: 0.7574\n",
            "Epoch 97/100\n",
            "4500/4500 [==============================] - 19s 4ms/step - loss: 0.4769 - accuracy: 0.7690 - val_loss: 0.4954 - val_accuracy: 0.7566\n",
            "Epoch 98/100\n",
            "4500/4500 [==============================] - 18s 4ms/step - loss: 0.4774 - accuracy: 0.7684 - val_loss: 0.4919 - val_accuracy: 0.7585\n",
            "Epoch 99/100\n",
            "4500/4500 [==============================] - 18s 4ms/step - loss: 0.4762 - accuracy: 0.7699 - val_loss: 0.4930 - val_accuracy: 0.7576\n",
            "Epoch 100/100\n",
            "4500/4500 [==============================] - 19s 4ms/step - loss: 0.4758 - accuracy: 0.7708 - val_loss: 0.4921 - val_accuracy: 0.7582\n",
            "Training Completed!\n"
          ],
          "name": "stdout"
        }
      ]
    },
    {
      "cell_type": "code",
      "metadata": {
        "colab": {
          "base_uri": "https://localhost:8080/",
          "height": 573
        },
        "id": "OBWNIcopTRBC",
        "outputId": "fff08372-5f77-48bd-c586-4a35aabd3ab6"
      },
      "source": [
        "import matplotlib.image  as mpimg\n",
        "import matplotlib.pyplot as plt\n",
        "\n",
        "#-----------------------------------------------------------\n",
        "# Retrieve a list of list results on training and test data\n",
        "# sets for each training epoch\n",
        "#-----------------------------------------------------------\n",
        "acc=history.history['accuracy']\n",
        "val_acc=history.history['val_accuracy']\n",
        "loss=history.history['loss']\n",
        "val_loss=history.history['val_loss']\n",
        "\n",
        "epochs=range(len(acc)) # Get number of epochs\n",
        "\n",
        "#------------------------------------------------\n",
        "# Plot training and validation accuracy per epoch\n",
        "#------------------------------------------------\n",
        "plt.plot(epochs, acc, 'r')\n",
        "plt.plot(epochs, val_acc, 'b')\n",
        "plt.title('Training and validation accuracy')\n",
        "plt.xlabel(\"Epochs\")\n",
        "plt.ylabel(\"Accuracy\")\n",
        "plt.legend([\"Accuracy\", \"Validation Accuracy\"])\n",
        "\n",
        "plt.show()\n",
        "\n",
        "#------------------------------------------------\n",
        "# Plot training and validation loss per epoch\n",
        "#------------------------------------------------\n",
        "plt.plot(epochs, loss, 'r')\n",
        "plt.plot(epochs, val_loss, 'b')\n",
        "plt.title('Training and validation loss')\n",
        "plt.xlabel(\"Epochs\")\n",
        "plt.ylabel(\"Loss\")\n",
        "plt.legend([\"Loss\", \"Validation Loss\"])\n",
        "\n",
        "plt.show()"
      ],
      "execution_count": 12,
      "outputs": [
        {
          "output_type": "display_data",
          "data": {
            "image/png": "[encoded data removed]",
            "text/plain": [
              "<Figure size 432x288 with 1 Axes>"
            ]
          },
          "metadata": {
            "tags": [],
            "needs_background": "light"
          }
        },
        {
          "output_type": "display_data",
          "data": {
            "image/png": "[encoded data removed]",
            "text/plain": [
              "<Figure size 432x288 with 1 Axes>"
            ]
          },
          "metadata": {
            "tags": [],
            "needs_background": "light"
          }
        }
      ]
    },
    {
      "cell_type": "code",
      "metadata": {
        "id": "LupFIG1oTsuS"
      },
      "source": [
        ""
      ],
      "execution_count": 11,
      "outputs": []
    }
  ]
}
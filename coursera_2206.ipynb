{
  "nbformat": 4,
  "nbformat_minor": 0,
  "metadata": {
    "colab": {
      "name": "coursera_2206.ipynb",
      "provenance": [],
      "authorship_tag": "ABX9TyPEtwozrDUNp0C57XflzIza",
      "include_colab_link": true
    },
    "kernelspec": {
      "name": "python3",
      "display_name": "Python 3"
    },
    "accelerator": "GPU"
  },
  "cells": [
    {
      "cell_type": "markdown",
      "metadata": {
        "id": "view-in-github",
        "colab_type": "text"
      },
      "source": [
        "<a href=\"https://colab.research.google.com/github/rawatpremsingh999/tensorflow-coursera/blob/master/coursera_2206.ipynb\" target=\"_parent\"><img src=\"https://colab.research.google.com/assets/colab-badge.svg\" alt=\"Open In Colab\"/></a>"
      ]
    },
    {
      "cell_type": "markdown",
      "metadata": {
        "id": "z5ByjbcAZwJ7"
      },
      "source": [
        "## Image Augmentations"
      ]
    },
    {
      "cell_type": "markdown",
      "metadata": {
        "id": "evjSDuJ4aKp7"
      },
      "source": [
        "**Train Images without augmentation:**"
      ]
    },
    {
      "cell_type": "code",
      "metadata": {
        "colab": {
          "base_uri": "https://localhost:8080/"
        },
        "id": "58B4kuMOZmuY",
        "outputId": "c7d512aa-b512-4743-d9fc-a3d2b0b2ca8c"
      },
      "source": [
        "# Download the data\n",
        "!wget --no-check-certificate \\\n",
        "    https://storage.googleapis.com/mledu-datasets/cats_and_dogs_filtered.zip \\\n",
        "    -O /tmp/cats_and_dogs_filtered.zip"
      ],
      "execution_count": 1,
      "outputs": [
        {
          "output_type": "stream",
          "text": [
            "--2021-01-26 11:25:49--  https://storage.googleapis.com/mledu-datasets/cats_and_dogs_filtered.zip\n",
            "Resolving storage.googleapis.com (storage.googleapis.com)... 74.125.142.128, 74.125.195.128, 2607:f8b0:400e:c08::80, ...\n",
            "Connecting to storage.googleapis.com (storage.googleapis.com)|74.125.142.128|:443... connected.\n",
            "HTTP request sent, awaiting response... 200 OK\n",
            "Length: 68606236 (65M) [application/zip]\n",
            "Saving to: ‘/tmp/cats_and_dogs_filtered.zip’\n",
            "\n",
            "/tmp/cats_and_dogs_ 100%[===================>]  65.43M  81.8MB/s    in 0.8s    \n",
            "\n",
            "2021-01-26 11:25:50 (81.8 MB/s) - ‘/tmp/cats_and_dogs_filtered.zip’ saved [68606236/68606236]\n",
            "\n"
          ],
          "name": "stdout"
        }
      ]
    },
    {
      "cell_type": "code",
      "metadata": {
        "id": "tHEtf-oRabnD"
      },
      "source": [
        "# importing naccessary libraries\n",
        "import os\n",
        "import zipfile\n",
        "import tensorflow as tf\n",
        "from tensorflow.keras.optimizers import RMSprop\n",
        "from tensorflow.keras.preprocessing.image import ImageDataGenerator"
      ],
      "execution_count": 2,
      "outputs": []
    },
    {
      "cell_type": "code",
      "metadata": {
        "id": "4ixzOU_9apZt"
      },
      "source": [
        "# Extract images from zip file\n",
        "local_zip = '/tmp/cats_and_dogs_filtered.zip'\n",
        "zip_ref = zipfile.ZipFile(local_zip, 'r')\n",
        "zip_ref.extractall('/tmp')\n",
        "zip_ref.close()"
      ],
      "execution_count": 3,
      "outputs": []
    },
    {
      "cell_type": "code",
      "metadata": {
        "id": "urKZXc0-bAEl"
      },
      "source": [
        "base_dir = '/tmp/cats_and_dogs_filtered'\n",
        "train_dir = os.path.join(base_dir, 'train')\n",
        "validation_dir = os.path.join(base_dir, 'validation')\n",
        "\n",
        "# Directory with our training cat pictures\n",
        "train_cats_dir = os.path.join(train_dir, 'cats')\n",
        "\n",
        "# Directory with our training dog pictures\n",
        "train_dogs_dir = os.path.join(train_dir, 'dogs')\n",
        "\n",
        "# Directory with our validation cat pictures\n",
        "validation_cats_dir = os.path.join(validation_dir, 'cats')\n",
        "\n",
        "# Directory with our validation dog pictures\n",
        "validation_dogs_dir = os.path.join(validation_dir, 'dogs')"
      ],
      "execution_count": 4,
      "outputs": []
    },
    {
      "cell_type": "code",
      "metadata": {
        "id": "Os8VIgl4bLgE"
      },
      "source": [
        "# Build a Convolution Neural Network\n",
        "model = tf.keras.models.Sequential([\n",
        "    tf.keras.layers.Conv2D(32, (3,3), activation='relu', input_shape=(150, 150, 3)),\n",
        "    tf.keras.layers.MaxPooling2D(2, 2),\n",
        "    tf.keras.layers.Conv2D(64, (3,3), activation='relu'),\n",
        "    tf.keras.layers.MaxPooling2D(2,2),\n",
        "    tf.keras.layers.Conv2D(128, (3,3), activation='relu'),\n",
        "    tf.keras.layers.MaxPooling2D(2,2),\n",
        "    tf.keras.layers.Conv2D(128, (3,3), activation='relu'),\n",
        "    tf.keras.layers.MaxPooling2D(2,2),\n",
        "    tf.keras.layers.Flatten(),\n",
        "    tf.keras.layers.Dense(512, activation='relu'),\n",
        "    tf.keras.layers.Dense(1, activation='sigmoid')\n",
        "])"
      ],
      "execution_count": 5,
      "outputs": []
    },
    {
      "cell_type": "code",
      "metadata": {
        "id": "nbICAB7bbw_5"
      },
      "source": [
        "# Define compilation of images\n",
        "model.compile(loss='binary_crossentropy',\n",
        "              optimizer=RMSprop(lr=1e-4),\n",
        "              metrics=['accuracy'])"
      ],
      "execution_count": 6,
      "outputs": []
    },
    {
      "cell_type": "code",
      "metadata": {
        "colab": {
          "base_uri": "https://localhost:8080/"
        },
        "id": "zdXh0yacbxSp",
        "outputId": "560919bb-9dcc-470a-efe6-b1e6a4b39061"
      },
      "source": [
        "# All images will be rescaled by 1./255\n",
        "train_datagen = ImageDataGenerator(rescale=1./255)\n",
        "test_datagen = ImageDataGenerator(rescale=1./255)\n",
        "\n",
        "# Flow training images in batches of 20 using train_datagen generator\n",
        "train_generator = train_datagen.flow_from_directory(\n",
        "        train_dir,  # This is the source directory for training images\n",
        "        target_size=(150, 150),  # All images will be resized to 150x150\n",
        "        batch_size=20,\n",
        "        # Since we use binary_crossentropy loss, we need binary labels\n",
        "        class_mode='binary')\n",
        "\n",
        "# Flow validation images in batches of 20 using test_datagen generator\n",
        "validation_generator = test_datagen.flow_from_directory(\n",
        "        validation_dir,\n",
        "        target_size=(150, 150),\n",
        "        batch_size=20,\n",
        "        class_mode='binary')"
      ],
      "execution_count": 7,
      "outputs": [
        {
          "output_type": "stream",
          "text": [
            "Found 2000 images belonging to 2 classes.\n",
            "Found 1000 images belonging to 2 classes.\n"
          ],
          "name": "stdout"
        }
      ]
    },
    {
      "cell_type": "code",
      "metadata": {
        "colab": {
          "base_uri": "https://localhost:8080/"
        },
        "id": "jL6N-BL-cCe9",
        "outputId": "e1498104-b13e-436e-874e-27ae77048bc2"
      },
      "source": [
        "# Train the Network\n",
        "history = model.fit(\n",
        "      train_generator,\n",
        "      steps_per_epoch=100,  # 2000 images = batch_size * steps\n",
        "      epochs=100,\n",
        "      validation_data=validation_generator,\n",
        "      validation_steps=50,  # 1000 images = batch_size * steps\n",
        "      verbose=2)"
      ],
      "execution_count": 8,
      "outputs": [
        {
          "output_type": "stream",
          "text": [
            "Epoch 1/100\n",
            "100/100 - 16s - loss: 0.6916 - accuracy: 0.5350 - val_loss: 0.6788 - val_accuracy: 0.5140\n",
            "Epoch 2/100\n",
            "100/100 - 8s - loss: 0.6633 - accuracy: 0.6100 - val_loss: 0.6489 - val_accuracy: 0.6150\n",
            "Epoch 3/100\n",
            "100/100 - 8s - loss: 0.6312 - accuracy: 0.6475 - val_loss: 0.6150 - val_accuracy: 0.6740\n",
            "Epoch 4/100\n",
            "100/100 - 8s - loss: 0.5910 - accuracy: 0.6885 - val_loss: 0.6106 - val_accuracy: 0.6500\n",
            "Epoch 5/100\n",
            "100/100 - 8s - loss: 0.5498 - accuracy: 0.7260 - val_loss: 0.5928 - val_accuracy: 0.6850\n",
            "Epoch 6/100\n",
            "100/100 - 8s - loss: 0.5271 - accuracy: 0.7395 - val_loss: 0.5692 - val_accuracy: 0.7120\n",
            "Epoch 7/100\n",
            "100/100 - 8s - loss: 0.4892 - accuracy: 0.7545 - val_loss: 0.5524 - val_accuracy: 0.7100\n",
            "Epoch 8/100\n",
            "100/100 - 8s - loss: 0.4605 - accuracy: 0.7845 - val_loss: 0.5908 - val_accuracy: 0.6880\n",
            "Epoch 9/100\n",
            "100/100 - 8s - loss: 0.4330 - accuracy: 0.7995 - val_loss: 0.5376 - val_accuracy: 0.7260\n",
            "Epoch 10/100\n",
            "100/100 - 8s - loss: 0.4013 - accuracy: 0.8225 - val_loss: 0.5382 - val_accuracy: 0.7270\n",
            "Epoch 11/100\n",
            "100/100 - 8s - loss: 0.3804 - accuracy: 0.8290 - val_loss: 0.5222 - val_accuracy: 0.7540\n",
            "Epoch 12/100\n",
            "100/100 - 8s - loss: 0.3532 - accuracy: 0.8400 - val_loss: 0.5452 - val_accuracy: 0.7300\n",
            "Epoch 13/100\n",
            "100/100 - 8s - loss: 0.3241 - accuracy: 0.8580 - val_loss: 0.5576 - val_accuracy: 0.7310\n",
            "Epoch 14/100\n",
            "100/100 - 8s - loss: 0.3095 - accuracy: 0.8615 - val_loss: 0.5549 - val_accuracy: 0.7340\n",
            "Epoch 15/100\n",
            "100/100 - 8s - loss: 0.2804 - accuracy: 0.8830 - val_loss: 0.6888 - val_accuracy: 0.6960\n",
            "Epoch 16/100\n",
            "100/100 - 8s - loss: 0.2516 - accuracy: 0.8990 - val_loss: 0.5838 - val_accuracy: 0.7480\n",
            "Epoch 17/100\n",
            "100/100 - 8s - loss: 0.2330 - accuracy: 0.9095 - val_loss: 0.5840 - val_accuracy: 0.7470\n",
            "Epoch 18/100\n",
            "100/100 - 8s - loss: 0.2069 - accuracy: 0.9190 - val_loss: 0.6881 - val_accuracy: 0.7220\n",
            "Epoch 19/100\n",
            "100/100 - 8s - loss: 0.1946 - accuracy: 0.9275 - val_loss: 0.5976 - val_accuracy: 0.7360\n",
            "Epoch 20/100\n",
            "100/100 - 8s - loss: 0.1729 - accuracy: 0.9350 - val_loss: 0.6431 - val_accuracy: 0.7320\n",
            "Epoch 21/100\n",
            "100/100 - 9s - loss: 0.1527 - accuracy: 0.9445 - val_loss: 0.6228 - val_accuracy: 0.7530\n",
            "Epoch 22/100\n",
            "100/100 - 8s - loss: 0.1339 - accuracy: 0.9535 - val_loss: 0.6613 - val_accuracy: 0.7490\n",
            "Epoch 23/100\n",
            "100/100 - 8s - loss: 0.1193 - accuracy: 0.9595 - val_loss: 0.7367 - val_accuracy: 0.7570\n",
            "Epoch 24/100\n",
            "100/100 - 8s - loss: 0.1026 - accuracy: 0.9655 - val_loss: 0.7096 - val_accuracy: 0.7610\n",
            "Epoch 25/100\n",
            "100/100 - 8s - loss: 0.0911 - accuracy: 0.9675 - val_loss: 0.7705 - val_accuracy: 0.7480\n",
            "Epoch 26/100\n",
            "100/100 - 8s - loss: 0.0769 - accuracy: 0.9780 - val_loss: 0.7451 - val_accuracy: 0.7560\n",
            "Epoch 27/100\n",
            "100/100 - 8s - loss: 0.0693 - accuracy: 0.9795 - val_loss: 0.9788 - val_accuracy: 0.7230\n",
            "Epoch 28/100\n",
            "100/100 - 8s - loss: 0.0562 - accuracy: 0.9865 - val_loss: 0.9015 - val_accuracy: 0.7460\n",
            "Epoch 29/100\n",
            "100/100 - 8s - loss: 0.0551 - accuracy: 0.9845 - val_loss: 0.8681 - val_accuracy: 0.7440\n",
            "Epoch 30/100\n",
            "100/100 - 8s - loss: 0.0447 - accuracy: 0.9880 - val_loss: 0.8600 - val_accuracy: 0.7450\n",
            "Epoch 31/100\n",
            "100/100 - 8s - loss: 0.0402 - accuracy: 0.9880 - val_loss: 0.8699 - val_accuracy: 0.7580\n",
            "Epoch 32/100\n",
            "100/100 - 8s - loss: 0.0246 - accuracy: 0.9955 - val_loss: 1.1935 - val_accuracy: 0.7340\n",
            "Epoch 33/100\n",
            "100/100 - 8s - loss: 0.0325 - accuracy: 0.9920 - val_loss: 0.9943 - val_accuracy: 0.7610\n",
            "Epoch 34/100\n",
            "100/100 - 8s - loss: 0.0201 - accuracy: 0.9945 - val_loss: 1.1248 - val_accuracy: 0.7520\n",
            "Epoch 35/100\n",
            "100/100 - 8s - loss: 0.0257 - accuracy: 0.9935 - val_loss: 1.2701 - val_accuracy: 0.7390\n",
            "Epoch 36/100\n",
            "100/100 - 8s - loss: 0.0164 - accuracy: 0.9955 - val_loss: 1.1121 - val_accuracy: 0.7630\n",
            "Epoch 37/100\n",
            "100/100 - 8s - loss: 0.0163 - accuracy: 0.9970 - val_loss: 1.4987 - val_accuracy: 0.7250\n",
            "Epoch 38/100\n",
            "100/100 - 8s - loss: 0.0165 - accuracy: 0.9945 - val_loss: 1.1533 - val_accuracy: 0.7580\n",
            "Epoch 39/100\n",
            "100/100 - 8s - loss: 0.0146 - accuracy: 0.9950 - val_loss: 1.1811 - val_accuracy: 0.7590\n",
            "Epoch 40/100\n",
            "100/100 - 8s - loss: 0.0127 - accuracy: 0.9965 - val_loss: 1.1887 - val_accuracy: 0.7560\n",
            "Epoch 41/100\n",
            "100/100 - 8s - loss: 0.0110 - accuracy: 0.9965 - val_loss: 1.2941 - val_accuracy: 0.7530\n",
            "Epoch 42/100\n",
            "100/100 - 8s - loss: 0.0180 - accuracy: 0.9955 - val_loss: 1.2686 - val_accuracy: 0.7520\n",
            "Epoch 43/100\n",
            "100/100 - 8s - loss: 0.0116 - accuracy: 0.9965 - val_loss: 1.3641 - val_accuracy: 0.7580\n",
            "Epoch 44/100\n",
            "100/100 - 8s - loss: 0.0114 - accuracy: 0.9965 - val_loss: 1.3876 - val_accuracy: 0.7580\n",
            "Epoch 45/100\n",
            "100/100 - 8s - loss: 0.0064 - accuracy: 0.9985 - val_loss: 1.5361 - val_accuracy: 0.7430\n",
            "Epoch 46/100\n",
            "100/100 - 8s - loss: 0.0086 - accuracy: 0.9975 - val_loss: 1.5348 - val_accuracy: 0.7580\n",
            "Epoch 47/100\n",
            "100/100 - 8s - loss: 0.0102 - accuracy: 0.9960 - val_loss: 1.4067 - val_accuracy: 0.7590\n",
            "Epoch 48/100\n",
            "100/100 - 8s - loss: 0.0057 - accuracy: 0.9985 - val_loss: 1.6003 - val_accuracy: 0.7390\n",
            "Epoch 49/100\n",
            "100/100 - 8s - loss: 0.0095 - accuracy: 0.9965 - val_loss: 1.4278 - val_accuracy: 0.7660\n",
            "Epoch 50/100\n",
            "100/100 - 8s - loss: 0.0115 - accuracy: 0.9960 - val_loss: 1.4177 - val_accuracy: 0.7620\n",
            "Epoch 51/100\n",
            "100/100 - 8s - loss: 0.0112 - accuracy: 0.9965 - val_loss: 1.4705 - val_accuracy: 0.7650\n",
            "Epoch 52/100\n",
            "100/100 - 8s - loss: 0.0081 - accuracy: 0.9980 - val_loss: 1.5064 - val_accuracy: 0.7520\n",
            "Epoch 53/100\n",
            "100/100 - 8s - loss: 0.0080 - accuracy: 0.9965 - val_loss: 1.4997 - val_accuracy: 0.7480\n",
            "Epoch 54/100\n",
            "100/100 - 8s - loss: 0.0069 - accuracy: 0.9980 - val_loss: 1.6052 - val_accuracy: 0.7490\n",
            "Epoch 55/100\n",
            "100/100 - 8s - loss: 0.0145 - accuracy: 0.9970 - val_loss: 1.6238 - val_accuracy: 0.7540\n",
            "Epoch 56/100\n",
            "100/100 - 8s - loss: 0.0081 - accuracy: 0.9980 - val_loss: 1.6491 - val_accuracy: 0.7490\n",
            "Epoch 57/100\n",
            "100/100 - 8s - loss: 0.0034 - accuracy: 0.9980 - val_loss: 1.7206 - val_accuracy: 0.7520\n",
            "Epoch 58/100\n",
            "100/100 - 8s - loss: 0.0110 - accuracy: 0.9980 - val_loss: 1.7802 - val_accuracy: 0.7530\n",
            "Epoch 59/100\n",
            "100/100 - 8s - loss: 0.0046 - accuracy: 0.9975 - val_loss: 1.7517 - val_accuracy: 0.7520\n",
            "Epoch 60/100\n",
            "100/100 - 8s - loss: 0.0032 - accuracy: 0.9985 - val_loss: 1.7938 - val_accuracy: 0.7490\n",
            "Epoch 61/100\n",
            "100/100 - 8s - loss: 0.0062 - accuracy: 0.9980 - val_loss: 1.7866 - val_accuracy: 0.7430\n",
            "Epoch 62/100\n",
            "100/100 - 8s - loss: 0.0057 - accuracy: 0.9970 - val_loss: 1.7569 - val_accuracy: 0.7520\n",
            "Epoch 63/100\n",
            "100/100 - 8s - loss: 0.0056 - accuracy: 0.9995 - val_loss: 1.7791 - val_accuracy: 0.7490\n",
            "Epoch 64/100\n",
            "100/100 - 8s - loss: 0.0069 - accuracy: 0.9975 - val_loss: 1.7780 - val_accuracy: 0.7540\n",
            "Epoch 65/100\n",
            "100/100 - 8s - loss: 0.0076 - accuracy: 0.9985 - val_loss: 1.8268 - val_accuracy: 0.7650\n",
            "Epoch 66/100\n",
            "100/100 - 8s - loss: 0.0213 - accuracy: 0.9960 - val_loss: 1.8757 - val_accuracy: 0.7460\n",
            "Epoch 67/100\n",
            "100/100 - 8s - loss: 0.0081 - accuracy: 0.9980 - val_loss: 1.8331 - val_accuracy: 0.7550\n",
            "Epoch 68/100\n",
            "100/100 - 8s - loss: 0.0012 - accuracy: 1.0000 - val_loss: 1.9034 - val_accuracy: 0.7430\n",
            "Epoch 69/100\n",
            "100/100 - 8s - loss: 0.0031 - accuracy: 0.9990 - val_loss: 1.9535 - val_accuracy: 0.7560\n",
            "Epoch 70/100\n",
            "100/100 - 8s - loss: 0.0037 - accuracy: 0.9980 - val_loss: 2.1212 - val_accuracy: 0.7550\n",
            "Epoch 71/100\n",
            "100/100 - 8s - loss: 0.0061 - accuracy: 0.9980 - val_loss: 1.9385 - val_accuracy: 0.7410\n",
            "Epoch 72/100\n",
            "100/100 - 8s - loss: 0.0080 - accuracy: 0.9965 - val_loss: 1.9167 - val_accuracy: 0.7510\n",
            "Epoch 73/100\n",
            "100/100 - 8s - loss: 9.1903e-04 - accuracy: 1.0000 - val_loss: 1.9447 - val_accuracy: 0.7450\n",
            "Epoch 74/100\n",
            "100/100 - 8s - loss: 0.0020 - accuracy: 0.9990 - val_loss: 1.9750 - val_accuracy: 0.7580\n",
            "Epoch 75/100\n",
            "100/100 - 8s - loss: 0.0128 - accuracy: 0.9985 - val_loss: 1.9741 - val_accuracy: 0.7610\n",
            "Epoch 76/100\n",
            "100/100 - 8s - loss: 0.0042 - accuracy: 0.9990 - val_loss: 1.9410 - val_accuracy: 0.7630\n",
            "Epoch 77/100\n",
            "100/100 - 8s - loss: 7.2239e-04 - accuracy: 1.0000 - val_loss: 2.0524 - val_accuracy: 0.7550\n",
            "Epoch 78/100\n",
            "100/100 - 8s - loss: 0.0015 - accuracy: 0.9995 - val_loss: 2.1407 - val_accuracy: 0.7400\n",
            "Epoch 79/100\n",
            "100/100 - 8s - loss: 0.0077 - accuracy: 0.9975 - val_loss: 2.0887 - val_accuracy: 0.7440\n",
            "Epoch 80/100\n",
            "100/100 - 8s - loss: 0.0108 - accuracy: 0.9990 - val_loss: 2.1755 - val_accuracy: 0.7490\n",
            "Epoch 81/100\n",
            "100/100 - 8s - loss: 0.0072 - accuracy: 0.9975 - val_loss: 2.1016 - val_accuracy: 0.7490\n",
            "Epoch 82/100\n",
            "100/100 - 8s - loss: 0.0072 - accuracy: 0.9980 - val_loss: 2.4132 - val_accuracy: 0.7440\n",
            "Epoch 83/100\n",
            "100/100 - 8s - loss: 0.0024 - accuracy: 0.9990 - val_loss: 2.1737 - val_accuracy: 0.7560\n",
            "Epoch 84/100\n",
            "100/100 - 8s - loss: 0.0017 - accuracy: 0.9995 - val_loss: 2.0892 - val_accuracy: 0.7530\n",
            "Epoch 85/100\n",
            "100/100 - 8s - loss: 0.0032 - accuracy: 0.9990 - val_loss: 2.1656 - val_accuracy: 0.7560\n",
            "Epoch 86/100\n",
            "100/100 - 8s - loss: 6.2799e-04 - accuracy: 1.0000 - val_loss: 2.5139 - val_accuracy: 0.7330\n",
            "Epoch 87/100\n",
            "100/100 - 8s - loss: 0.0022 - accuracy: 0.9995 - val_loss: 2.2655 - val_accuracy: 0.7440\n",
            "Epoch 88/100\n",
            "100/100 - 8s - loss: 0.0042 - accuracy: 0.9985 - val_loss: 2.1979 - val_accuracy: 0.7570\n",
            "Epoch 89/100\n",
            "100/100 - 8s - loss: 0.0039 - accuracy: 0.9985 - val_loss: 2.4581 - val_accuracy: 0.7440\n",
            "Epoch 90/100\n",
            "100/100 - 8s - loss: 2.0619e-04 - accuracy: 1.0000 - val_loss: 2.3357 - val_accuracy: 0.7450\n",
            "Epoch 91/100\n",
            "100/100 - 8s - loss: 0.0072 - accuracy: 0.9990 - val_loss: 2.2283 - val_accuracy: 0.7510\n",
            "Epoch 92/100\n",
            "100/100 - 8s - loss: 0.0059 - accuracy: 0.9980 - val_loss: 2.3524 - val_accuracy: 0.7470\n",
            "Epoch 93/100\n",
            "100/100 - 8s - loss: 1.4640e-05 - accuracy: 1.0000 - val_loss: 2.3132 - val_accuracy: 0.7550\n",
            "Epoch 94/100\n",
            "100/100 - 9s - loss: 0.0033 - accuracy: 0.9985 - val_loss: 2.4395 - val_accuracy: 0.7460\n",
            "Epoch 95/100\n",
            "100/100 - 9s - loss: 1.9392e-04 - accuracy: 1.0000 - val_loss: 2.5620 - val_accuracy: 0.7430\n",
            "Epoch 96/100\n",
            "100/100 - 8s - loss: 0.0019 - accuracy: 0.9985 - val_loss: 2.4963 - val_accuracy: 0.7430\n",
            "Epoch 97/100\n",
            "100/100 - 8s - loss: 0.0036 - accuracy: 0.9985 - val_loss: 2.3237 - val_accuracy: 0.7470\n",
            "Epoch 98/100\n",
            "100/100 - 8s - loss: 8.7376e-06 - accuracy: 1.0000 - val_loss: 2.4363 - val_accuracy: 0.7490\n",
            "Epoch 99/100\n",
            "100/100 - 8s - loss: 0.0154 - accuracy: 0.9960 - val_loss: 2.6116 - val_accuracy: 0.7460\n",
            "Epoch 100/100\n",
            "100/100 - 8s - loss: 0.0031 - accuracy: 0.9990 - val_loss: 2.5343 - val_accuracy: 0.7270\n"
          ],
          "name": "stdout"
        }
      ]
    },
    {
      "cell_type": "code",
      "metadata": {
        "colab": {
          "base_uri": "https://localhost:8080/",
          "height": 545
        },
        "id": "20xzZD1acKSD",
        "outputId": "727a3b2f-09b5-42a6-a004-86864d2fdd75"
      },
      "source": [
        "# Loss and Accuracy graph\n",
        "import matplotlib.pyplot as plt\n",
        "acc = history.history['accuracy']\n",
        "val_acc = history.history['val_accuracy']\n",
        "loss = history.history['loss']\n",
        "val_loss = history.history['val_loss']\n",
        "\n",
        "epochs = range(len(acc))\n",
        "\n",
        "plt.plot(epochs, acc, 'bo', label='Training accuracy')\n",
        "plt.plot(epochs, val_acc, 'b', label='Validation accuracy')\n",
        "plt.title('Training and validation accuracy')\n",
        "\n",
        "plt.figure()\n",
        "\n",
        "plt.plot(epochs, loss, 'bo', label='Training Loss')\n",
        "plt.plot(epochs, val_loss, 'b', label='Validation Loss')\n",
        "plt.title('Training and validation loss')\n",
        "plt.legend()\n",
        "\n",
        "plt.show()"
      ],
      "execution_count": 9,
      "outputs": [
        {
          "output_type": "display_data",
          "data": {
            "image/png": "[encoded data removed]",
            "text/plain": [
              "<Figure size 432x288 with 1 Axes>"
            ]
          },
          "metadata": {
            "tags": [],
            "needs_background": "light"
          }
        },
        {
          "output_type": "display_data",
          "data": {
            "image/png": "[encoded data removed]",
            "text/plain": [
              "<Figure size 432x288 with 1 Axes>"
            ]
          },
          "metadata": {
            "tags": [],
            "needs_background": "light"
          }
        }
      ]
    },
    {
      "cell_type": "markdown",
      "metadata": {
        "id": "ecUP5WyDi_4g"
      },
      "source": [
        "The Training Accuracy is close to 100%, and the validation accuracy is in the 70%-80% range. This is a great example of overfitting.\n",
        "\n",
        "So, we will use augmentation of images to overcome overfitting problem. \n",
        "\n",
        "We tweak with the images to change this up a bit -- rotate the image, squash it, etc. That's what image augementation is all about.\n",
        "\n",
        "Now take a look at the ImageGenerator. There are properties on it that we can use to augment the image. \n",
        "\n",
        "```\n",
        "# Updated to do image augmentation\n",
        "train_datagen = ImageDataGenerator(\n",
        "      rotation_range=40,\n",
        "      width_shift_range=0.2,\n",
        "      height_shift_range=0.2,\n",
        "      shear_range=0.2,\n",
        "      zoom_range=0.2,\n",
        "      horizontal_flip=True,\n",
        "      fill_mode='nearest')\n",
        "```\n",
        "\n",
        "\n",
        "* rotation_range is a value in degrees (0–180), a range within which to randomly rotate pictures.\n",
        "* width_shift and height_shift are ranges (as a fraction of total width or height) within which to randomly translate pictures vertically or horizontally.\n",
        "* shear_range is for randomly applying shearing transformations.\n",
        "* zoom_range is for randomly zooming inside pictures.\n",
        "* horizontal_flip is for randomly flipping half of the images horizontally. This is relevant when there are no assumptions of horizontal assymmetry (e.g. real-world pictures).\n",
        "* fill_mode is the strategy used for filling in newly created pixels, which can appear after a rotation or a width/height shift."
      ]
    },
    {
      "cell_type": "code",
      "metadata": {
        "colab": {
          "base_uri": "https://localhost:8080/"
        },
        "id": "f8hWJ0qyiYLm",
        "outputId": "df6c42d6-4eeb-4354-9c71-265d1ab04171"
      },
      "source": [
        "# This code has changed. Now instead of the ImageGenerator just rescaling\n",
        "# the image, we also rotate and do other operations\n",
        "# Updated to do image augmentation\n",
        "train_datagen = ImageDataGenerator(\n",
        "      rescale=1./255,\n",
        "      rotation_range=40,\n",
        "      width_shift_range=0.2,\n",
        "      height_shift_range=0.2,\n",
        "      shear_range=0.2,\n",
        "      zoom_range=0.2,\n",
        "      horizontal_flip=True,\n",
        "      fill_mode='nearest')\n",
        "\n",
        "test_datagen = ImageDataGenerator(rescale=1./255)\n",
        "\n",
        "# Flow training images in batches of 20 using train_datagen generator\n",
        "train_generator = train_datagen.flow_from_directory(\n",
        "        train_dir,  # This is the source directory for training images\n",
        "        target_size=(150, 150),  # All images will be resized to 150x150\n",
        "        batch_size=20,\n",
        "        # Since we use binary_crossentropy loss, we need binary labels\n",
        "        class_mode='binary')\n",
        "\n",
        "# Flow validation images in batches of 20 using test_datagen generator\n",
        "validation_generator = test_datagen.flow_from_directory(\n",
        "        validation_dir,\n",
        "        target_size=(150, 150),\n",
        "        batch_size=20,\n",
        "        class_mode='binary')"
      ],
      "execution_count": 10,
      "outputs": [
        {
          "output_type": "stream",
          "text": [
            "Found 2000 images belonging to 2 classes.\n",
            "Found 1000 images belonging to 2 classes.\n"
          ],
          "name": "stdout"
        }
      ]
    },
    {
      "cell_type": "code",
      "metadata": {
        "colab": {
          "base_uri": "https://localhost:8080/"
        },
        "id": "daxub_GskItd",
        "outputId": "6a7aa36c-8411-4bd0-84a7-d6df1a93405d"
      },
      "source": [
        "history = model.fit(\n",
        "      train_generator,\n",
        "      steps_per_epoch=100,  # 2000 images = batch_size * steps\n",
        "      epochs=100,\n",
        "      validation_data=validation_generator,\n",
        "      validation_steps=50,  # 1000 images = batch_size * steps\n",
        "      verbose=2)"
      ],
      "execution_count": 11,
      "outputs": [
        {
          "output_type": "stream",
          "text": [
            "Epoch 1/100\n",
            "100/100 - 18s - loss: 1.2179 - accuracy: 0.6700 - val_loss: 0.5610 - val_accuracy: 0.7220\n",
            "Epoch 2/100\n",
            "100/100 - 17s - loss: 0.6145 - accuracy: 0.6680 - val_loss: 0.5252 - val_accuracy: 0.7440\n",
            "Epoch 3/100\n",
            "100/100 - 17s - loss: 0.5834 - accuracy: 0.6985 - val_loss: 0.5232 - val_accuracy: 0.7220\n",
            "Epoch 4/100\n",
            "100/100 - 17s - loss: 0.5763 - accuracy: 0.7035 - val_loss: 0.5119 - val_accuracy: 0.7490\n",
            "Epoch 5/100\n",
            "100/100 - 17s - loss: 0.5723 - accuracy: 0.7065 - val_loss: 0.4946 - val_accuracy: 0.7690\n",
            "Epoch 6/100\n",
            "100/100 - 17s - loss: 0.5667 - accuracy: 0.7195 - val_loss: 0.4977 - val_accuracy: 0.7710\n",
            "Epoch 7/100\n",
            "100/100 - 17s - loss: 0.5589 - accuracy: 0.7225 - val_loss: 0.5176 - val_accuracy: 0.7460\n",
            "Epoch 8/100\n",
            "100/100 - 17s - loss: 0.5475 - accuracy: 0.7295 - val_loss: 0.5294 - val_accuracy: 0.7260\n",
            "Epoch 9/100\n",
            "100/100 - 17s - loss: 0.5455 - accuracy: 0.7220 - val_loss: 0.4794 - val_accuracy: 0.7720\n",
            "Epoch 10/100\n",
            "100/100 - 17s - loss: 0.5536 - accuracy: 0.7195 - val_loss: 0.5773 - val_accuracy: 0.7280\n",
            "Epoch 11/100\n",
            "100/100 - 17s - loss: 0.5306 - accuracy: 0.7445 - val_loss: 0.4888 - val_accuracy: 0.7760\n",
            "Epoch 12/100\n",
            "100/100 - 17s - loss: 0.5326 - accuracy: 0.7290 - val_loss: 0.5294 - val_accuracy: 0.7520\n",
            "Epoch 13/100\n",
            "100/100 - 17s - loss: 0.5409 - accuracy: 0.7300 - val_loss: 0.5118 - val_accuracy: 0.7300\n",
            "Epoch 14/100\n",
            "100/100 - 17s - loss: 0.5253 - accuracy: 0.7395 - val_loss: 0.4780 - val_accuracy: 0.7650\n",
            "Epoch 15/100\n",
            "100/100 - 17s - loss: 0.5339 - accuracy: 0.7500 - val_loss: 0.5023 - val_accuracy: 0.7670\n",
            "Epoch 16/100\n",
            "100/100 - 17s - loss: 0.5424 - accuracy: 0.7215 - val_loss: 0.4564 - val_accuracy: 0.7900\n",
            "Epoch 17/100\n",
            "100/100 - 17s - loss: 0.5169 - accuracy: 0.7495 - val_loss: 0.5452 - val_accuracy: 0.7270\n",
            "Epoch 18/100\n",
            "100/100 - 17s - loss: 0.5204 - accuracy: 0.7430 - val_loss: 0.5204 - val_accuracy: 0.7350\n",
            "Epoch 19/100\n",
            "100/100 - 17s - loss: 0.5216 - accuracy: 0.7425 - val_loss: 0.4971 - val_accuracy: 0.7470\n",
            "Epoch 20/100\n",
            "100/100 - 17s - loss: 0.5221 - accuracy: 0.7440 - val_loss: 0.4808 - val_accuracy: 0.7970\n",
            "Epoch 21/100\n",
            "100/100 - 17s - loss: 0.5136 - accuracy: 0.7405 - val_loss: 0.4852 - val_accuracy: 0.7750\n",
            "Epoch 22/100\n",
            "100/100 - 17s - loss: 0.5211 - accuracy: 0.7425 - val_loss: 0.4735 - val_accuracy: 0.7920\n",
            "Epoch 23/100\n",
            "100/100 - 17s - loss: 0.5039 - accuracy: 0.7635 - val_loss: 0.4715 - val_accuracy: 0.7910\n",
            "Epoch 24/100\n",
            "100/100 - 17s - loss: 0.4909 - accuracy: 0.7650 - val_loss: 0.4761 - val_accuracy: 0.7900\n",
            "Epoch 25/100\n",
            "100/100 - 17s - loss: 0.5039 - accuracy: 0.7515 - val_loss: 0.4645 - val_accuracy: 0.7760\n",
            "Epoch 26/100\n",
            "100/100 - 17s - loss: 0.4995 - accuracy: 0.7655 - val_loss: 0.5177 - val_accuracy: 0.7450\n",
            "Epoch 27/100\n",
            "100/100 - 17s - loss: 0.4889 - accuracy: 0.7690 - val_loss: 0.4590 - val_accuracy: 0.7840\n",
            "Epoch 28/100\n",
            "100/100 - 17s - loss: 0.4802 - accuracy: 0.7680 - val_loss: 0.4493 - val_accuracy: 0.7910\n",
            "Epoch 29/100\n",
            "100/100 - 17s - loss: 0.4907 - accuracy: 0.7615 - val_loss: 0.4763 - val_accuracy: 0.7800\n",
            "Epoch 30/100\n",
            "100/100 - 17s - loss: 0.4728 - accuracy: 0.7865 - val_loss: 0.4891 - val_accuracy: 0.7740\n",
            "Epoch 31/100\n",
            "100/100 - 17s - loss: 0.4844 - accuracy: 0.7675 - val_loss: 0.4601 - val_accuracy: 0.7880\n",
            "Epoch 32/100\n",
            "100/100 - 17s - loss: 0.4737 - accuracy: 0.7715 - val_loss: 0.4466 - val_accuracy: 0.8010\n",
            "Epoch 33/100\n",
            "100/100 - 17s - loss: 0.4870 - accuracy: 0.7725 - val_loss: 0.4892 - val_accuracy: 0.7760\n",
            "Epoch 34/100\n",
            "100/100 - 17s - loss: 0.4791 - accuracy: 0.7800 - val_loss: 0.4703 - val_accuracy: 0.7750\n",
            "Epoch 35/100\n",
            "100/100 - 17s - loss: 0.4782 - accuracy: 0.7700 - val_loss: 0.5048 - val_accuracy: 0.7610\n",
            "Epoch 36/100\n",
            "100/100 - 17s - loss: 0.4664 - accuracy: 0.7770 - val_loss: 0.4419 - val_accuracy: 0.8010\n",
            "Epoch 37/100\n",
            "100/100 - 17s - loss: 0.4719 - accuracy: 0.7820 - val_loss: 0.5356 - val_accuracy: 0.7840\n",
            "Epoch 38/100\n",
            "100/100 - 17s - loss: 0.4635 - accuracy: 0.7800 - val_loss: 0.4464 - val_accuracy: 0.7970\n",
            "Epoch 39/100\n",
            "100/100 - 17s - loss: 0.4652 - accuracy: 0.7830 - val_loss: 0.4907 - val_accuracy: 0.7660\n",
            "Epoch 40/100\n",
            "100/100 - 17s - loss: 0.4662 - accuracy: 0.7740 - val_loss: 0.4590 - val_accuracy: 0.7950\n",
            "Epoch 41/100\n",
            "100/100 - 17s - loss: 0.4582 - accuracy: 0.7925 - val_loss: 0.4251 - val_accuracy: 0.8110\n",
            "Epoch 42/100\n",
            "100/100 - 17s - loss: 0.4576 - accuracy: 0.7775 - val_loss: 0.4316 - val_accuracy: 0.8080\n",
            "Epoch 43/100\n",
            "100/100 - 17s - loss: 0.4593 - accuracy: 0.7830 - val_loss: 0.5734 - val_accuracy: 0.7590\n",
            "Epoch 44/100\n",
            "100/100 - 17s - loss: 0.4539 - accuracy: 0.7815 - val_loss: 0.4770 - val_accuracy: 0.7820\n",
            "Epoch 45/100\n",
            "100/100 - 17s - loss: 0.4595 - accuracy: 0.7885 - val_loss: 0.4448 - val_accuracy: 0.8080\n",
            "Epoch 46/100\n",
            "100/100 - 17s - loss: 0.4610 - accuracy: 0.7850 - val_loss: 0.4391 - val_accuracy: 0.8100\n",
            "Epoch 47/100\n",
            "100/100 - 17s - loss: 0.4503 - accuracy: 0.7865 - val_loss: 0.5961 - val_accuracy: 0.7180\n",
            "Epoch 48/100\n",
            "100/100 - 17s - loss: 0.4463 - accuracy: 0.7960 - val_loss: 0.4119 - val_accuracy: 0.8180\n",
            "Epoch 49/100\n",
            "100/100 - 17s - loss: 0.4448 - accuracy: 0.7895 - val_loss: 0.4610 - val_accuracy: 0.7880\n",
            "Epoch 50/100\n",
            "100/100 - 17s - loss: 0.4470 - accuracy: 0.7975 - val_loss: 0.4582 - val_accuracy: 0.8160\n",
            "Epoch 51/100\n",
            "100/100 - 17s - loss: 0.4606 - accuracy: 0.7895 - val_loss: 0.4352 - val_accuracy: 0.8070\n",
            "Epoch 52/100\n",
            "100/100 - 17s - loss: 0.4537 - accuracy: 0.7975 - val_loss: 0.4347 - val_accuracy: 0.7960\n",
            "Epoch 53/100\n",
            "100/100 - 17s - loss: 0.4299 - accuracy: 0.8015 - val_loss: 0.5051 - val_accuracy: 0.7780\n",
            "Epoch 54/100\n",
            "100/100 - 17s - loss: 0.4413 - accuracy: 0.7895 - val_loss: 0.5528 - val_accuracy: 0.7140\n",
            "Epoch 55/100\n",
            "100/100 - 17s - loss: 0.4399 - accuracy: 0.7990 - val_loss: 0.4256 - val_accuracy: 0.8130\n",
            "Epoch 56/100\n",
            "100/100 - 17s - loss: 0.4295 - accuracy: 0.8085 - val_loss: 0.4121 - val_accuracy: 0.8220\n",
            "Epoch 57/100\n",
            "100/100 - 17s - loss: 0.4413 - accuracy: 0.7890 - val_loss: 0.4613 - val_accuracy: 0.7890\n",
            "Epoch 58/100\n",
            "100/100 - 17s - loss: 0.4422 - accuracy: 0.8120 - val_loss: 0.4218 - val_accuracy: 0.8090\n",
            "Epoch 59/100\n",
            "100/100 - 17s - loss: 0.4171 - accuracy: 0.8135 - val_loss: 0.4877 - val_accuracy: 0.7880\n",
            "Epoch 60/100\n",
            "100/100 - 17s - loss: 0.4422 - accuracy: 0.7935 - val_loss: 0.4141 - val_accuracy: 0.8090\n",
            "Epoch 61/100\n",
            "100/100 - 17s - loss: 0.4147 - accuracy: 0.8145 - val_loss: 0.4675 - val_accuracy: 0.8000\n",
            "Epoch 62/100\n",
            "100/100 - 17s - loss: 0.4360 - accuracy: 0.8010 - val_loss: 0.5585 - val_accuracy: 0.7540\n",
            "Epoch 63/100\n",
            "100/100 - 17s - loss: 0.4342 - accuracy: 0.8040 - val_loss: 0.4243 - val_accuracy: 0.8050\n",
            "Epoch 64/100\n",
            "100/100 - 17s - loss: 0.4322 - accuracy: 0.8005 - val_loss: 0.4134 - val_accuracy: 0.8170\n",
            "Epoch 65/100\n",
            "100/100 - 17s - loss: 0.4461 - accuracy: 0.7900 - val_loss: 0.4787 - val_accuracy: 0.7730\n",
            "Epoch 66/100\n",
            "100/100 - 17s - loss: 0.4338 - accuracy: 0.8075 - val_loss: 0.4090 - val_accuracy: 0.8230\n",
            "Epoch 67/100\n",
            "100/100 - 17s - loss: 0.4296 - accuracy: 0.7990 - val_loss: 0.5159 - val_accuracy: 0.7700\n",
            "Epoch 68/100\n",
            "100/100 - 17s - loss: 0.4251 - accuracy: 0.8010 - val_loss: 0.4245 - val_accuracy: 0.8180\n",
            "Epoch 69/100\n",
            "100/100 - 17s - loss: 0.4203 - accuracy: 0.8045 - val_loss: 0.4140 - val_accuracy: 0.8210\n",
            "Epoch 70/100\n",
            "100/100 - 17s - loss: 0.4111 - accuracy: 0.8125 - val_loss: 0.3915 - val_accuracy: 0.8200\n",
            "Epoch 71/100\n",
            "100/100 - 17s - loss: 0.4248 - accuracy: 0.8015 - val_loss: 0.3896 - val_accuracy: 0.8310\n",
            "Epoch 72/100\n",
            "100/100 - 17s - loss: 0.4112 - accuracy: 0.8165 - val_loss: 0.3980 - val_accuracy: 0.8250\n",
            "Epoch 73/100\n",
            "100/100 - 17s - loss: 0.4101 - accuracy: 0.8070 - val_loss: 0.4853 - val_accuracy: 0.8040\n",
            "Epoch 74/100\n",
            "100/100 - 17s - loss: 0.4036 - accuracy: 0.8210 - val_loss: 0.4297 - val_accuracy: 0.8110\n",
            "Epoch 75/100\n",
            "100/100 - 17s - loss: 0.4083 - accuracy: 0.8235 - val_loss: 0.4097 - val_accuracy: 0.8200\n",
            "Epoch 76/100\n",
            "100/100 - 17s - loss: 0.4175 - accuracy: 0.8130 - val_loss: 0.4123 - val_accuracy: 0.8220\n",
            "Epoch 77/100\n",
            "100/100 - 17s - loss: 0.4167 - accuracy: 0.8120 - val_loss: 0.3832 - val_accuracy: 0.8270\n",
            "Epoch 78/100\n",
            "100/100 - 17s - loss: 0.4052 - accuracy: 0.8105 - val_loss: 0.4222 - val_accuracy: 0.8190\n",
            "Epoch 79/100\n",
            "100/100 - 17s - loss: 0.4125 - accuracy: 0.8265 - val_loss: 0.4047 - val_accuracy: 0.8240\n",
            "Epoch 80/100\n",
            "100/100 - 17s - loss: 0.4170 - accuracy: 0.8135 - val_loss: 0.4913 - val_accuracy: 0.7670\n",
            "Epoch 81/100\n",
            "100/100 - 17s - loss: 0.3864 - accuracy: 0.8215 - val_loss: 0.4517 - val_accuracy: 0.8070\n",
            "Epoch 82/100\n",
            "100/100 - 17s - loss: 0.3927 - accuracy: 0.8265 - val_loss: 0.4635 - val_accuracy: 0.8030\n",
            "Epoch 83/100\n",
            "100/100 - 17s - loss: 0.4032 - accuracy: 0.8150 - val_loss: 0.4506 - val_accuracy: 0.8090\n",
            "Epoch 84/100\n",
            "100/100 - 17s - loss: 0.4114 - accuracy: 0.8195 - val_loss: 0.3714 - val_accuracy: 0.8350\n",
            "Epoch 85/100\n",
            "100/100 - 17s - loss: 0.4096 - accuracy: 0.8160 - val_loss: 0.4532 - val_accuracy: 0.8200\n",
            "Epoch 86/100\n",
            "100/100 - 17s - loss: 0.3941 - accuracy: 0.8335 - val_loss: 0.5041 - val_accuracy: 0.7900\n",
            "Epoch 87/100\n",
            "100/100 - 17s - loss: 0.4056 - accuracy: 0.8255 - val_loss: 0.4485 - val_accuracy: 0.8090\n",
            "Epoch 88/100\n",
            "100/100 - 17s - loss: 0.4004 - accuracy: 0.8225 - val_loss: 0.3972 - val_accuracy: 0.8320\n",
            "Epoch 89/100\n",
            "100/100 - 17s - loss: 0.4014 - accuracy: 0.8115 - val_loss: 0.4249 - val_accuracy: 0.8230\n",
            "Epoch 90/100\n",
            "100/100 - 17s - loss: 0.3815 - accuracy: 0.8255 - val_loss: 0.4452 - val_accuracy: 0.8220\n",
            "Epoch 91/100\n",
            "100/100 - 17s - loss: 0.3958 - accuracy: 0.8310 - val_loss: 0.3714 - val_accuracy: 0.8370\n",
            "Epoch 92/100\n",
            "100/100 - 17s - loss: 0.3783 - accuracy: 0.8305 - val_loss: 0.4795 - val_accuracy: 0.7950\n",
            "Epoch 93/100\n",
            "100/100 - 17s - loss: 0.3857 - accuracy: 0.8345 - val_loss: 0.4148 - val_accuracy: 0.8040\n",
            "Epoch 94/100\n",
            "100/100 - 17s - loss: 0.3956 - accuracy: 0.8200 - val_loss: 0.4639 - val_accuracy: 0.8020\n",
            "Epoch 95/100\n",
            "100/100 - 17s - loss: 0.3955 - accuracy: 0.8240 - val_loss: 0.4093 - val_accuracy: 0.8290\n",
            "Epoch 96/100\n",
            "100/100 - 17s - loss: 0.3810 - accuracy: 0.8370 - val_loss: 0.4489 - val_accuracy: 0.8030\n",
            "Epoch 97/100\n",
            "100/100 - 17s - loss: 0.3816 - accuracy: 0.8290 - val_loss: 0.4296 - val_accuracy: 0.7980\n",
            "Epoch 98/100\n",
            "100/100 - 17s - loss: 0.3843 - accuracy: 0.8300 - val_loss: 0.3763 - val_accuracy: 0.8310\n",
            "Epoch 99/100\n",
            "100/100 - 17s - loss: 0.3865 - accuracy: 0.8250 - val_loss: 0.4795 - val_accuracy: 0.7980\n",
            "Epoch 100/100\n",
            "100/100 - 17s - loss: 0.3870 - accuracy: 0.8205 - val_loss: 0.3875 - val_accuracy: 0.8330\n"
          ],
          "name": "stdout"
        }
      ]
    },
    {
      "cell_type": "code",
      "metadata": {
        "colab": {
          "base_uri": "https://localhost:8080/",
          "height": 545
        },
        "id": "BLHs-iXqkM4f",
        "outputId": "e0490f53-d315-4cf4-f6fc-351bace75e12"
      },
      "source": [
        "import matplotlib.pyplot as plt\n",
        "acc = history.history['accuracy']\n",
        "val_acc = history.history['val_accuracy']\n",
        "loss = history.history['loss']\n",
        "val_loss = history.history['val_loss']\n",
        "\n",
        "epochs = range(len(acc))\n",
        "\n",
        "plt.plot(epochs, acc, 'bo', label='Training accuracy')\n",
        "plt.plot(epochs, val_acc, 'b', label='Validation accuracy')\n",
        "plt.title('Training and validation accuracy')\n",
        "\n",
        "plt.figure()\n",
        "\n",
        "plt.plot(epochs, loss, 'bo', label='Training Loss')\n",
        "plt.plot(epochs, val_loss, 'b', label='Validation Loss')\n",
        "plt.title('Training and validation loss')\n",
        "plt.legend()\n",
        "\n",
        "plt.show()"
      ],
      "execution_count": 12,
      "outputs": [
        {
          "output_type": "display_data",
          "data": {
            "image/png": "[encoded data removed]",
            "text/plain": [
              "<Figure size 432x288 with 1 Axes>"
            ]
          },
          "metadata": {
            "tags": [],
            "needs_background": "light"
          }
        },
        {
          "output_type": "display_data",
          "data": {
            "image/png": "[encoded data removed]",
            "text/plain": [
              "<Figure size 432x288 with 1 Axes>"
            ]
          },
          "metadata": {
            "tags": [],
            "needs_background": "light"
          }
        }
      ]
    },
    {
      "cell_type": "code",
      "metadata": {
        "id": "Fqv_ulCiua4w"
      },
      "source": [
        ""
      ],
      "execution_count": null,
      "outputs": []
    }
  ]
}
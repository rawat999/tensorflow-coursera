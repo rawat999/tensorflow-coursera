{
  "nbformat": 4,
  "nbformat_minor": 0,
  "metadata": {
    "colab": {
      "name": "S+P_Week_2_Exercise_Question.ipynb",
      "provenance": [],
      "toc_visible": true,
      "include_colab_link": true
    },
    "kernelspec": {
      "display_name": "Python 3",
      "name": "python3"
    },
    "accelerator": "GPU"
  },
  "cells": [
    {
      "cell_type": "markdown",
      "metadata": {
        "id": "view-in-github",
        "colab_type": "text"
      },
      "source": [
        "<a href=\"https://colab.research.google.com/github/rawatpremsingh999/tensorflow-coursera/blob/master/Course%204%20%20-%20Week_2_Exercise_Question.ipynb\" target=\"_parent\"><img src=\"https://colab.research.google.com/assets/colab-badge.svg\" alt=\"Open In Colab\"/></a>"
      ]
    },
    {
      "cell_type": "code",
      "metadata": {
        "id": "zX4Kg8DUTKWO"
      },
      "source": [
        "#@title Licensed under the Apache License, Version 2.0 (the \"License\");\n",
        "# you may not use this file except in compliance with the License.\n",
        "# You may obtain a copy of the License at\n",
        "#\n",
        "# https://www.apache.org/licenses/LICENSE-2.0\n",
        "#\n",
        "# Unless required by applicable law or agreed to in writing, software\n",
        "# distributed under the License is distributed on an \"AS IS\" BASIS,\n",
        "# WITHOUT WARRANTIES OR CONDITIONS OF ANY KIND, either express or implied.\n",
        "# See the License for the specific language governing permissions and\n",
        "# limitations under the License."
      ],
      "execution_count": null,
      "outputs": []
    },
    {
      "cell_type": "code",
      "metadata": {
        "cellView": "both",
        "id": "D1J15Vh_1Jih"
      },
      "source": [
        "!pip install tf-nightly-2.0-preview\n"
      ],
      "execution_count": null,
      "outputs": []
    },
    {
      "cell_type": "code",
      "metadata": {
        "colab": {
          "base_uri": "https://localhost:8080/"
        },
        "id": "BOjujz601HcS",
        "outputId": "2b91523c-c06a-41b3-e032-b2dd6b288a31"
      },
      "source": [
        "import tensorflow as tf\n",
        "import numpy as np\n",
        "import matplotlib.pyplot as plt\n",
        "print(tf.__version__)"
      ],
      "execution_count": 1,
      "outputs": [
        {
          "output_type": "stream",
          "text": [
            "2.4.1\n"
          ],
          "name": "stdout"
        }
      ]
    },
    {
      "cell_type": "code",
      "metadata": {
        "colab": {
          "base_uri": "https://localhost:8080/",
          "height": 279
        },
        "id": "Zswl7jRtGzkk",
        "outputId": "cabc3a3a-49ee-4b67-d0b4-00f0e8384b79"
      },
      "source": [
        "def plot_series(time, series, format=\"-\", start=0, end=None):\n",
        "    plt.plot(time[start:end], series[start:end], format)\n",
        "    plt.xlabel(\"Time\")\n",
        "    plt.ylabel(\"Value\")\n",
        "    plt.grid(False)\n",
        "\n",
        "def trend(time, slope=0):\n",
        "    return slope * time\n",
        "\n",
        "def seasonal_pattern(season_time):\n",
        "    \"\"\"Just an arbitrary pattern, you can change it if you wish\"\"\"\n",
        "    return np.where(season_time < 0.1,\n",
        "                    np.cos(season_time * 4 * np.pi),\n",
        "                    3 / np.exp(4 * season_time))\n",
        "\n",
        "def seasonality(time, period, amplitude=1, phase=0):\n",
        "    \"\"\"Repeats the same pattern at each period\"\"\"\n",
        "    season_time = ((time + phase) % period) / period\n",
        "    return amplitude * seasonal_pattern(season_time)\n",
        "\n",
        "def noise(time, noise_level=1, seed=None):\n",
        "    rnd = np.random.RandomState(seed)\n",
        "    return rnd.randn(len(time)) * noise_level\n",
        "\n",
        "time = np.arange(10 * 365 + 1, dtype=\"float32\")\n",
        "baseline = 10\n",
        "series = trend(time, slope=0.15)  \n",
        "baseline = 10\n",
        "amplitude = 40\n",
        "slope = 0.01\n",
        "noise_level = 3\n",
        "\n",
        "# Create the series\n",
        "series = baseline + trend(time, slope) + seasonality(time, period=365, amplitude=amplitude)\n",
        "# Update with noise\n",
        "series += noise(time, noise_level, seed=51)\n",
        "\n",
        "split_time = 3000\n",
        "time_train = time[:split_time]\n",
        "x_train = series[:split_time]\n",
        "time_valid = time[split_time:]\n",
        "x_valid = series[split_time:]\n",
        "\n",
        "window_size = 20\n",
        "batch_size = 16\n",
        "shuffle_buffer_size = 1000\n",
        "\n",
        "plot_series(time, series)"
      ],
      "execution_count": 8,
      "outputs": [
        {
          "output_type": "display_data",
          "data": {
            "image/png": "[encoded data removed]",
            "text/plain": [
              "<Figure size 432x288 with 1 Axes>"
            ]
          },
          "metadata": {
            "tags": [],
            "needs_background": "light"
          }
        }
      ]
    },
    {
      "cell_type": "markdown",
      "metadata": {
        "id": "GfUTNqti_lNC"
      },
      "source": [
        "Desired output -- a chart that looks like this:\n",
        "\n",
        "![Chart showing upward trend and seasonailty](http://www.laurencemoroney.com/wp-content/uploads/2019/07/plot1.png)"
      ]
    },
    {
      "cell_type": "code",
      "metadata": {
        "id": "4sTTIOCbyShY"
      },
      "source": [
        "def windowed_dataset(series, window_size, batch_size, shuffle_buffer):\n",
        "  dataset = tf.data.Dataset.from_tensor_slices(series)\n",
        "  dataset = dataset.window(window_size + 1, shift=1, drop_remainder=True)\n",
        "  dataset = dataset.flat_map(lambda window: window.batch(window_size + 1))\n",
        "  dataset = dataset.shuffle(shuffle_buffer).map(lambda window: (window[:-1], window[-1]))\n",
        "  dataset = dataset.batch(batch_size).prefetch(1)\n",
        "  return dataset"
      ],
      "execution_count": 9,
      "outputs": []
    },
    {
      "cell_type": "code",
      "metadata": {
        "colab": {
          "base_uri": "https://localhost:8080/"
        },
        "id": "TW-vT7eLYAdb",
        "outputId": "e8371ba6-d208-40b3-e838-402eaea9e794"
      },
      "source": [
        "dataset = windowed_dataset(x_train, window_size, batch_size, shuffle_buffer_size)\n",
        "\n",
        "\n",
        "model = tf.keras.models.Sequential([\n",
        "    tf.keras.layers.Dense(10, activation='relu', input_shape = [window_size]),\n",
        "    tf.keras.layers.Dense(20, activation=\"relu\"), \n",
        "    tf.keras.layers.Dense(1)\n",
        "])\n",
        "\n",
        "model.compile(loss=tf.keras.losses.Huber(), \n",
        "              optimizer=tf.keras.optimizers.SGD(learning_rate=2e-6))\n",
        "\n",
        "model.fit(dataset,epochs=100)"
      ],
      "execution_count": 14,
      "outputs": [
        {
          "output_type": "stream",
          "text": [
            "Epoch 1/100\n",
            "187/187 [==============================] - 1s 2ms/step - loss: 46.1780\n",
            "Epoch 2/100\n",
            "187/187 [==============================] - 0s 2ms/step - loss: 31.8914\n",
            "Epoch 3/100\n",
            "187/187 [==============================] - 1s 2ms/step - loss: 16.4985\n",
            "Epoch 4/100\n",
            "187/187 [==============================] - 0s 2ms/step - loss: 4.9668\n",
            "Epoch 5/100\n",
            "187/187 [==============================] - 1s 3ms/step - loss: 4.3425\n",
            "Epoch 6/100\n",
            "187/187 [==============================] - 1s 3ms/step - loss: 4.1553\n",
            "Epoch 7/100\n",
            "187/187 [==============================] - 1s 2ms/step - loss: 4.3471\n",
            "Epoch 8/100\n",
            "187/187 [==============================] - 1s 2ms/step - loss: 4.0906\n",
            "Epoch 9/100\n",
            "187/187 [==============================] - 1s 3ms/step - loss: 4.1779\n",
            "Epoch 10/100\n",
            "187/187 [==============================] - 1s 3ms/step - loss: 4.2989\n",
            "Epoch 11/100\n",
            "187/187 [==============================] - 1s 2ms/step - loss: 4.2020\n",
            "Epoch 12/100\n",
            "187/187 [==============================] - 1s 3ms/step - loss: 4.3683\n",
            "Epoch 13/100\n",
            "187/187 [==============================] - 1s 2ms/step - loss: 4.2609\n",
            "Epoch 14/100\n",
            "187/187 [==============================] - 1s 2ms/step - loss: 3.8793\n",
            "Epoch 15/100\n",
            "187/187 [==============================] - 1s 2ms/step - loss: 4.0948\n",
            "Epoch 16/100\n",
            "187/187 [==============================] - 0s 2ms/step - loss: 4.1716\n",
            "Epoch 17/100\n",
            "187/187 [==============================] - 0s 2ms/step - loss: 4.1888\n",
            "Epoch 18/100\n",
            "187/187 [==============================] - 1s 2ms/step - loss: 4.1252\n",
            "Epoch 19/100\n",
            "187/187 [==============================] - 1s 2ms/step - loss: 4.0974\n",
            "Epoch 20/100\n",
            "187/187 [==============================] - 1s 2ms/step - loss: 3.8867\n",
            "Epoch 21/100\n",
            "187/187 [==============================] - 1s 3ms/step - loss: 4.1152\n",
            "Epoch 22/100\n",
            "187/187 [==============================] - 1s 3ms/step - loss: 3.9747\n",
            "Epoch 23/100\n",
            "187/187 [==============================] - 1s 2ms/step - loss: 4.1855\n",
            "Epoch 24/100\n",
            "187/187 [==============================] - 1s 3ms/step - loss: 4.1718\n",
            "Epoch 25/100\n",
            "187/187 [==============================] - 1s 3ms/step - loss: 3.9954\n",
            "Epoch 26/100\n",
            "187/187 [==============================] - 1s 3ms/step - loss: 4.2546\n",
            "Epoch 27/100\n",
            "187/187 [==============================] - 0s 2ms/step - loss: 4.2456\n",
            "Epoch 28/100\n",
            "187/187 [==============================] - 0s 2ms/step - loss: 4.1484\n",
            "Epoch 29/100\n",
            "187/187 [==============================] - 1s 2ms/step - loss: 3.9472\n",
            "Epoch 30/100\n",
            "187/187 [==============================] - 1s 3ms/step - loss: 4.1918\n",
            "Epoch 31/100\n",
            "187/187 [==============================] - 1s 3ms/step - loss: 4.0004\n",
            "Epoch 32/100\n",
            "187/187 [==============================] - 1s 2ms/step - loss: 4.0922\n",
            "Epoch 33/100\n",
            "187/187 [==============================] - 1s 3ms/step - loss: 3.9314\n",
            "Epoch 34/100\n",
            "187/187 [==============================] - 1s 2ms/step - loss: 4.0113\n",
            "Epoch 35/100\n",
            "187/187 [==============================] - 1s 2ms/step - loss: 4.0427\n",
            "Epoch 36/100\n",
            "187/187 [==============================] - 1s 2ms/step - loss: 4.1269\n",
            "Epoch 37/100\n",
            "187/187 [==============================] - 1s 3ms/step - loss: 3.8120\n",
            "Epoch 38/100\n",
            "187/187 [==============================] - 1s 3ms/step - loss: 3.9124\n",
            "Epoch 39/100\n",
            "187/187 [==============================] - 1s 2ms/step - loss: 3.9553\n",
            "Epoch 40/100\n",
            "187/187 [==============================] - 1s 2ms/step - loss: 3.9693\n",
            "Epoch 41/100\n",
            "187/187 [==============================] - 0s 2ms/step - loss: 3.9703\n",
            "Epoch 42/100\n",
            "187/187 [==============================] - 1s 2ms/step - loss: 3.9134\n",
            "Epoch 43/100\n",
            "187/187 [==============================] - 1s 3ms/step - loss: 4.0340\n",
            "Epoch 44/100\n",
            "187/187 [==============================] - 1s 2ms/step - loss: 4.0292\n",
            "Epoch 45/100\n",
            "187/187 [==============================] - 1s 2ms/step - loss: 4.1197\n",
            "Epoch 46/100\n",
            "187/187 [==============================] - 0s 2ms/step - loss: 3.7478\n",
            "Epoch 47/100\n",
            "187/187 [==============================] - 1s 3ms/step - loss: 3.9918\n",
            "Epoch 48/100\n",
            "187/187 [==============================] - 1s 3ms/step - loss: 3.9709\n",
            "Epoch 49/100\n",
            "187/187 [==============================] - 1s 3ms/step - loss: 3.7406\n",
            "Epoch 50/100\n",
            "187/187 [==============================] - 1s 2ms/step - loss: 4.2046\n",
            "Epoch 51/100\n",
            "187/187 [==============================] - 1s 3ms/step - loss: 3.9626\n",
            "Epoch 52/100\n",
            "187/187 [==============================] - 1s 3ms/step - loss: 4.0305\n",
            "Epoch 53/100\n",
            "187/187 [==============================] - 1s 2ms/step - loss: 3.9865\n",
            "Epoch 54/100\n",
            "187/187 [==============================] - 0s 2ms/step - loss: 4.0159\n",
            "Epoch 55/100\n",
            "187/187 [==============================] - 1s 3ms/step - loss: 4.0380\n",
            "Epoch 56/100\n",
            "187/187 [==============================] - 1s 3ms/step - loss: 3.7917\n",
            "Epoch 57/100\n",
            "187/187 [==============================] - 1s 2ms/step - loss: 3.9616\n",
            "Epoch 58/100\n",
            "187/187 [==============================] - 1s 3ms/step - loss: 3.9221\n",
            "Epoch 59/100\n",
            "187/187 [==============================] - 1s 3ms/step - loss: 3.9806\n",
            "Epoch 60/100\n",
            "187/187 [==============================] - 1s 3ms/step - loss: 3.9476\n",
            "Epoch 61/100\n",
            "187/187 [==============================] - 1s 2ms/step - loss: 3.8261\n",
            "Epoch 62/100\n",
            "187/187 [==============================] - 1s 3ms/step - loss: 3.9863\n",
            "Epoch 63/100\n",
            "187/187 [==============================] - 0s 2ms/step - loss: 3.9327\n",
            "Epoch 64/100\n",
            "187/187 [==============================] - 1s 2ms/step - loss: 4.0593\n",
            "Epoch 65/100\n",
            "187/187 [==============================] - 0s 2ms/step - loss: 3.8267\n",
            "Epoch 66/100\n",
            "187/187 [==============================] - 1s 3ms/step - loss: 3.8955\n",
            "Epoch 67/100\n",
            "187/187 [==============================] - 0s 2ms/step - loss: 4.0101\n",
            "Epoch 68/100\n",
            "187/187 [==============================] - 0s 2ms/step - loss: 3.7743\n",
            "Epoch 69/100\n",
            "187/187 [==============================] - 1s 2ms/step - loss: 3.7607\n",
            "Epoch 70/100\n",
            "187/187 [==============================] - 1s 3ms/step - loss: 3.9342\n",
            "Epoch 71/100\n",
            "187/187 [==============================] - 1s 3ms/step - loss: 3.8593\n",
            "Epoch 72/100\n",
            "187/187 [==============================] - 1s 2ms/step - loss: 3.7554\n",
            "Epoch 73/100\n",
            "187/187 [==============================] - 1s 2ms/step - loss: 3.8919\n",
            "Epoch 74/100\n",
            "187/187 [==============================] - 1s 2ms/step - loss: 4.0289\n",
            "Epoch 75/100\n",
            "187/187 [==============================] - 1s 3ms/step - loss: 3.7214\n",
            "Epoch 76/100\n",
            "187/187 [==============================] - 1s 2ms/step - loss: 3.7626\n",
            "Epoch 77/100\n",
            "187/187 [==============================] - 1s 2ms/step - loss: 3.9226\n",
            "Epoch 78/100\n",
            "187/187 [==============================] - 0s 2ms/step - loss: 3.8394\n",
            "Epoch 79/100\n",
            "187/187 [==============================] - 1s 3ms/step - loss: 3.7469\n",
            "Epoch 80/100\n",
            "187/187 [==============================] - 1s 2ms/step - loss: 3.8132\n",
            "Epoch 81/100\n",
            "187/187 [==============================] - 1s 3ms/step - loss: 3.8839\n",
            "Epoch 82/100\n",
            "187/187 [==============================] - 1s 2ms/step - loss: 3.7481\n",
            "Epoch 83/100\n",
            "187/187 [==============================] - 1s 3ms/step - loss: 3.9445\n",
            "Epoch 84/100\n",
            "187/187 [==============================] - 1s 3ms/step - loss: 3.8410\n",
            "Epoch 85/100\n",
            "187/187 [==============================] - 1s 3ms/step - loss: 3.7625\n",
            "Epoch 86/100\n",
            "187/187 [==============================] - 1s 3ms/step - loss: 3.9034\n",
            "Epoch 87/100\n",
            "187/187 [==============================] - 1s 3ms/step - loss: 3.8236\n",
            "Epoch 88/100\n",
            "187/187 [==============================] - 1s 3ms/step - loss: 3.7808\n",
            "Epoch 89/100\n",
            "187/187 [==============================] - 1s 2ms/step - loss: 3.8520\n",
            "Epoch 90/100\n",
            "187/187 [==============================] - 1s 2ms/step - loss: 3.7692\n",
            "Epoch 91/100\n",
            "187/187 [==============================] - 1s 3ms/step - loss: 3.9482\n",
            "Epoch 92/100\n",
            "187/187 [==============================] - 1s 2ms/step - loss: 3.7559\n",
            "Epoch 93/100\n",
            "187/187 [==============================] - 1s 3ms/step - loss: 3.7058\n",
            "Epoch 94/100\n",
            "187/187 [==============================] - 1s 3ms/step - loss: 3.9175\n",
            "Epoch 95/100\n",
            "187/187 [==============================] - 0s 2ms/step - loss: 3.6822\n",
            "Epoch 96/100\n",
            "187/187 [==============================] - 1s 3ms/step - loss: 4.0227\n",
            "Epoch 97/100\n",
            "187/187 [==============================] - 1s 3ms/step - loss: 3.9763\n",
            "Epoch 98/100\n",
            "187/187 [==============================] - 1s 2ms/step - loss: 3.8731\n",
            "Epoch 99/100\n",
            "187/187 [==============================] - 1s 2ms/step - loss: 3.6739\n",
            "Epoch 100/100\n",
            "187/187 [==============================] - 1s 2ms/step - loss: 3.8537\n"
          ],
          "name": "stdout"
        },
        {
          "output_type": "execute_result",
          "data": {
            "text/plain": [
              "<tensorflow.python.keras.callbacks.History at 0x7f5b8570dc90>"
            ]
          },
          "metadata": {
            "tags": []
          },
          "execution_count": 14
        }
      ]
    },
    {
      "cell_type": "code",
      "metadata": {
        "colab": {
          "base_uri": "https://localhost:8080/",
          "height": 388
        },
        "id": "efhco2rYyIFF",
        "outputId": "cb346d2e-9a35-4d1c-93bc-851a97b62a2a"
      },
      "source": [
        "forecast = []\n",
        "for time in range(len(series) - window_size):\n",
        "  forecast.append(model.predict(series[time:time + window_size][np.newaxis]))\n",
        "\n",
        "forecast = forecast[split_time-window_size:]\n",
        "results = np.array(forecast)[:, 0, 0]\n",
        "\n",
        "\n",
        "plt.figure(figsize=(10, 6))\n",
        "\n",
        "plot_series(time_valid, x_valid)\n",
        "plot_series(time_valid, results)"
      ],
      "execution_count": 15,
      "outputs": [
        {
          "output_type": "display_data",
          "data": {
            "image/png": "[encoded data removed]",
            "text/plain": [
              "<Figure size 720x432 with 1 Axes>"
            ]
          },
          "metadata": {
            "tags": [],
            "needs_background": "light"
          }
        }
      ]
    },
    {
      "cell_type": "code",
      "metadata": {
        "colab": {
          "base_uri": "https://localhost:8080/"
        },
        "id": "-kT6j186YO6K",
        "outputId": "5ea08184-392e-4623-ffee-b52df23dc35a"
      },
      "source": [
        "tf.keras.metrics.mean_absolute_error(x_valid, results).numpy()\n",
        "# EXPECTED OUTPUT\n",
        "# A Value less than 3"
      ],
      "execution_count": 17,
      "outputs": [
        {
          "output_type": "execute_result",
          "data": {
            "text/plain": [
              "3.6783953"
            ]
          },
          "metadata": {
            "tags": []
          },
          "execution_count": 17
        }
      ]
    }
  ]
}
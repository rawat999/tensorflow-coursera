{
  "nbformat": 4,
  "nbformat_minor": 0,
  "metadata": {
    "colab": {
      "name": "Exercise_8_Multi_Class_Classification.ipynb",
      "provenance": [],
      "authorship_tag": "ABX9TyMEjWZ8SCObH1Q1Mh9v4g5P",
      "include_colab_link": true
    },
    "kernelspec": {
      "name": "python3",
      "display_name": "Python 3"
    },
    "accelerator": "GPU"
  },
  "cells": [
    {
      "cell_type": "markdown",
      "metadata": {
        "id": "view-in-github",
        "colab_type": "text"
      },
      "source": [
        "<a href=\"https://colab.research.google.com/github/rawatpremsingh999/tensorflow-coursera/blob/master/Exercise_8_Multi_Class_Classification.ipynb\" target=\"_parent\"><img src=\"https://colab.research.google.com/assets/colab-badge.svg\" alt=\"Open In Colab\"/></a>"
      ]
    },
    {
      "cell_type": "markdown",
      "metadata": {
        "id": "GMiNYSuWsPaD"
      },
      "source": [
        "# Experimenting on Sign Language MNIST data"
      ]
    },
    {
      "cell_type": "markdown",
      "metadata": {
        "id": "Fft7WPTPsYhm"
      },
      "source": [
        "**Download the data from kaggle**\n",
        "\n",
        "It is a CSV file that contain label and corresponding pixel values of image.\n",
        "\n",
        "The dataset format is patterned to match closely with the classic MNIST. Each training and test case represents a label (0-25) as a one-to-one map for each alphabetic letter A-Z (and no cases for 9=J or 25=Z because of gesture motions). The training data (27,455 cases) and test data (7172 cases) are approximately half the size of the standard MNIST but otherwise similar with a header row of label, pixel1,pixel2….pixel784 which represent a single 28x28 pixel image with grayscale values between 0-255. The original hand gesture image data represented multiple users repeating the gesture against different backgrounds.\n",
        "\n",
        "URL: https://www.kaggle.com/datamunge/sign-language-mnist"
      ]
    },
    {
      "cell_type": "code",
      "metadata": {
        "id": "isvjHP2csDJg"
      },
      "source": [
        "import os\n",
        "os.environ['KAGGLE_CONFIG_DIR'] = \"/tmp/\""
      ],
      "execution_count": 1,
      "outputs": []
    },
    {
      "cell_type": "code",
      "metadata": {
        "colab": {
          "base_uri": "https://localhost:8080/"
        },
        "id": "GJIi6Ri4tWoy",
        "outputId": "b54dd5bf-9836-4c83-ee46-03b75d898e92"
      },
      "source": [
        "#changing the working directory\n",
        "%cd /tmp/"
      ],
      "execution_count": 2,
      "outputs": [
        {
          "output_type": "stream",
          "text": [
            "/tmp\n"
          ],
          "name": "stdout"
        }
      ]
    },
    {
      "cell_type": "markdown",
      "metadata": {
        "id": "JwiEaZHGsOy-"
      },
      "source": [
        "Note:\n",
        "(1) First, download json file from your kaggle profile. <br>\n",
        "**( Your Profile > Edit Profile > API section > Create New API Token)**. <br>\n",
        "It downloads a json file.<br>\n",
        "\n",
        "(2) upload json file in the collab directory i.e. /tmp/"
      ]
    },
    {
      "cell_type": "code",
      "metadata": {
        "colab": {
          "base_uri": "https://localhost:8080/"
        },
        "id": "RHvybjkFtqO_",
        "outputId": "8ccb0e07-d26d-46fb-c768-2d92ac2115c5"
      },
      "source": [
        "!chmod 600 /tmp/kaggle.json # change access specifier\n",
        "!kaggle datasets download -d datamunge/sign-language-mnist # copy from Copy API command at kaggle dataset"
      ],
      "execution_count": 3,
      "outputs": [
        {
          "output_type": "stream",
          "text": [
            "Downloading sign-language-mnist.zip to /tmp\n",
            " 80% 50.0M/62.6M [00:00<00:00, 203MB/s]\n",
            "100% 62.6M/62.6M [00:00<00:00, 248MB/s]\n"
          ],
          "name": "stdout"
        }
      ]
    },
    {
      "cell_type": "code",
      "metadata": {
        "id": "WAKHa6uWuy2M"
      },
      "source": [
        "# extract zip file\n",
        "import zipfile\n",
        "\n",
        "local_zip = '/tmp/sign-language-mnist.zip'\n",
        "zip_ref = zipfile.ZipFile(local_zip, 'r')\n",
        "zip_ref.extractall('/tmp/sign-language-mnist')\n",
        "zip_ref.close()"
      ],
      "execution_count": 4,
      "outputs": []
    },
    {
      "cell_type": "code",
      "metadata": {
        "id": "8Ra5n5BvvIvP"
      },
      "source": [
        "# import necessary libraries\n",
        "import csv\n",
        "import numpy as np\n",
        "import tensorflow as tf\n",
        "from tensorflow.keras.preprocessing.image import ImageDataGenerator\n",
        "from os import getcwd"
      ],
      "execution_count": 5,
      "outputs": []
    },
    {
      "cell_type": "markdown",
      "metadata": {
        "id": "f12cUXLbv8GV"
      },
      "source": [
        "Get train and test csv file from tmp folder"
      ]
    },
    {
      "cell_type": "code",
      "metadata": {
        "id": "s35PcS8kvjmj"
      },
      "source": [
        "path_sign_mnist_train = f\"{getcwd()}/../tmp/sign-language-mnist/sign_mnist_train/sign_mnist_train.csv\"\n",
        "path_sign_mnist_test = f\"{getcwd()}/../tmp/sign-language-mnist/sign_mnist_test/sign_mnist_test.csv\""
      ],
      "execution_count": 6,
      "outputs": []
    },
    {
      "cell_type": "markdown",
      "metadata": {
        "id": "iaCwUhvtwLr6"
      },
      "source": [
        "Prepare well formated data from csv format"
      ]
    },
    {
      "cell_type": "code",
      "metadata": {
        "id": "RCn3VF_2v5l3"
      },
      "source": [
        "def get_data(filename):\n",
        "  # You will need to write code that will read the file passed\n",
        "  # into this function. The first line contains the column headers\n",
        "  # so you should ignore it\n",
        "  # Each successive line contains 785 comma separated values between 0 and 255\n",
        "  # The first value is the label\n",
        "  # The rest are the pixel values for that picture\n",
        "  # The function will return 2 np.array types. One with all the labels\n",
        "  # One with all the images\n",
        "  #\n",
        "  # Tips: \n",
        "  # If you read a full line (as 'row') then row[0] has the label\n",
        "  # and row[1:785] has the 784 pixel values\n",
        "  # Take a look at np.array_split to turn the 784 pixels into 28x28\n",
        "  # You are reading in strings, but need the values to be floats\n",
        "  # Check out np.array().astype for a conversion\n",
        "    with open(filename) as training_file:\n",
        "      data = csv.reader(training_file)\n",
        "      images, labels = [], []\n",
        "      i = 0\n",
        "      for row in data:\n",
        "        if i == 0:\n",
        "          i += 1\n",
        "          continue\n",
        "        labels.append(row[0])\n",
        "        pixels = np.array(row[1:785]).reshape(28,28)\n",
        "        images.append(pixels)\n",
        "    images = np.array(images).astype(float)\n",
        "    labels = np.array(labels).astype(float)\n",
        "    return images, labels"
      ],
      "execution_count": 7,
      "outputs": []
    },
    {
      "cell_type": "code",
      "metadata": {
        "colab": {
          "base_uri": "https://localhost:8080/"
        },
        "id": "JHClXg6J48R6",
        "outputId": "d49adadc-ffe6-42d2-b411-e9b1d65d573b"
      },
      "source": [
        "training_images, training_labels = get_data(path_sign_mnist_train)\n",
        "testing_images, testing_labels = get_data(path_sign_mnist_test)\n",
        "\n",
        "# shape of training and testing data\n",
        "print(training_images.shape)\n",
        "print(training_labels.shape)\n",
        "print(testing_images.shape)\n",
        "print(testing_labels.shape)"
      ],
      "execution_count": 8,
      "outputs": [
        {
          "output_type": "stream",
          "text": [
            "(27455, 28, 28)\n",
            "(27455,)\n",
            "(7172, 28, 28)\n",
            "(7172,)\n"
          ],
          "name": "stdout"
        }
      ]
    },
    {
      "cell_type": "code",
      "metadata": {
        "colab": {
          "base_uri": "https://localhost:8080/"
        },
        "id": "SdR02LoHkGBT",
        "outputId": "6aaf4bbd-646d-4867-9831-fea205005fb1"
      },
      "source": [
        "# In this section you will have to add another dimension to the data\n",
        "# So, for example, if your array is (10000, 28, 28)\n",
        "# You will need to make it (10000, 28, 28, 1)\n",
        "# Hint: np.expand_dims\n",
        "\n",
        "training_images = np.expand_dims(training_images,axis = 3) # Your Code Here\n",
        "testing_images = np.expand_dims(testing_images,axis = 3) # Your Code Here\n",
        "\n",
        "# Keep These\n",
        "print(training_images.shape)\n",
        "print(testing_images.shape)"
      ],
      "execution_count": 9,
      "outputs": [
        {
          "output_type": "stream",
          "text": [
            "(27455, 28, 28, 1)\n",
            "(7172, 28, 28, 1)\n"
          ],
          "name": "stdout"
        }
      ]
    },
    {
      "cell_type": "code",
      "metadata": {
        "id": "UXkfr94fmbso"
      },
      "source": [
        "# Create an ImageDataGenerator and do Image Augmentation\n",
        "train_datagen = ImageDataGenerator(\n",
        "    rescale = 1./255.,\n",
        "    rotation_range=45,\n",
        "    width_shift_range=0.2,\n",
        "    height_shift_range=0.2,\n",
        "    shear_range=0.2,\n",
        "    zoom_range = 0.2,\n",
        "    fill_mode='nearest',\n",
        "    horizontal_flip = True\n",
        "    )\n",
        "\n",
        "validation_datagen = ImageDataGenerator(rescale=1./255.)\n",
        "\n",
        "\n",
        "train_datagen  = train_datagen.flow(x = training_images,y = training_labels)\n",
        "\n",
        "validation_datagen = validation_datagen.flow(x = testing_images, y = testing_labels)"
      ],
      "execution_count": 10,
      "outputs": []
    },
    {
      "cell_type": "code",
      "metadata": {
        "colab": {
          "base_uri": "https://localhost:8080/"
        },
        "id": "koXPfLhholIC",
        "outputId": "4dc53743-7dfb-4079-b718-676c6b348d82"
      },
      "source": [
        "# Define the model\n",
        "# Use no more than 2 Conv2D and 2 MaxPooling2D\n",
        "model = tf.keras.models.Sequential([\n",
        "    tf.keras.layers.Conv2D(64,3,activation='relu',input_shape = (28,28,1)),\n",
        "    tf.keras.layers.MaxPooling2D(2),\n",
        "    tf.keras.layers.Conv2D(128,3,activation='relu'),\n",
        "    tf.keras.layers.MaxPooling2D(2),\n",
        "    tf.keras.layers.Flatten(),\n",
        "    tf.keras.layers.Dense(128,activation='relu'),\n",
        "    tf.keras.layers.Dense(26,activation='softmax')\n",
        "    ])\n",
        "\n",
        "# Compile Model. \n",
        "model.compile(loss='sparse_categorical_crossentropy',\n",
        "              optimizer = 'adam',\n",
        "              metrics = ['accuracy'])\n",
        "\n",
        "# Train the Model\n",
        "history = model.fit(\n",
        "    train_datagen,\n",
        "    epochs = 20,\n",
        "    validation_data = validation_datagen,\n",
        "    verbose = 1)\n",
        "\n",
        "model.evaluate(testing_images, testing_labels, verbose=0)"
      ],
      "execution_count": 11,
      "outputs": [
        {
          "output_type": "stream",
          "text": [
            "Epoch 1/20\n",
            "858/858 [==============================] - 17s 11ms/step - loss: 3.0128 - accuracy: 0.0967 - val_loss: 2.2449 - val_accuracy: 0.2730\n",
            "Epoch 2/20\n",
            "858/858 [==============================] - 9s 10ms/step - loss: 2.2483 - accuracy: 0.2993 - val_loss: 1.4101 - val_accuracy: 0.5300\n",
            "Epoch 3/20\n",
            "858/858 [==============================] - 9s 11ms/step - loss: 1.8601 - accuracy: 0.4101 - val_loss: 1.1327 - val_accuracy: 0.6099\n",
            "Epoch 4/20\n",
            "858/858 [==============================] - 9s 11ms/step - loss: 1.5681 - accuracy: 0.4997 - val_loss: 0.9143 - val_accuracy: 0.6822\n",
            "Epoch 5/20\n",
            "858/858 [==============================] - 9s 11ms/step - loss: 1.3588 - accuracy: 0.5587 - val_loss: 0.8398 - val_accuracy: 0.7170\n",
            "Epoch 6/20\n",
            "858/858 [==============================] - 9s 11ms/step - loss: 1.2141 - accuracy: 0.5991 - val_loss: 0.7115 - val_accuracy: 0.7454\n",
            "Epoch 7/20\n",
            "858/858 [==============================] - 9s 11ms/step - loss: 1.1028 - accuracy: 0.6338 - val_loss: 0.5500 - val_accuracy: 0.8178\n",
            "Epoch 8/20\n",
            "858/858 [==============================] - 9s 11ms/step - loss: 1.0116 - accuracy: 0.6641 - val_loss: 0.5237 - val_accuracy: 0.8246\n",
            "Epoch 9/20\n",
            "858/858 [==============================] - 9s 11ms/step - loss: 0.9576 - accuracy: 0.6875 - val_loss: 0.4666 - val_accuracy: 0.8342\n",
            "Epoch 10/20\n",
            "858/858 [==============================] - 9s 10ms/step - loss: 0.8662 - accuracy: 0.7103 - val_loss: 0.4745 - val_accuracy: 0.8376\n",
            "Epoch 11/20\n",
            "858/858 [==============================] - 9s 11ms/step - loss: 0.8070 - accuracy: 0.7321 - val_loss: 0.4601 - val_accuracy: 0.8263\n",
            "Epoch 12/20\n",
            "858/858 [==============================] - 9s 11ms/step - loss: 0.7575 - accuracy: 0.7494 - val_loss: 0.5048 - val_accuracy: 0.8185\n",
            "Epoch 13/20\n",
            "858/858 [==============================] - 9s 11ms/step - loss: 0.7152 - accuracy: 0.7584 - val_loss: 0.3860 - val_accuracy: 0.8589\n",
            "Epoch 14/20\n",
            "858/858 [==============================] - 9s 11ms/step - loss: 0.6910 - accuracy: 0.7701 - val_loss: 0.3681 - val_accuracy: 0.8689\n",
            "Epoch 15/20\n",
            "858/858 [==============================] - 9s 11ms/step - loss: 0.6573 - accuracy: 0.7857 - val_loss: 0.4540 - val_accuracy: 0.8370\n",
            "Epoch 16/20\n",
            "858/858 [==============================] - 9s 10ms/step - loss: 0.6236 - accuracy: 0.7931 - val_loss: 0.3978 - val_accuracy: 0.8490\n",
            "Epoch 17/20\n",
            "858/858 [==============================] - 9s 11ms/step - loss: 0.6192 - accuracy: 0.7934 - val_loss: 0.3239 - val_accuracy: 0.8852\n",
            "Epoch 18/20\n",
            "858/858 [==============================] - 9s 11ms/step - loss: 0.6206 - accuracy: 0.7999 - val_loss: 0.3208 - val_accuracy: 0.8774\n",
            "Epoch 19/20\n",
            "858/858 [==============================] - 9s 10ms/step - loss: 0.5860 - accuracy: 0.8062 - val_loss: 0.3880 - val_accuracy: 0.8532\n",
            "Epoch 20/20\n",
            "858/858 [==============================] - 9s 11ms/step - loss: 0.5644 - accuracy: 0.8145 - val_loss: 0.3247 - val_accuracy: 0.8829\n"
          ],
          "name": "stdout"
        },
        {
          "output_type": "execute_result",
          "data": {
            "text/plain": [
              "[495.3143005371094, 0.4779698848724365]"
            ]
          },
          "metadata": {
            "tags": []
          },
          "execution_count": 11
        }
      ]
    },
    {
      "cell_type": "code",
      "metadata": {
        "colab": {
          "base_uri": "https://localhost:8080/",
          "height": 545
        },
        "id": "pv5WsTv6rNwp",
        "outputId": "5c87bdc2-1918-4e57-814b-f95ca0f3ddb7"
      },
      "source": [
        "# Plot the chart for accuracy and loss on both training and validation\n",
        "%matplotlib inline\n",
        "import matplotlib.pyplot as plt\n",
        "acc = history.history['accuracy'] # Your Code Here\n",
        "val_acc = history.history['val_accuracy'] # Your Code Here\n",
        "loss = history.history['loss'] # Your Code Here\n",
        "val_loss = history.history['val_loss'] # Your Code Here\n",
        "\n",
        "epochs = range(len(acc))\n",
        "\n",
        "plt.plot(epochs, acc, 'r', label='Training accuracy')\n",
        "plt.plot(epochs, val_acc, 'b', label='Validation accuracy')\n",
        "plt.title('Training and validation accuracy')\n",
        "plt.legend()\n",
        "plt.figure()\n",
        "\n",
        "plt.plot(epochs, loss, 'r', label='Training Loss')\n",
        "plt.plot(epochs, val_loss, 'b', label='Validation Loss')\n",
        "plt.title('Training and validation loss')\n",
        "plt.legend()\n",
        "\n",
        "plt.show()"
      ],
      "execution_count": 12,
      "outputs": [
        {
          "output_type": "display_data",
          "data": {
            "image/png": "[encoded data removed]",
            "text/plain": [
              "<Figure size 432x288 with 1 Axes>"
            ]
          },
          "metadata": {
            "tags": [],
            "needs_background": "light"
          }
        },
        {
          "output_type": "display_data",
          "data": {
            "image/png": "[encoded data removed]",
            "text/plain": [
              "<Figure size 432x288 with 1 Axes>"
            ]
          },
          "metadata": {
            "tags": [],
            "needs_background": "light"
          }
        }
      ]
    }
  ]
}
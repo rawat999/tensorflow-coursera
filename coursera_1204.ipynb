{
  "nbformat": 4,
  "nbformat_minor": 0,
  "metadata": {
    "colab": {
      "name": "coursera_1204.ipynb",
      "provenance": [],
      "collapsed_sections": [],
      "authorship_tag": "ABX9TyOnhJl08s5XOn3cSOaAKaLg",
      "include_colab_link": true
    },
    "kernelspec": {
      "name": "python3",
      "display_name": "Python 3"
    }
  },
  "cells": [
    {
      "cell_type": "markdown",
      "metadata": {
        "id": "view-in-github",
        "colab_type": "text"
      },
      "source": [
        "<a href=\"https://colab.research.google.com/github/rawatpremsingh999/tensorflow-coursera/blob/master/coursera_1204.ipynb\" target=\"_parent\"><img src=\"https://colab.research.google.com/assets/colab-badge.svg\" alt=\"Open In Colab\"/></a>"
      ]
    },
    {
      "cell_type": "code",
      "metadata": {
        "id": "DDBP5rAAmjmW"
      },
      "source": [
        "import numpy as np\r\n",
        "\r\n",
        "import tensorflow as tf\r\n",
        "from tensorflow import keras"
      ],
      "execution_count": 1,
      "outputs": []
    },
    {
      "cell_type": "markdown",
      "metadata": {
        "id": "doxiRgO1Rsm9"
      },
      "source": [
        "**Load Fashion MNIST dataset**"
      ]
    },
    {
      "cell_type": "code",
      "metadata": {
        "id": "9mp6agLMm5FS"
      },
      "source": [
        "# load fashion MNIST dataset\r\n",
        "\r\n",
        "f_MNIST = keras.datasets.fashion_mnist\r\n",
        "(train_images, train_labels),(test_images, test_labels) = f_MNIST.load_data()"
      ],
      "execution_count": 2,
      "outputs": []
    },
    {
      "cell_type": "markdown",
      "metadata": {
        "id": "IJhDizZRR9km"
      },
      "source": [
        "**See what is in the train_image**"
      ]
    },
    {
      "cell_type": "code",
      "metadata": {
        "colab": {
          "base_uri": "https://localhost:8080/"
        },
        "id": "6wndHSuNnehP",
        "outputId": "a1b7085a-6b66-44f5-bb07-4152c81d8253"
      },
      "source": [
        "train_images[0]"
      ],
      "execution_count": 3,
      "outputs": [
        {
          "output_type": "execute_result",
          "data": {
            "text/plain": [
              "array([[  0,   0,   0,   0,   0,   0,   0,   0,   0,   0,   0,   0,   0,\n",
              "          0,   0,   0,   0,   0,   0,   0,   0,   0,   0,   0,   0,   0,\n",
              "          0,   0],\n",
              "       [  0,   0,   0,   0,   0,   0,   0,   0,   0,   0,   0,   0,   0,\n",
              "          0,   0,   0,   0,   0,   0,   0,   0,   0,   0,   0,   0,   0,\n",
              "          0,   0],\n",
              "       [  0,   0,   0,   0,   0,   0,   0,   0,   0,   0,   0,   0,   0,\n",
              "          0,   0,   0,   0,   0,   0,   0,   0,   0,   0,   0,   0,   0,\n",
              "          0,   0],\n",
              "       [  0,   0,   0,   0,   0,   0,   0,   0,   0,   0,   0,   0,   1,\n",
              "          0,   0,  13,  73,   0,   0,   1,   4,   0,   0,   0,   0,   1,\n",
              "          1,   0],\n",
              "       [  0,   0,   0,   0,   0,   0,   0,   0,   0,   0,   0,   0,   3,\n",
              "          0,  36, 136, 127,  62,  54,   0,   0,   0,   1,   3,   4,   0,\n",
              "          0,   3],\n",
              "       [  0,   0,   0,   0,   0,   0,   0,   0,   0,   0,   0,   0,   6,\n",
              "          0, 102, 204, 176, 134, 144, 123,  23,   0,   0,   0,   0,  12,\n",
              "         10,   0],\n",
              "       [  0,   0,   0,   0,   0,   0,   0,   0,   0,   0,   0,   0,   0,\n",
              "          0, 155, 236, 207, 178, 107, 156, 161, 109,  64,  23,  77, 130,\n",
              "         72,  15],\n",
              "       [  0,   0,   0,   0,   0,   0,   0,   0,   0,   0,   0,   1,   0,\n",
              "         69, 207, 223, 218, 216, 216, 163, 127, 121, 122, 146, 141,  88,\n",
              "        172,  66],\n",
              "       [  0,   0,   0,   0,   0,   0,   0,   0,   0,   1,   1,   1,   0,\n",
              "        200, 232, 232, 233, 229, 223, 223, 215, 213, 164, 127, 123, 196,\n",
              "        229,   0],\n",
              "       [  0,   0,   0,   0,   0,   0,   0,   0,   0,   0,   0,   0,   0,\n",
              "        183, 225, 216, 223, 228, 235, 227, 224, 222, 224, 221, 223, 245,\n",
              "        173,   0],\n",
              "       [  0,   0,   0,   0,   0,   0,   0,   0,   0,   0,   0,   0,   0,\n",
              "        193, 228, 218, 213, 198, 180, 212, 210, 211, 213, 223, 220, 243,\n",
              "        202,   0],\n",
              "       [  0,   0,   0,   0,   0,   0,   0,   0,   0,   1,   3,   0,  12,\n",
              "        219, 220, 212, 218, 192, 169, 227, 208, 218, 224, 212, 226, 197,\n",
              "        209,  52],\n",
              "       [  0,   0,   0,   0,   0,   0,   0,   0,   0,   0,   6,   0,  99,\n",
              "        244, 222, 220, 218, 203, 198, 221, 215, 213, 222, 220, 245, 119,\n",
              "        167,  56],\n",
              "       [  0,   0,   0,   0,   0,   0,   0,   0,   0,   4,   0,   0,  55,\n",
              "        236, 228, 230, 228, 240, 232, 213, 218, 223, 234, 217, 217, 209,\n",
              "         92,   0],\n",
              "       [  0,   0,   1,   4,   6,   7,   2,   0,   0,   0,   0,   0, 237,\n",
              "        226, 217, 223, 222, 219, 222, 221, 216, 223, 229, 215, 218, 255,\n",
              "         77,   0],\n",
              "       [  0,   3,   0,   0,   0,   0,   0,   0,   0,  62, 145, 204, 228,\n",
              "        207, 213, 221, 218, 208, 211, 218, 224, 223, 219, 215, 224, 244,\n",
              "        159,   0],\n",
              "       [  0,   0,   0,   0,  18,  44,  82, 107, 189, 228, 220, 222, 217,\n",
              "        226, 200, 205, 211, 230, 224, 234, 176, 188, 250, 248, 233, 238,\n",
              "        215,   0],\n",
              "       [  0,  57, 187, 208, 224, 221, 224, 208, 204, 214, 208, 209, 200,\n",
              "        159, 245, 193, 206, 223, 255, 255, 221, 234, 221, 211, 220, 232,\n",
              "        246,   0],\n",
              "       [  3, 202, 228, 224, 221, 211, 211, 214, 205, 205, 205, 220, 240,\n",
              "         80, 150, 255, 229, 221, 188, 154, 191, 210, 204, 209, 222, 228,\n",
              "        225,   0],\n",
              "       [ 98, 233, 198, 210, 222, 229, 229, 234, 249, 220, 194, 215, 217,\n",
              "        241,  65,  73, 106, 117, 168, 219, 221, 215, 217, 223, 223, 224,\n",
              "        229,  29],\n",
              "       [ 75, 204, 212, 204, 193, 205, 211, 225, 216, 185, 197, 206, 198,\n",
              "        213, 240, 195, 227, 245, 239, 223, 218, 212, 209, 222, 220, 221,\n",
              "        230,  67],\n",
              "       [ 48, 203, 183, 194, 213, 197, 185, 190, 194, 192, 202, 214, 219,\n",
              "        221, 220, 236, 225, 216, 199, 206, 186, 181, 177, 172, 181, 205,\n",
              "        206, 115],\n",
              "       [  0, 122, 219, 193, 179, 171, 183, 196, 204, 210, 213, 207, 211,\n",
              "        210, 200, 196, 194, 191, 195, 191, 198, 192, 176, 156, 167, 177,\n",
              "        210,  92],\n",
              "       [  0,   0,  74, 189, 212, 191, 175, 172, 175, 181, 185, 188, 189,\n",
              "        188, 193, 198, 204, 209, 210, 210, 211, 188, 188, 194, 192, 216,\n",
              "        170,   0],\n",
              "       [  2,   0,   0,   0,  66, 200, 222, 237, 239, 242, 246, 243, 244,\n",
              "        221, 220, 193, 191, 179, 182, 182, 181, 176, 166, 168,  99,  58,\n",
              "          0,   0],\n",
              "       [  0,   0,   0,   0,   0,   0,   0,  40,  61,  44,  72,  41,  35,\n",
              "          0,   0,   0,   0,   0,   0,   0,   0,   0,   0,   0,   0,   0,\n",
              "          0,   0],\n",
              "       [  0,   0,   0,   0,   0,   0,   0,   0,   0,   0,   0,   0,   0,\n",
              "          0,   0,   0,   0,   0,   0,   0,   0,   0,   0,   0,   0,   0,\n",
              "          0,   0],\n",
              "       [  0,   0,   0,   0,   0,   0,   0,   0,   0,   0,   0,   0,   0,\n",
              "          0,   0,   0,   0,   0,   0,   0,   0,   0,   0,   0,   0,   0,\n",
              "          0,   0]], dtype=uint8)"
            ]
          },
          "metadata": {
            "tags": []
          },
          "execution_count": 3
        }
      ]
    },
    {
      "cell_type": "code",
      "metadata": {
        "colab": {
          "base_uri": "https://localhost:8080/"
        },
        "id": "EA6JZp0pninG",
        "outputId": "8762d4f2-b3fd-43a6-8fca-c37df16aff3c"
      },
      "source": [
        "train_labels[0]"
      ],
      "execution_count": 4,
      "outputs": [
        {
          "output_type": "execute_result",
          "data": {
            "text/plain": [
              "9"
            ]
          },
          "metadata": {
            "tags": []
          },
          "execution_count": 4
        }
      ]
    },
    {
      "cell_type": "markdown",
      "metadata": {
        "id": "7s_H6fWBR0bK"
      },
      "source": [
        "**Visualise a particular image in training data**"
      ]
    },
    {
      "cell_type": "code",
      "metadata": {
        "colab": {
          "base_uri": "https://localhost:8080/",
          "height": 282
        },
        "id": "fhZ0S-rFnrTS",
        "outputId": "4d58c92d-81b6-4040-f781-c33860ec66c7"
      },
      "source": [
        "import matplotlib.pyplot as plt\r\n",
        "plt.imshow(train_images[1300])"
      ],
      "execution_count": 5,
      "outputs": [
        {
          "output_type": "execute_result",
          "data": {
            "text/plain": [
              "<matplotlib.image.AxesImage at 0x7fe43f84d5f8>"
            ]
          },
          "metadata": {
            "tags": []
          },
          "execution_count": 5
        },
        {
          "output_type": "display_data",
          "data": {
            "image/png": "[encoded data removed]",
            "text/plain": [
              "<Figure size 432x288 with 1 Axes>"
            ]
          },
          "metadata": {
            "tags": [],
            "needs_background": "light"
          }
        }
      ]
    },
    {
      "cell_type": "code",
      "metadata": {
        "colab": {
          "base_uri": "https://localhost:8080/"
        },
        "id": "NIc-MZCyqdAi",
        "outputId": "971fca54-6ea5-4db8-9f38-918f2409f3bd"
      },
      "source": [
        "train_labels[1300]"
      ],
      "execution_count": 6,
      "outputs": [
        {
          "output_type": "execute_result",
          "data": {
            "text/plain": [
              "4"
            ]
          },
          "metadata": {
            "tags": []
          },
          "execution_count": 6
        }
      ]
    },
    {
      "cell_type": "code",
      "metadata": {
        "colab": {
          "base_uri": "https://localhost:8080/",
          "height": 758
        },
        "id": "KYO10BGSqhJm",
        "outputId": "b1a3e43d-e2fa-40a2-b576-539d3d4997e6"
      },
      "source": [
        "np.set_printoptions(linewidth=200)\r\n",
        "plt.imshow(train_images[4300])\r\n",
        "print(train_labels[4300])\r\n",
        "print(train_images[4300])"
      ],
      "execution_count": 7,
      "outputs": [
        {
          "output_type": "stream",
          "text": [
            "1\n",
            "[[  0   0   0   0   0   0   0   0   0   0 108 181 166 202 175 163 204 209 180 175   0   0   0   0   0   0   0   0]\n",
            " [  0   0   0   0   0   0   0   0   0   0 132 178 193 184 199 207 209 185 194 214  47   0   0   0   0   0   0   0]\n",
            " [  0   0   0   0   0   0   0   0   0   0 154 186 196 202 202 191 196 201 189 217  90   0   0   0   0   0   0   0]\n",
            " [  0   0   0   0   0   0   0   0   0   0 195 187 184 180 185 190 180 190 181 217 106   0   0   0   0   0   0   0]\n",
            " [  0   0   0   0   0   0   0   0   0  76 198 178 185 181 201 194 181 225 188 192 105   0   0   0   0   0   0   0]\n",
            " [  0   0   0   0   0   0   0   0   0 172 196 175 171 171 209 180 197 230 170 181 100   0   0   0   0   0   0   0]\n",
            " [  0   0   0   0   0   0   0   0   0 208 189 198 192 191 220 220 220 216 169 210  82   0   0   0   0   0   0   0]\n",
            " [  0   0   0   0   0   0   0   0  34 226 191 186 163 192 120 150 249 209 203 231  50   0   0   0   0   0   0   0]\n",
            " [  0   0   0   0   0   0   0   0  72 222 189 180 177 238   0  59 255 214 209 230   9   0   0   0   0   0   0   0]\n",
            " [  0   0   0   0   0   0   0   0  95 220 185 183 211 200   0  24 255 220 216 221   0   0   0   0   0   0   0   0]\n",
            " [  0   0   0   0   0   0   0   0 108 223 178 176 230  95   0   0 248 218 218 195   0   0   0   0   0   0   0   0]\n",
            " [  0   0   0   0   0   0   0   0 120 220 178 177 220   0   0   0 238 215 216 163   0   0   0   0   0   0   0   0]\n",
            " [  0   0   0   0   0   0   0   0 106 217 174 186 138   0   0   0 190 212 215 126   0   0   0   0   0   0   0   0]\n",
            " [  0   0   0   0   0   0   0   0 124 210 169 190 117   0   0   0 212 208 197 111   0   0   0   0   0   0   0   0]\n",
            " [  0   0   0   0   0   0   0   0 135 208 170 192  86   0   0   0 185 217 205 115   0   0   0   0   0   0   0   0]\n",
            " [  0   0   0   0   0   0   0   0  96 228 176 195  26   0   3   0 126 220 215 126   0   0   0   0   0   0   0   0]\n",
            " [  0   0   0   0   0   0   0   0  50 237 176 195  49   0   5   0  89 218 212 155   0   0   0   0   0   0   0   0]\n",
            " [  0   0   0   0   0   0   0   0   0 229 179 195  89   0   3   0  89 211 205 163   0   0   0   0   0   0   0   0]\n",
            " [  0   0   0   0   0   0   0   0   0 207 192 189 152   0   1   0 107 213 200 155   0   0   0   0   0   0   0   0]\n",
            " [  0   0   0   0   0   0   0   0   0 171 199 186 193   0   0   0 100 207 196 157   0   0   0   0   0   0   0   0]\n",
            " [  0   0   0   0   0   0   0   0   0 101 202 186 169   0   0   0  60 202 203 147   0   0   0   0   0   0   0   0]\n",
            " [  0   0   0   0   0   0   0   0   0  36 195 180 168   0   0   0  87 205 210 108   0   0   0   0   0   0   0   0]\n",
            " [  0   0   0   0   0   0   0   0   0   6 189 176 173   0   0   0 105 205 211  93   0   0   0   0   0   0   0   0]\n",
            " [  0   0   0   0   0   0   0   0   0   0 140 179 177   1   0   0 102 203 193  38   0   0   0   0   0   0   0   0]\n",
            " [  0   0   0   0   0   0   0   0   0   0 160 183 171  29   0   0  97 206 203  72   0   0   0   0   0   0   0   0]\n",
            " [  0   0   0   0   0   0   0   0   5   0 117 168 172  41   0   0  70 200 192 111   0   0   0   0   0   0   0   0]\n",
            " [  0   0   0   0   0   0   0   0   4   0  24 187 206  94   0   0  79 216 212  62   0   0   0   0   0   0   0   0]\n",
            " [  0   0   0   0   0   0   0   0   2   0   0 100 133  38   0   0   1 143 135  22   0   0   0   0   0   0   0   0]]\n"
          ],
          "name": "stdout"
        },
        {
          "output_type": "display_data",
          "data": {
            "image/png": "[encoded data removed]",
            "text/plain": [
              "<Figure size 432x288 with 1 Axes>"
            ]
          },
          "metadata": {
            "tags": [],
            "needs_background": "light"
          }
        }
      ]
    },
    {
      "cell_type": "markdown",
      "metadata": {
        "id": "qqx7CmeJrVzK"
      },
      "source": [
        "**Normalizing Images**"
      ]
    },
    {
      "cell_type": "code",
      "metadata": {
        "id": "quRnByRIqqZg"
      },
      "source": [
        "train_images = train_images / 255.0\r\n",
        "test_images = test_images / 255.0"
      ],
      "execution_count": 8,
      "outputs": []
    },
    {
      "cell_type": "markdown",
      "metadata": {
        "id": "O32m4xXvrt8V"
      },
      "source": [
        "**Design the Model**"
      ]
    },
    {
      "cell_type": "code",
      "metadata": {
        "id": "NAAvDnmVrkZU"
      },
      "source": [
        "model = tf.keras.Sequential()\r\n",
        "model.add(keras.layers.Flatten())\r\n",
        "model.add(keras.layers.Dense(128,activation=tf.nn.relu))\r\n",
        "model.add(keras.layers.Dense(10,activation=tf.nn.softmax))"
      ],
      "execution_count": 9,
      "outputs": []
    },
    {
      "cell_type": "markdown",
      "metadata": {
        "id": "3-aVKU68Ug5g"
      },
      "source": [
        "**Sequential**: That defines a SEQUENCE of layers in the neural network\r\n",
        "\r\n",
        "**Flatten**: Remember earlier where our images were a square, when you printed them out? Flatten just takes that square and turns it into a 1 dimensional set.\r\n",
        "\r\n",
        "**Dense**: Adds a layer of neurons\r\n",
        "\r\n",
        "Each layer of neurons need an **activation function** to tell them what to do. There's lots of options, but just use these for now. \r\n",
        "\r\n",
        "**Relu** effectively means \"If X>0 return X, else return 0\" -- so what it does it it only passes values 0 or greater to the next layer in the network.\r\n",
        "\r\n",
        "**Softmax** takes a set of values, and effectively picks the biggest one, so, for example, if the output of the last layer looks like [0.1, 0.1, 0.05, 0.1, 9.5, 0.1, 0.05, 0.05, 0.05], it saves you from fishing through it looking for the biggest value, and turns it into [0,0,0,0,1,0,0,0,0] -- The goal is to save a lot of coding!"
      ]
    },
    {
      "cell_type": "markdown",
      "metadata": {
        "id": "u71gsJJXs4lz"
      },
      "source": [
        "**Define Model Compilation**"
      ]
    },
    {
      "cell_type": "code",
      "metadata": {
        "id": "9AlEYENps3iO"
      },
      "source": [
        "model.compile(optimizer='adam',loss='sparse_categorical_crossentropy',metrics = ['accuracy'])"
      ],
      "execution_count": 10,
      "outputs": []
    },
    {
      "cell_type": "markdown",
      "metadata": {
        "id": "UphWc5LUtlMQ"
      },
      "source": [
        "**Train the Model**"
      ]
    },
    {
      "cell_type": "code",
      "metadata": {
        "colab": {
          "base_uri": "https://localhost:8080/"
        },
        "id": "LtHYeGI7sx4d",
        "outputId": "e80e9cd8-d150-4a91-896c-7b6b3ec3fb72"
      },
      "source": [
        "model.fit(x = train_images, y = train_labels, epochs= 10)"
      ],
      "execution_count": 11,
      "outputs": [
        {
          "output_type": "stream",
          "text": [
            "Epoch 1/10\n",
            "1875/1875 [==============================] - 3s 2ms/step - loss: 0.6252 - accuracy: 0.7830\n",
            "Epoch 2/10\n",
            "1875/1875 [==============================] - 3s 2ms/step - loss: 0.3855 - accuracy: 0.8600\n",
            "Epoch 3/10\n",
            "1875/1875 [==============================] - 3s 2ms/step - loss: 0.3348 - accuracy: 0.8782\n",
            "Epoch 4/10\n",
            "1875/1875 [==============================] - 3s 2ms/step - loss: 0.3097 - accuracy: 0.8858\n",
            "Epoch 5/10\n",
            "1875/1875 [==============================] - 3s 2ms/step - loss: 0.2927 - accuracy: 0.8912\n",
            "Epoch 6/10\n",
            "1875/1875 [==============================] - 4s 2ms/step - loss: 0.2737 - accuracy: 0.8982\n",
            "Epoch 7/10\n",
            "1875/1875 [==============================] - 3s 2ms/step - loss: 0.2645 - accuracy: 0.9011\n",
            "Epoch 8/10\n",
            "1875/1875 [==============================] - 3s 2ms/step - loss: 0.2521 - accuracy: 0.9062\n",
            "Epoch 9/10\n",
            "1875/1875 [==============================] - 3s 2ms/step - loss: 0.2454 - accuracy: 0.9086\n",
            "Epoch 10/10\n",
            "1875/1875 [==============================] - 3s 2ms/step - loss: 0.2327 - accuracy: 0.9135\n"
          ],
          "name": "stdout"
        },
        {
          "output_type": "execute_result",
          "data": {
            "text/plain": [
              "<tensorflow.python.keras.callbacks.History at 0x7fe43b360358>"
            ]
          },
          "metadata": {
            "tags": []
          },
          "execution_count": 11
        }
      ]
    },
    {
      "cell_type": "markdown",
      "metadata": {
        "id": "q-Mab0vLuWh9"
      },
      "source": [
        "**Evaluate the Model on Test Data**"
      ]
    },
    {
      "cell_type": "code",
      "metadata": {
        "colab": {
          "base_uri": "https://localhost:8080/"
        },
        "id": "8R_xWGg0t606",
        "outputId": "2cb54cf3-a07b-4963-d943-1b71ecff99d5"
      },
      "source": [
        "model.evaluate(x = test_images, y = test_labels)"
      ],
      "execution_count": 12,
      "outputs": [
        {
          "output_type": "stream",
          "text": [
            "313/313 [==============================] - 0s 1ms/step - loss: 0.3385 - accuracy: 0.8782\n"
          ],
          "name": "stdout"
        },
        {
          "output_type": "execute_result",
          "data": {
            "text/plain": [
              "[0.33845916390419006, 0.8781999945640564]"
            ]
          },
          "metadata": {
            "tags": []
          },
          "execution_count": 12
        }
      ]
    },
    {
      "cell_type": "markdown",
      "metadata": {
        "id": "QwE-dISkXL4j"
      },
      "source": [
        "**Predict the Test Data**"
      ]
    },
    {
      "cell_type": "code",
      "metadata": {
        "colab": {
          "base_uri": "https://localhost:8080/"
        },
        "id": "ID7-55vhXTU_",
        "outputId": "fdfe12c4-c10e-454f-aea3-5dfabc4d1ddc"
      },
      "source": [
        "classifications = model.predict(test_images)\r\n",
        "\r\n",
        "print(classifications[0]) # probabilities of output belongs to that class"
      ],
      "execution_count": 13,
      "outputs": [
        {
          "output_type": "stream",
          "text": [
            "[3.0786256e-09 4.7239322e-08 1.4278494e-08 3.5094219e-09 2.4493511e-08 1.7620856e-03 2.1063371e-07 7.1988655e-03 2.5023252e-07 9.9103856e-01]\n"
          ],
          "name": "stdout"
        }
      ]
    },
    {
      "cell_type": "code",
      "metadata": {
        "colab": {
          "base_uri": "https://localhost:8080/"
        },
        "id": "Vf9bSiahXXRt",
        "outputId": "896c5bbb-9142-430b-e5b6-57b4704fb515"
      },
      "source": [
        "print(test_labels[0]) # actual output"
      ],
      "execution_count": 14,
      "outputs": [
        {
          "output_type": "stream",
          "text": [
            "9\n"
          ],
          "name": "stdout"
        }
      ]
    },
    {
      "cell_type": "code",
      "metadata": {
        "colab": {
          "base_uri": "https://localhost:8080/"
        },
        "id": "pQKdD-O6Xh8w",
        "outputId": "abdc8e0f-66ff-49ef-e717-16bc0cee2451"
      },
      "source": [
        "# round to 4 decimal values\r\n",
        "for i in classifications[0]:\r\n",
        "  print(round(i,4),end='   ') "
      ],
      "execution_count": 15,
      "outputs": [
        {
          "output_type": "stream",
          "text": [
            "0.0   0.0   0.0   0.0   0.0   0.0018   0.0   0.0072   0.0   0.991   "
          ],
          "name": "stdout"
        }
      ]
    },
    {
      "cell_type": "markdown",
      "metadata": {
        "id": "5-20ePzKZOLD"
      },
      "source": [
        "**Labels**\r\n",
        "\r\n",
        "Each training and test example is assigned to one of the following labels:\r\n",
        "\r\n",
        "Label \\: Description\r\n",
        "\r\n",
        "0.   T-shirt/top\r\n",
        "1.   Trouser\r\n",
        "2.   Pullover\r\n",
        "3.   Dress\r\n",
        "4.   Coat\r\n",
        "5.   Sandal\r\n",
        "6.   Shirt\r\n",
        "7.   Sneaker\r\n",
        "8.   Bag\r\n",
        "9.   Ankel Boot\r\n",
        "\r\n"
      ]
    },
    {
      "cell_type": "markdown",
      "metadata": {
        "id": "nspYTrPMa7A9"
      },
      "source": [
        "### Now experiment with different neurons in the dense layer (e.g. 512 or 1024)"
      ]
    },
    {
      "cell_type": "code",
      "metadata": {
        "colab": {
          "base_uri": "https://localhost:8080/"
        },
        "id": "t6yW5dFFX_ss",
        "outputId": "230aadf3-db9a-49c7-d8e1-03ab29c2c06e"
      },
      "source": [
        "# 512 neurons in dense layer\r\n",
        "model1 = tf.keras.Sequential([keras.layers.Flatten(),\r\n",
        "                              keras.layers.Dense(512,activation='relu'),\r\n",
        "                              keras.layers.Dense(10,activation='softmax')])\r\n",
        "\r\n",
        "model1.compile(optimizer = 'adam',loss = 'sparse_categorical_crossentropy',metrics=['accuracy'])\r\n",
        "\r\n",
        "model1.fit(train_images,train_labels,epochs=10)"
      ],
      "execution_count": 16,
      "outputs": [
        {
          "output_type": "stream",
          "text": [
            "Epoch 1/10\n",
            "1875/1875 [==============================] - 6s 3ms/step - loss: 0.5890 - accuracy: 0.7917\n",
            "Epoch 2/10\n",
            "1875/1875 [==============================] - 6s 3ms/step - loss: 0.3679 - accuracy: 0.8641\n",
            "Epoch 3/10\n",
            "1875/1875 [==============================] - 6s 3ms/step - loss: 0.3246 - accuracy: 0.8794\n",
            "Epoch 4/10\n",
            "1875/1875 [==============================] - 6s 3ms/step - loss: 0.3008 - accuracy: 0.8868\n",
            "Epoch 5/10\n",
            "1875/1875 [==============================] - 6s 3ms/step - loss: 0.2779 - accuracy: 0.8967\n",
            "Epoch 6/10\n",
            "1875/1875 [==============================] - 6s 3ms/step - loss: 0.2679 - accuracy: 0.8993\n",
            "Epoch 7/10\n",
            "1875/1875 [==============================] - 6s 3ms/step - loss: 0.2520 - accuracy: 0.9056\n",
            "Epoch 8/10\n",
            "1875/1875 [==============================] - 6s 3ms/step - loss: 0.2396 - accuracy: 0.9093\n",
            "Epoch 9/10\n",
            "1875/1875 [==============================] - 6s 3ms/step - loss: 0.2301 - accuracy: 0.9137\n",
            "Epoch 10/10\n",
            "1875/1875 [==============================] - 6s 3ms/step - loss: 0.2201 - accuracy: 0.9160\n"
          ],
          "name": "stdout"
        },
        {
          "output_type": "execute_result",
          "data": {
            "text/plain": [
              "<tensorflow.python.keras.callbacks.History at 0x7fe438c694a8>"
            ]
          },
          "metadata": {
            "tags": []
          },
          "execution_count": 16
        }
      ]
    },
    {
      "cell_type": "code",
      "metadata": {
        "colab": {
          "base_uri": "https://localhost:8080/"
        },
        "id": "Qs6fv6p4cNlK",
        "outputId": "65fce45b-e11d-4201-ea4e-afc14ebd0bda"
      },
      "source": [
        "model1.evaluate(test_images,test_labels)"
      ],
      "execution_count": 17,
      "outputs": [
        {
          "output_type": "stream",
          "text": [
            "313/313 [==============================] - 1s 2ms/step - loss: 0.3420 - accuracy: 0.8835\n"
          ],
          "name": "stdout"
        },
        {
          "output_type": "execute_result",
          "data": {
            "text/plain": [
              "[0.3420184552669525, 0.8834999799728394]"
            ]
          },
          "metadata": {
            "tags": []
          },
          "execution_count": 17
        }
      ]
    },
    {
      "cell_type": "markdown",
      "metadata": {
        "id": "uzx4kX21eAT9"
      },
      "source": [
        "**Note:**\r\n",
        "Increase to 512 neurons in dense layer, Training takes longer but it is more accurate than previous neural network model."
      ]
    },
    {
      "cell_type": "code",
      "metadata": {
        "colab": {
          "base_uri": "https://localhost:8080/"
        },
        "id": "WmyvHpVBcpFM",
        "outputId": "4ec0d9fc-8781-478d-fa36-6f5bc2b9b828"
      },
      "source": [
        "# 1024 neurons in dense layers\r\n",
        "model2 = tf.keras.Sequential([keras.layers.Flatten(),\r\n",
        "                              keras.layers.Dense(1024,activation='sigmoid'),\r\n",
        "                              keras.layers.Dense(10,activation='softmax')])\r\n",
        "\r\n",
        "model2.compile(optimizer='adam',loss='sparse_categorical_crossentropy',metrics= ['accuracy'])\r\n",
        "\r\n",
        "model2.fit(train_images,train_labels,epochs=10)"
      ],
      "execution_count": 18,
      "outputs": [
        {
          "output_type": "stream",
          "text": [
            "Epoch 1/10\n",
            "1875/1875 [==============================] - 11s 6ms/step - loss: 0.6257 - accuracy: 0.7789\n",
            "Epoch 2/10\n",
            "1875/1875 [==============================] - 10s 6ms/step - loss: 0.3943 - accuracy: 0.8554\n",
            "Epoch 3/10\n",
            "1875/1875 [==============================] - 10s 6ms/step - loss: 0.3459 - accuracy: 0.8733\n",
            "Epoch 4/10\n",
            "1875/1875 [==============================] - 10s 6ms/step - loss: 0.3155 - accuracy: 0.8836\n",
            "Epoch 5/10\n",
            "1875/1875 [==============================] - 10s 6ms/step - loss: 0.2874 - accuracy: 0.8925\n",
            "Epoch 6/10\n",
            "1875/1875 [==============================] - 10s 6ms/step - loss: 0.2653 - accuracy: 0.9010\n",
            "Epoch 7/10\n",
            "1875/1875 [==============================] - 10s 6ms/step - loss: 0.2496 - accuracy: 0.9053\n",
            "Epoch 8/10\n",
            "1875/1875 [==============================] - 10s 6ms/step - loss: 0.2417 - accuracy: 0.9079\n",
            "Epoch 9/10\n",
            "1875/1875 [==============================] - 10s 5ms/step - loss: 0.2196 - accuracy: 0.9163\n",
            "Epoch 10/10\n",
            "1875/1875 [==============================] - 10s 6ms/step - loss: 0.2083 - accuracy: 0.9208\n"
          ],
          "name": "stdout"
        },
        {
          "output_type": "execute_result",
          "data": {
            "text/plain": [
              "<tensorflow.python.keras.callbacks.History at 0x7fe436b17278>"
            ]
          },
          "metadata": {
            "tags": []
          },
          "execution_count": 18
        }
      ]
    },
    {
      "cell_type": "code",
      "metadata": {
        "colab": {
          "base_uri": "https://localhost:8080/"
        },
        "id": "WBa2mA4Jdt3_",
        "outputId": "c9207c8c-54ea-471a-d612-1a30ed18f155"
      },
      "source": [
        "model2.evaluate(test_images,test_labels)"
      ],
      "execution_count": 19,
      "outputs": [
        {
          "output_type": "stream",
          "text": [
            "313/313 [==============================] - 1s 3ms/step - loss: 0.3204 - accuracy: 0.8900\n"
          ],
          "name": "stdout"
        },
        {
          "output_type": "execute_result",
          "data": {
            "text/plain": [
              "[0.3203895390033722, 0.8899999856948853]"
            ]
          },
          "metadata": {
            "tags": []
          },
          "execution_count": 19
        }
      ]
    },
    {
      "cell_type": "markdown",
      "metadata": {
        "id": "JQW7F8FqeaIr"
      },
      "source": [
        "**Note:** Again it takes more time to train but it is more accurate than previous networks!"
      ]
    },
    {
      "cell_type": "markdown",
      "metadata": {
        "id": "es6fB-l7gg-o"
      },
      "source": [
        "### Now experiment with additional number of layers in the network "
      ]
    },
    {
      "cell_type": "code",
      "metadata": {
        "colab": {
          "base_uri": "https://localhost:8080/"
        },
        "id": "srD4HVQBeYjV",
        "outputId": "49db91dc-a013-473d-e5aa-aab4fbc00f87"
      },
      "source": [
        "# Design Network\r\n",
        "model3 = tf.keras.Sequential()\r\n",
        "model3.add(keras.layers.Flatten())\r\n",
        "model3.add(keras.layers.Dense(512,activation='relu'))\r\n",
        "model3.add(keras.layers.Dense(64,activation='relu'))\r\n",
        "model3.add(keras.layers.Dense(10,activation='softmax'))\r\n",
        "\r\n",
        "# Define Compilation of Network\r\n",
        "model3.compile(optimizer='adam',loss='sparse_categorical_crossentropy',metrics=['accuracy'])\r\n",
        "\r\n",
        "# Train the Network\r\n",
        "model3.fit(train_images,train_labels,epochs=10)"
      ],
      "execution_count": 20,
      "outputs": [
        {
          "output_type": "stream",
          "text": [
            "Epoch 1/10\n",
            "1875/1875 [==============================] - 7s 3ms/step - loss: 0.5996 - accuracy: 0.7884\n",
            "Epoch 2/10\n",
            "1875/1875 [==============================] - 6s 3ms/step - loss: 0.3668 - accuracy: 0.8642\n",
            "Epoch 3/10\n",
            "1875/1875 [==============================] - 6s 3ms/step - loss: 0.3201 - accuracy: 0.8813\n",
            "Epoch 4/10\n",
            "1875/1875 [==============================] - 6s 3ms/step - loss: 0.3003 - accuracy: 0.8879\n",
            "Epoch 5/10\n",
            "1875/1875 [==============================] - 6s 3ms/step - loss: 0.2813 - accuracy: 0.8948\n",
            "Epoch 6/10\n",
            "1875/1875 [==============================] - 7s 4ms/step - loss: 0.2655 - accuracy: 0.9011\n",
            "Epoch 7/10\n",
            "1875/1875 [==============================] - 6s 3ms/step - loss: 0.2565 - accuracy: 0.9031\n",
            "Epoch 8/10\n",
            "1875/1875 [==============================] - 6s 3ms/step - loss: 0.2471 - accuracy: 0.9060\n",
            "Epoch 9/10\n",
            "1875/1875 [==============================] - 7s 3ms/step - loss: 0.2273 - accuracy: 0.9143\n",
            "Epoch 10/10\n",
            "1875/1875 [==============================] - 7s 4ms/step - loss: 0.2203 - accuracy: 0.9160\n"
          ],
          "name": "stdout"
        },
        {
          "output_type": "execute_result",
          "data": {
            "text/plain": [
              "<tensorflow.python.keras.callbacks.History at 0x7fe4359ce518>"
            ]
          },
          "metadata": {
            "tags": []
          },
          "execution_count": 20
        }
      ]
    },
    {
      "cell_type": "code",
      "metadata": {
        "colab": {
          "base_uri": "https://localhost:8080/"
        },
        "id": "sRnXYaPJh_sv",
        "outputId": "b3e33225-1033-4c83-c02f-b7aa493e16d4"
      },
      "source": [
        "model3.evaluate(test_images,test_labels)"
      ],
      "execution_count": 21,
      "outputs": [
        {
          "output_type": "stream",
          "text": [
            "313/313 [==============================] - 1s 2ms/step - loss: 0.3474 - accuracy: 0.8803\n"
          ],
          "name": "stdout"
        },
        {
          "output_type": "execute_result",
          "data": {
            "text/plain": [
              "[0.3473920226097107, 0.880299985408783]"
            ]
          },
          "metadata": {
            "tags": []
          },
          "execution_count": 21
        }
      ]
    },
    {
      "cell_type": "markdown",
      "metadata": {
        "id": "NmmfJKRXiVpE"
      },
      "source": [
        "There isn't a significant impact -- because this is relatively simple data. For far more complex data (including color images to be classified as flowers that you'll see in the next lesson), extra layers are often necessary. "
      ]
    },
    {
      "cell_type": "markdown",
      "metadata": {
        "id": "PENxgzZ_lOkR"
      },
      "source": [
        "### **Stop Training** when we get desired result:\r\n",
        "stop the training when I reach a desired value using callback function."
      ]
    },
    {
      "cell_type": "code",
      "metadata": {
        "colab": {
          "base_uri": "https://localhost:8080/"
        },
        "id": "vaUBz2vciUOK",
        "outputId": "956ef31b-3e30-4699-cf05-aa2e90cfc874"
      },
      "source": [
        "class myCallback(tf.keras.callbacks.Callback):\r\n",
        "  def on_epoch_end(self,epoch,logs={}):\r\n",
        "    if(logs.get('loss')<0.25):\r\n",
        "      print(\"\\nReached at less than 0.25 loss so cancelling training!!! \")\r\n",
        "      self.model.stop_training = True\r\n",
        "\r\n",
        "callbacks = myCallback()\r\n",
        "\r\n",
        "model4 = tf.keras.Sequential([keras.layers.Flatten(),\r\n",
        "                              keras.layers.Dense(128,activation='relu'),\r\n",
        "                              keras.layers.Dense(10,activation='softmax')])\r\n",
        "\r\n",
        "model4.compile(optimizer='adam',loss='sparse_categorical_crossentropy',metrics=['accuracy'])\r\n",
        "\r\n",
        "model4.fit(train_images,train_labels,epochs=20,callbacks=[callbacks])"
      ],
      "execution_count": 27,
      "outputs": [
        {
          "output_type": "stream",
          "text": [
            "Epoch 1/20\n",
            "1875/1875 [==============================] - 4s 2ms/step - loss: 0.6313 - accuracy: 0.7787\n",
            "Epoch 2/20\n",
            "1875/1875 [==============================] - 3s 2ms/step - loss: 0.3829 - accuracy: 0.8591\n",
            "Epoch 3/20\n",
            "1875/1875 [==============================] - 3s 2ms/step - loss: 0.3356 - accuracy: 0.8791\n",
            "Epoch 4/20\n",
            "1875/1875 [==============================] - 3s 2ms/step - loss: 0.3134 - accuracy: 0.8844\n",
            "Epoch 5/20\n",
            "1875/1875 [==============================] - 3s 2ms/step - loss: 0.2926 - accuracy: 0.8931\n",
            "Epoch 6/20\n",
            "1875/1875 [==============================] - 3s 2ms/step - loss: 0.2717 - accuracy: 0.8995\n",
            "Epoch 7/20\n",
            "1875/1875 [==============================] - 3s 2ms/step - loss: 0.2663 - accuracy: 0.8997\n",
            "Epoch 8/20\n",
            "1875/1875 [==============================] - 3s 2ms/step - loss: 0.2573 - accuracy: 0.9049\n",
            "Epoch 9/20\n",
            "1875/1875 [==============================] - 3s 2ms/step - loss: 0.2417 - accuracy: 0.9100\n",
            "\n",
            "Reached at less than 0.25 loss so cancelling training!!! \n"
          ],
          "name": "stdout"
        },
        {
          "output_type": "execute_result",
          "data": {
            "text/plain": [
              "<tensorflow.python.keras.callbacks.History at 0x7fe432b75208>"
            ]
          },
          "metadata": {
            "tags": []
          },
          "execution_count": 27
        }
      ]
    },
    {
      "cell_type": "markdown",
      "metadata": {
        "id": "riMH8JZoqjUd"
      },
      "source": [
        "#### Stop when we reached certain level of **accuracy**"
      ]
    },
    {
      "cell_type": "code",
      "metadata": {
        "colab": {
          "base_uri": "https://localhost:8080/"
        },
        "id": "dkDtnpD7qiWC",
        "outputId": "1ee8e6c9-a5f3-4aab-b299-5d59534009e0"
      },
      "source": [
        "class meracallback(tf.keras.callbacks.Callback):  # call name can be anything as we want\r\n",
        "  def on_epoch_end(self,epoch,logs={}): # function name must be same 'on_epoch_end'\r\n",
        "    if(logs.get('accuracy')>0.9):\r\n",
        "      print(\"\\nReached at 90% accuracy so cancelling training!\")\r\n",
        "      self.model.stop_training = True\r\n",
        "\r\n",
        "callbacks = meracallback()\r\n",
        "\r\n",
        "model5 = tf.keras.Sequential([keras.layers.Flatten(),\r\n",
        "                              keras.layers.Dense(128,activation='relu'),\r\n",
        "                              keras.layers.Dense(10,activation='softmax')])\r\n",
        "\r\n",
        "model5.compile(optimizer='adam',loss='sparse_categorical_crossentropy',metrics=['accuracy'])\r\n",
        "\r\n",
        "model5.fit(train_images,train_labels,epochs=20,callbacks=[callbacks])"
      ],
      "execution_count": 26,
      "outputs": [
        {
          "output_type": "stream",
          "text": [
            "Epoch 1/20\n",
            "1875/1875 [==============================] - 3s 2ms/step - loss: 0.6300 - accuracy: 0.7827\n",
            "Epoch 2/20\n",
            "1875/1875 [==============================] - 3s 2ms/step - loss: 0.3765 - accuracy: 0.8658\n",
            "Epoch 3/20\n",
            "1875/1875 [==============================] - 3s 2ms/step - loss: 0.3364 - accuracy: 0.8758\n",
            "Epoch 4/20\n",
            "1875/1875 [==============================] - 3s 2ms/step - loss: 0.3140 - accuracy: 0.8828\n",
            "Epoch 5/20\n",
            "1875/1875 [==============================] - 3s 2ms/step - loss: 0.2993 - accuracy: 0.8893\n",
            "Epoch 6/20\n",
            "1875/1875 [==============================] - 3s 2ms/step - loss: 0.2854 - accuracy: 0.8940\n",
            "Epoch 7/20\n",
            "1875/1875 [==============================] - 3s 2ms/step - loss: 0.2646 - accuracy: 0.9019\n",
            "\n",
            "Reached at 90% accuracy so cancelling training!\n"
          ],
          "name": "stdout"
        },
        {
          "output_type": "execute_result",
          "data": {
            "text/plain": [
              "<tensorflow.python.keras.callbacks.History at 0x7fe432c140b8>"
            ]
          },
          "metadata": {
            "tags": []
          },
          "execution_count": 26
        }
      ]
    },
    {
      "cell_type": "code",
      "metadata": {
        "id": "grR25CjWsALe"
      },
      "source": [
        ""
      ],
      "execution_count": null,
      "outputs": []
    }
  ]
}